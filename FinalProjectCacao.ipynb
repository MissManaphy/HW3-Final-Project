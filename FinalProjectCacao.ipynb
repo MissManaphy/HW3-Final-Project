{
 "cells": [
  {
   "cell_type": "markdown",
   "metadata": {},
   "source": [
    "# Chocolate Bar Ratings - Data Science Final Project\n",
    "### Ariel Todoki, Sophia Anderson, Madison Malone"
   ]
  },
  {
   "cell_type": "code",
   "execution_count": 24,
   "metadata": {},
   "outputs": [],
   "source": [
    "import pandas as pd\n",
    "import numpy as np\n",
    "import matplotlib.pyplot as plt\n",
    "import seaborn as sns\n",
    "\n",
    "# use to display plots in ipython notebook\n",
    "#%matplotlib inline"
   ]
  },
  {
   "cell_type": "markdown",
   "metadata": {},
   "source": [
    "## Read in Data\n",
    "### Path is set so that the csv file is in the same directory as the ipython notebook file\n",
    "### Save as Pandas Data Frame called Cacao"
   ]
  },
  {
   "cell_type": "code",
   "execution_count": 25,
   "metadata": {},
   "outputs": [],
   "source": [
    "cacao = pd.read_csv('flavors_of_cacao.csv')"
   ]
  },
  {
   "cell_type": "code",
   "execution_count": 26,
   "metadata": {},
   "outputs": [],
   "source": [
    "cacao.columns = ['Company', 'SpecificOrigin_BarName','REF','ReviewDate','CocoaPerc','CompLoc','Rating','BeanType','BroadBeanOrigin']"
   ]
  },
  {
   "cell_type": "code",
   "execution_count": 27,
   "metadata": {
    "scrolled": true
   },
   "outputs": [
    {
     "data": {
      "text/html": [
       "<div>\n",
       "<style scoped>\n",
       "    .dataframe tbody tr th:only-of-type {\n",
       "        vertical-align: middle;\n",
       "    }\n",
       "\n",
       "    .dataframe tbody tr th {\n",
       "        vertical-align: top;\n",
       "    }\n",
       "\n",
       "    .dataframe thead th {\n",
       "        text-align: right;\n",
       "    }\n",
       "</style>\n",
       "<table border=\"1\" class=\"dataframe\">\n",
       "  <thead>\n",
       "    <tr style=\"text-align: right;\">\n",
       "      <th></th>\n",
       "      <th>Company</th>\n",
       "      <th>SpecificOrigin_BarName</th>\n",
       "      <th>REF</th>\n",
       "      <th>ReviewDate</th>\n",
       "      <th>CocoaPerc</th>\n",
       "      <th>CompLoc</th>\n",
       "      <th>Rating</th>\n",
       "      <th>BeanType</th>\n",
       "      <th>BroadBeanOrigin</th>\n",
       "    </tr>\n",
       "  </thead>\n",
       "  <tbody>\n",
       "    <tr>\n",
       "      <th>0</th>\n",
       "      <td>A. Morin</td>\n",
       "      <td>Agua Grande</td>\n",
       "      <td>1876</td>\n",
       "      <td>2016</td>\n",
       "      <td>0.63</td>\n",
       "      <td>France</td>\n",
       "      <td>3.75</td>\n",
       "      <td>NaN</td>\n",
       "      <td>Sao Tome</td>\n",
       "    </tr>\n",
       "    <tr>\n",
       "      <th>1</th>\n",
       "      <td>A. Morin</td>\n",
       "      <td>Kpime</td>\n",
       "      <td>1676</td>\n",
       "      <td>2015</td>\n",
       "      <td>0.70</td>\n",
       "      <td>France</td>\n",
       "      <td>2.75</td>\n",
       "      <td>NaN</td>\n",
       "      <td>Togo</td>\n",
       "    </tr>\n",
       "    <tr>\n",
       "      <th>2</th>\n",
       "      <td>A. Morin</td>\n",
       "      <td>Atsane</td>\n",
       "      <td>1676</td>\n",
       "      <td>2015</td>\n",
       "      <td>0.70</td>\n",
       "      <td>France</td>\n",
       "      <td>3.00</td>\n",
       "      <td>NaN</td>\n",
       "      <td>Togo</td>\n",
       "    </tr>\n",
       "    <tr>\n",
       "      <th>3</th>\n",
       "      <td>A. Morin</td>\n",
       "      <td>Akata</td>\n",
       "      <td>1680</td>\n",
       "      <td>2015</td>\n",
       "      <td>0.70</td>\n",
       "      <td>France</td>\n",
       "      <td>3.50</td>\n",
       "      <td>NaN</td>\n",
       "      <td>Togo</td>\n",
       "    </tr>\n",
       "    <tr>\n",
       "      <th>4</th>\n",
       "      <td>A. Morin</td>\n",
       "      <td>Quilla</td>\n",
       "      <td>1704</td>\n",
       "      <td>2015</td>\n",
       "      <td>0.70</td>\n",
       "      <td>France</td>\n",
       "      <td>3.50</td>\n",
       "      <td>NaN</td>\n",
       "      <td>Peru</td>\n",
       "    </tr>\n",
       "  </tbody>\n",
       "</table>\n",
       "</div>"
      ],
      "text/plain": [
       "    Company SpecificOrigin_BarName   REF  ReviewDate  CocoaPerc CompLoc  \\\n",
       "0  A. Morin            Agua Grande  1876        2016       0.63  France   \n",
       "1  A. Morin                  Kpime  1676        2015       0.70  France   \n",
       "2  A. Morin                 Atsane  1676        2015       0.70  France   \n",
       "3  A. Morin                  Akata  1680        2015       0.70  France   \n",
       "4  A. Morin                 Quilla  1704        2015       0.70  France   \n",
       "\n",
       "   Rating BeanType BroadBeanOrigin  \n",
       "0    3.75      NaN        Sao Tome  \n",
       "1    2.75      NaN            Togo  \n",
       "2    3.00      NaN            Togo  \n",
       "3    3.50      NaN            Togo  \n",
       "4    3.50      NaN            Peru  "
      ]
     },
     "execution_count": 27,
     "metadata": {},
     "output_type": "execute_result"
    }
   ],
   "source": [
    "cacao.head()"
   ]
  },
  {
   "cell_type": "code",
   "execution_count": 28,
   "metadata": {},
   "outputs": [
    {
     "name": "stdout",
     "output_type": "stream",
     "text": [
      "<class 'pandas.core.frame.DataFrame'>\n",
      "RangeIndex: 1795 entries, 0 to 1794\n",
      "Data columns (total 9 columns):\n",
      "Company                   1795 non-null object\n",
      "SpecificOrigin_BarName    1795 non-null object\n",
      "REF                       1795 non-null int64\n",
      "ReviewDate                1795 non-null int64\n",
      "CocoaPerc                 1795 non-null float64\n",
      "CompLoc                   1795 non-null object\n",
      "Rating                    1795 non-null float64\n",
      "BeanType                  907 non-null object\n",
      "BroadBeanOrigin           1721 non-null object\n",
      "dtypes: float64(2), int64(2), object(5)\n",
      "memory usage: 126.3+ KB\n"
     ]
    }
   ],
   "source": [
    "cacao.info()"
   ]
  },
  {
   "cell_type": "markdown",
   "metadata": {},
   "source": [
    "### Sort by Rating, highest to lowest"
   ]
  },
  {
   "cell_type": "code",
   "execution_count": 29,
   "metadata": {
    "scrolled": true
   },
   "outputs": [
    {
     "data": {
      "text/html": [
       "<div>\n",
       "<style scoped>\n",
       "    .dataframe tbody tr th:only-of-type {\n",
       "        vertical-align: middle;\n",
       "    }\n",
       "\n",
       "    .dataframe tbody tr th {\n",
       "        vertical-align: top;\n",
       "    }\n",
       "\n",
       "    .dataframe thead th {\n",
       "        text-align: right;\n",
       "    }\n",
       "</style>\n",
       "<table border=\"1\" class=\"dataframe\">\n",
       "  <thead>\n",
       "    <tr style=\"text-align: right;\">\n",
       "      <th></th>\n",
       "      <th>Company</th>\n",
       "      <th>SpecificOrigin_BarName</th>\n",
       "      <th>REF</th>\n",
       "      <th>ReviewDate</th>\n",
       "      <th>CocoaPerc</th>\n",
       "      <th>CompLoc</th>\n",
       "      <th>Rating</th>\n",
       "      <th>BeanType</th>\n",
       "      <th>BroadBeanOrigin</th>\n",
       "    </tr>\n",
       "  </thead>\n",
       "  <tbody>\n",
       "    <tr>\n",
       "      <th>78</th>\n",
       "      <td>Amedei</td>\n",
       "      <td>Chuao</td>\n",
       "      <td>111</td>\n",
       "      <td>2007</td>\n",
       "      <td>0.70</td>\n",
       "      <td>Italy</td>\n",
       "      <td>5.0</td>\n",
       "      <td>Trinitario</td>\n",
       "      <td>Venezuela</td>\n",
       "    </tr>\n",
       "    <tr>\n",
       "      <th>86</th>\n",
       "      <td>Amedei</td>\n",
       "      <td>Toscano Black</td>\n",
       "      <td>40</td>\n",
       "      <td>2006</td>\n",
       "      <td>0.70</td>\n",
       "      <td>Italy</td>\n",
       "      <td>5.0</td>\n",
       "      <td>Blend</td>\n",
       "      <td>NaN</td>\n",
       "    </tr>\n",
       "    <tr>\n",
       "      <th>222</th>\n",
       "      <td>Bonnat</td>\n",
       "      <td>Kaori</td>\n",
       "      <td>1339</td>\n",
       "      <td>2014</td>\n",
       "      <td>0.75</td>\n",
       "      <td>France</td>\n",
       "      <td>4.0</td>\n",
       "      <td>NaN</td>\n",
       "      <td>Brazil</td>\n",
       "    </tr>\n",
       "    <tr>\n",
       "      <th>76</th>\n",
       "      <td>Amedei</td>\n",
       "      <td>Porcelana</td>\n",
       "      <td>111</td>\n",
       "      <td>2007</td>\n",
       "      <td>0.70</td>\n",
       "      <td>Italy</td>\n",
       "      <td>4.0</td>\n",
       "      <td>Criollo (Porcelana)</td>\n",
       "      <td>Venezuela</td>\n",
       "    </tr>\n",
       "    <tr>\n",
       "      <th>1663</th>\n",
       "      <td>Tobago Estate (Pralus)</td>\n",
       "      <td>Roxborough, Tobago</td>\n",
       "      <td>895</td>\n",
       "      <td>2012</td>\n",
       "      <td>0.70</td>\n",
       "      <td>France</td>\n",
       "      <td>4.0</td>\n",
       "      <td>Trinitario</td>\n",
       "      <td>Tobago</td>\n",
       "    </tr>\n",
       "  </tbody>\n",
       "</table>\n",
       "</div>"
      ],
      "text/plain": [
       "                     Company SpecificOrigin_BarName   REF  ReviewDate  \\\n",
       "78                    Amedei                  Chuao   111        2007   \n",
       "86                    Amedei          Toscano Black    40        2006   \n",
       "222                   Bonnat                  Kaori  1339        2014   \n",
       "76                    Amedei              Porcelana   111        2007   \n",
       "1663  Tobago Estate (Pralus)     Roxborough, Tobago   895        2012   \n",
       "\n",
       "      CocoaPerc CompLoc  Rating             BeanType BroadBeanOrigin  \n",
       "78         0.70   Italy     5.0           Trinitario       Venezuela  \n",
       "86         0.70   Italy     5.0                Blend             NaN  \n",
       "222        0.75  France     4.0                  NaN          Brazil  \n",
       "76         0.70   Italy     4.0  Criollo (Porcelana)       Venezuela  \n",
       "1663       0.70  France     4.0           Trinitario          Tobago  "
      ]
     },
     "execution_count": 29,
     "metadata": {},
     "output_type": "execute_result"
    }
   ],
   "source": [
    "sort_rating = cacao.sort_values(by = 'Rating', ascending = False)\n",
    "sort_rating.head()"
   ]
  },
  {
   "cell_type": "markdown",
   "metadata": {},
   "source": [
    "### Sort by cocoa percent, lowest to highest"
   ]
  },
  {
   "cell_type": "code",
   "execution_count": 30,
   "metadata": {},
   "outputs": [
    {
     "data": {
      "text/html": [
       "<div>\n",
       "<style scoped>\n",
       "    .dataframe tbody tr th:only-of-type {\n",
       "        vertical-align: middle;\n",
       "    }\n",
       "\n",
       "    .dataframe tbody tr th {\n",
       "        vertical-align: top;\n",
       "    }\n",
       "\n",
       "    .dataframe thead th {\n",
       "        text-align: right;\n",
       "    }\n",
       "</style>\n",
       "<table border=\"1\" class=\"dataframe\">\n",
       "  <thead>\n",
       "    <tr style=\"text-align: right;\">\n",
       "      <th></th>\n",
       "      <th>Company</th>\n",
       "      <th>SpecificOrigin_BarName</th>\n",
       "      <th>REF</th>\n",
       "      <th>ReviewDate</th>\n",
       "      <th>CocoaPerc</th>\n",
       "      <th>CompLoc</th>\n",
       "      <th>Rating</th>\n",
       "      <th>BeanType</th>\n",
       "      <th>BroadBeanOrigin</th>\n",
       "    </tr>\n",
       "  </thead>\n",
       "  <tbody>\n",
       "    <tr>\n",
       "      <th>429</th>\n",
       "      <td>Chokolat Elot (Girard)</td>\n",
       "      <td>Guadeloupe</td>\n",
       "      <td>1149</td>\n",
       "      <td>2013</td>\n",
       "      <td>0.42</td>\n",
       "      <td>Martinique</td>\n",
       "      <td>2.75</td>\n",
       "      <td>NaN</td>\n",
       "      <td>Martinique</td>\n",
       "    </tr>\n",
       "    <tr>\n",
       "      <th>984</th>\n",
       "      <td>Luker</td>\n",
       "      <td>Selva</td>\n",
       "      <td>552</td>\n",
       "      <td>2010</td>\n",
       "      <td>0.46</td>\n",
       "      <td>Colombia</td>\n",
       "      <td>2.75</td>\n",
       "      <td>NaN</td>\n",
       "      <td>Colombia, Ecuador</td>\n",
       "    </tr>\n",
       "    <tr>\n",
       "      <th>90</th>\n",
       "      <td>AMMA</td>\n",
       "      <td>Monte Alegre, 3 diff. plantations</td>\n",
       "      <td>572</td>\n",
       "      <td>2010</td>\n",
       "      <td>0.50</td>\n",
       "      <td>Brazil</td>\n",
       "      <td>3.75</td>\n",
       "      <td>Forastero (Parazinho)</td>\n",
       "      <td>Brazil</td>\n",
       "    </tr>\n",
       "    <tr>\n",
       "      <th>1423</th>\n",
       "      <td>Santander (Compania Nacional)</td>\n",
       "      <td>Colombian Semi Dark</td>\n",
       "      <td>32</td>\n",
       "      <td>2006</td>\n",
       "      <td>0.53</td>\n",
       "      <td>Colombia</td>\n",
       "      <td>2.00</td>\n",
       "      <td>Forastero (Nacional)</td>\n",
       "      <td>Colombia</td>\n",
       "    </tr>\n",
       "    <tr>\n",
       "      <th>1350</th>\n",
       "      <td>Q Chocolate</td>\n",
       "      <td>Brazil</td>\n",
       "      <td>1069</td>\n",
       "      <td>2013</td>\n",
       "      <td>0.55</td>\n",
       "      <td>Brazil</td>\n",
       "      <td>2.75</td>\n",
       "      <td>NaN</td>\n",
       "      <td>Brazil</td>\n",
       "    </tr>\n",
       "  </tbody>\n",
       "</table>\n",
       "</div>"
      ],
      "text/plain": [
       "                            Company             SpecificOrigin_BarName   REF  \\\n",
       "429          Chokolat Elot (Girard)                         Guadeloupe  1149   \n",
       "984                           Luker                              Selva   552   \n",
       "90                             AMMA  Monte Alegre, 3 diff. plantations   572   \n",
       "1423  Santander (Compania Nacional)                Colombian Semi Dark    32   \n",
       "1350                    Q Chocolate                             Brazil  1069   \n",
       "\n",
       "      ReviewDate  CocoaPerc     CompLoc  Rating               BeanType  \\\n",
       "429         2013       0.42  Martinique    2.75                    NaN   \n",
       "984         2010       0.46    Colombia    2.75                    NaN   \n",
       "90          2010       0.50      Brazil    3.75  Forastero (Parazinho)   \n",
       "1423        2006       0.53    Colombia    2.00   Forastero (Nacional)   \n",
       "1350        2013       0.55      Brazil    2.75                    NaN   \n",
       "\n",
       "        BroadBeanOrigin  \n",
       "429          Martinique  \n",
       "984   Colombia, Ecuador  \n",
       "90               Brazil  \n",
       "1423           Colombia  \n",
       "1350             Brazil  "
      ]
     },
     "execution_count": 30,
     "metadata": {},
     "output_type": "execute_result"
    }
   ],
   "source": [
    "sort_percent = cacao.sort_values(by = 'CocoaPerc')\n",
    "sort_percent.head()"
   ]
  },
  {
   "cell_type": "markdown",
   "metadata": {},
   "source": [
    "## Find the max rating from each company"
   ]
  },
  {
   "cell_type": "code",
   "execution_count": 31,
   "metadata": {},
   "outputs": [
    {
     "data": {
      "text/plain": [
       "Company\n",
       "Amedei      5.0\n",
       "A. Morin    4.0\n",
       "Danta       4.0\n",
       "Durci       4.0\n",
       "Ritual      4.0\n",
       "Name: Rating, dtype: float64"
      ]
     },
     "execution_count": 31,
     "metadata": {},
     "output_type": "execute_result"
    }
   ],
   "source": [
    "maxCompRating = cacao.groupby('Company')['Rating'].max()\n",
    "maxCompRating = maxCompRating.sort_values(ascending = False)\n",
    "maxCompRating.head()"
   ]
  },
  {
   "cell_type": "markdown",
   "metadata": {},
   "source": [
    "## Histograms of Ratings"
   ]
  },
  {
   "cell_type": "code",
   "execution_count": 32,
   "metadata": {},
   "outputs": [
    {
     "data": {
      "text/plain": [
       "(array([  4.,  13.,  32., 141., 259., 644., 602.,  98.,   0.,   2.]),\n",
       " array([1. , 1.4, 1.8, 2.2, 2.6, 3. , 3.4, 3.8, 4.2, 4.6, 5. ]),\n",
       " <a list of 10 Patch objects>)"
      ]
     },
     "execution_count": 32,
     "metadata": {},
     "output_type": "execute_result"
    },
    {
     "data": {
      "image/png": "[encoded data removed]",
      "text/plain": [
       "<matplotlib.figure.Figure at 0x1a1ef87c88>"
      ]
     },
     "metadata": {},
     "output_type": "display_data"
    }
   ],
   "source": [
    "plt.hist(cacao[cacao.columns[6]])"
   ]
  },
  {
   "cell_type": "code",
   "execution_count": 35,
   "metadata": {},
   "outputs": [
    {
     "data": {
      "text/html": [
       "<div>\n",
       "<style scoped>\n",
       "    .dataframe tbody tr th:only-of-type {\n",
       "        vertical-align: middle;\n",
       "    }\n",
       "\n",
       "    .dataframe tbody tr th {\n",
       "        vertical-align: top;\n",
       "    }\n",
       "\n",
       "    .dataframe thead th {\n",
       "        text-align: right;\n",
       "    }\n",
       "</style>\n",
       "<table border=\"1\" class=\"dataframe\">\n",
       "  <thead>\n",
       "    <tr style=\"text-align: right;\">\n",
       "      <th>Company</th>\n",
       "      <th>A. Morin</th>\n",
       "      <th>AMMA</th>\n",
       "      <th>Acalli</th>\n",
       "      <th>Adi</th>\n",
       "      <th>Aequare (Gianduja)</th>\n",
       "      <th>Ah Cacao</th>\n",
       "      <th>Akesson's (Pralus)</th>\n",
       "      <th>Alain Ducasse</th>\n",
       "      <th>Alexandre</th>\n",
       "      <th>Altus aka Cao Artisan</th>\n",
       "      <th>...</th>\n",
       "      <th>Xocolla</th>\n",
       "      <th>Zak's</th>\n",
       "      <th>Zart Pralinen</th>\n",
       "      <th>Zokoko</th>\n",
       "      <th>Zotter</th>\n",
       "      <th>hello cocoa</th>\n",
       "      <th>hexx</th>\n",
       "      <th>iQ Chocolate</th>\n",
       "      <th>organicfair</th>\n",
       "      <th>twenty-four blackbirds</th>\n",
       "    </tr>\n",
       "  </thead>\n",
       "  <tbody>\n",
       "    <tr>\n",
       "      <th>Rating</th>\n",
       "      <td>3.380435</td>\n",
       "      <td>3.5</td>\n",
       "      <td>3.75</td>\n",
       "      <td>3.25</td>\n",
       "      <td>2.875</td>\n",
       "      <td>3.0</td>\n",
       "      <td>3.083333</td>\n",
       "      <td>2.7</td>\n",
       "      <td>3.5</td>\n",
       "      <td>2.85</td>\n",
       "      <td>...</td>\n",
       "      <td>2.625</td>\n",
       "      <td>3.208333</td>\n",
       "      <td>3.166667</td>\n",
       "      <td>3.55</td>\n",
       "      <td>3.308824</td>\n",
       "      <td>3.125</td>\n",
       "      <td>3.05</td>\n",
       "      <td>2.875</td>\n",
       "      <td>2.85</td>\n",
       "      <td>3.041667</td>\n",
       "    </tr>\n",
       "  </tbody>\n",
       "</table>\n",
       "<p>1 rows × 416 columns</p>\n",
       "</div>"
      ],
      "text/plain": [
       "Company  A. Morin  AMMA  Acalli   Adi  Aequare (Gianduja)  Ah Cacao  \\\n",
       "Rating   3.380435   3.5    3.75  3.25               2.875       3.0   \n",
       "\n",
       "Company  Akesson's (Pralus)  Alain Ducasse  Alexandre  Altus aka Cao Artisan  \\\n",
       "Rating             3.083333            2.7        3.5                   2.85   \n",
       "\n",
       "Company           ...            Xocolla     Zak's  Zart Pralinen  Zokoko  \\\n",
       "Rating            ...              2.625  3.208333       3.166667    3.55   \n",
       "\n",
       "Company    Zotter  hello cocoa  hexx  iQ Chocolate  organicfair  \\\n",
       "Rating   3.308824        3.125  3.05         2.875         2.85   \n",
       "\n",
       "Company  twenty-four blackbirds  \n",
       "Rating                 3.041667  \n",
       "\n",
       "[1 rows x 416 columns]"
      ]
     },
     "execution_count": 35,
     "metadata": {},
     "output_type": "execute_result"
    }
   ],
   "source": [
    "# mean rating for each company\n",
    "cacao.pivot_table('Rating', columns = 'Company', aggfunc = np.mean)"
   ]
  },
  {
   "cell_type": "code",
   "execution_count": 36,
   "metadata": {},
   "outputs": [
    {
     "data": {
      "text/plain": [
       "BroadBeanOrigin\n",
       "Africa, Carribean, C. Am.    2.750000\n",
       "Australia                    3.250000\n",
       "Belize                       3.234694\n",
       "Bolivia                      3.197368\n",
       "Brazil                       3.284483\n",
       "Name: Rating, dtype: float64"
      ]
     },
     "execution_count": 36,
     "metadata": {},
     "output_type": "execute_result"
    }
   ],
   "source": [
    "# mean rating from each broad bean origin location\n",
    "bbo = cacao.groupby('BroadBeanOrigin')['Rating'].mean()\n",
    "bbo.head()"
   ]
  },
  {
   "cell_type": "code",
   "execution_count": 37,
   "metadata": {},
   "outputs": [],
   "source": [
    "#subsets into relevant columns\n",
    "relevant = cacao.iloc[:, [0, 4, 6, 7, 8]]\n",
    "\n",
    "#gives df with data points that have a Bean Type\n",
    "with_bt = relevant.dropna(axis=0, subset=[\"BeanType\"])\n",
    "\n",
    "#gives df with data points that have a BBO\n",
    "with_bbo = relevant.dropna(axis=0, subset=[\"BroadBeanOrigin\"])\n",
    "\n",
    "#gives df with data points that have a BBO and a BT\n",
    "with_both = relevant.dropna(axis=0, how='any')\n",
    "\n",
    "\n",
    "#add min max columns to the table, maybe averages too?\n",
    "# add a count of how many bars are in that catagory\n",
    "##these are 3 seperate tables\n",
    "\n",
    "\n",
    "#ask professor how to work with words bc the broad bean origin is shaky\n",
    "## use examples from the babay names lab thing\n",
    "#get screenshots of the maps from Tableau to put in doument and presentation\n",
    "#talk to her about how to run a knn when you've only got 2 types of numbers to work with\n",
    "\n"
   ]
  },
  {
   "cell_type": "code",
   "execution_count": 146,
   "metadata": {},
   "outputs": [
    {
     "data": {
      "text/plain": [
       "BroadBeanOrigin\n",
       "Belize       3.216667\n",
       "Bolivia      3.294118\n",
       "Brazil       3.333333\n",
       "Cameroon     3.250000\n",
       "Carribean    3.250000\n",
       "Name: Rating, dtype: float64"
      ]
     },
     "execution_count": 146,
     "metadata": {},
     "output_type": "execute_result"
    }
   ],
   "source": [
    "with_bt.groupby('BroadBeanOrigin')['Rating'].mean().head()"
   ]
  },
  {
   "cell_type": "code",
   "execution_count": 39,
   "metadata": {},
   "outputs": [
    {
     "data": {
      "text/html": [
       "<div>\n",
       "<style scoped>\n",
       "    .dataframe tbody tr th:only-of-type {\n",
       "        vertical-align: middle;\n",
       "    }\n",
       "\n",
       "    .dataframe tbody tr th {\n",
       "        vertical-align: top;\n",
       "    }\n",
       "\n",
       "    .dataframe thead th {\n",
       "        text-align: right;\n",
       "    }\n",
       "</style>\n",
       "<table border=\"1\" class=\"dataframe\">\n",
       "  <thead>\n",
       "    <tr style=\"text-align: right;\">\n",
       "      <th></th>\n",
       "      <th>Company</th>\n",
       "      <th>CocoaPerc</th>\n",
       "      <th>Rating</th>\n",
       "      <th>BeanType</th>\n",
       "      <th>BroadBeanOrigin</th>\n",
       "    </tr>\n",
       "  </thead>\n",
       "  <tbody>\n",
       "    <tr>\n",
       "      <th>0</th>\n",
       "      <td>A. Morin</td>\n",
       "      <td>0.63</td>\n",
       "      <td>3.75</td>\n",
       "      <td>NaN</td>\n",
       "      <td>Sao Tome</td>\n",
       "    </tr>\n",
       "    <tr>\n",
       "      <th>1</th>\n",
       "      <td>A. Morin</td>\n",
       "      <td>0.70</td>\n",
       "      <td>2.75</td>\n",
       "      <td>NaN</td>\n",
       "      <td>Togo</td>\n",
       "    </tr>\n",
       "    <tr>\n",
       "      <th>2</th>\n",
       "      <td>A. Morin</td>\n",
       "      <td>0.70</td>\n",
       "      <td>3.00</td>\n",
       "      <td>NaN</td>\n",
       "      <td>Togo</td>\n",
       "    </tr>\n",
       "    <tr>\n",
       "      <th>3</th>\n",
       "      <td>A. Morin</td>\n",
       "      <td>0.70</td>\n",
       "      <td>3.50</td>\n",
       "      <td>NaN</td>\n",
       "      <td>Togo</td>\n",
       "    </tr>\n",
       "    <tr>\n",
       "      <th>4</th>\n",
       "      <td>A. Morin</td>\n",
       "      <td>0.70</td>\n",
       "      <td>3.50</td>\n",
       "      <td>NaN</td>\n",
       "      <td>Peru</td>\n",
       "    </tr>\n",
       "  </tbody>\n",
       "</table>\n",
       "</div>"
      ],
      "text/plain": [
       "    Company  CocoaPerc  Rating BeanType BroadBeanOrigin\n",
       "0  A. Morin       0.63    3.75      NaN        Sao Tome\n",
       "1  A. Morin       0.70    2.75      NaN            Togo\n",
       "2  A. Morin       0.70    3.00      NaN            Togo\n",
       "3  A. Morin       0.70    3.50      NaN            Togo\n",
       "4  A. Morin       0.70    3.50      NaN            Peru"
      ]
     },
     "execution_count": 39,
     "metadata": {},
     "output_type": "execute_result"
    }
   ],
   "source": [
    "with_bbo.head()"
   ]
  },
  {
   "cell_type": "code",
   "execution_count": 40,
   "metadata": {},
   "outputs": [
    {
     "data": {
      "text/html": [
       "<div>\n",
       "<style scoped>\n",
       "    .dataframe tbody tr th:only-of-type {\n",
       "        vertical-align: middle;\n",
       "    }\n",
       "\n",
       "    .dataframe tbody tr th {\n",
       "        vertical-align: top;\n",
       "    }\n",
       "\n",
       "    .dataframe thead th {\n",
       "        text-align: right;\n",
       "    }\n",
       "</style>\n",
       "<table border=\"1\" class=\"dataframe\">\n",
       "  <thead>\n",
       "    <tr style=\"text-align: right;\">\n",
       "      <th></th>\n",
       "      <th>Company</th>\n",
       "      <th>CocoaPerc</th>\n",
       "      <th>Rating</th>\n",
       "      <th>BeanType</th>\n",
       "      <th>BroadBeanOrigin</th>\n",
       "    </tr>\n",
       "  </thead>\n",
       "  <tbody>\n",
       "    <tr>\n",
       "      <th>5</th>\n",
       "      <td>A. Morin</td>\n",
       "      <td>0.7</td>\n",
       "      <td>2.75</td>\n",
       "      <td>Criollo</td>\n",
       "      <td>Venezuela</td>\n",
       "    </tr>\n",
       "    <tr>\n",
       "      <th>7</th>\n",
       "      <td>A. Morin</td>\n",
       "      <td>0.7</td>\n",
       "      <td>3.50</td>\n",
       "      <td>Criollo</td>\n",
       "      <td>Venezuela</td>\n",
       "    </tr>\n",
       "    <tr>\n",
       "      <th>8</th>\n",
       "      <td>A. Morin</td>\n",
       "      <td>0.7</td>\n",
       "      <td>3.75</td>\n",
       "      <td>Criollo</td>\n",
       "      <td>Venezuela</td>\n",
       "    </tr>\n",
       "    <tr>\n",
       "      <th>11</th>\n",
       "      <td>A. Morin</td>\n",
       "      <td>0.7</td>\n",
       "      <td>3.00</td>\n",
       "      <td>Criollo</td>\n",
       "      <td>Madagascar</td>\n",
       "    </tr>\n",
       "    <tr>\n",
       "      <th>17</th>\n",
       "      <td>A. Morin</td>\n",
       "      <td>0.7</td>\n",
       "      <td>4.00</td>\n",
       "      <td>Trinitario</td>\n",
       "      <td>Venezuela</td>\n",
       "    </tr>\n",
       "  </tbody>\n",
       "</table>\n",
       "</div>"
      ],
      "text/plain": [
       "     Company  CocoaPerc  Rating    BeanType BroadBeanOrigin\n",
       "5   A. Morin        0.7    2.75     Criollo       Venezuela\n",
       "7   A. Morin        0.7    3.50     Criollo       Venezuela\n",
       "8   A. Morin        0.7    3.75     Criollo       Venezuela\n",
       "11  A. Morin        0.7    3.00     Criollo      Madagascar\n",
       "17  A. Morin        0.7    4.00  Trinitario       Venezuela"
      ]
     },
     "execution_count": 40,
     "metadata": {},
     "output_type": "execute_result"
    }
   ],
   "source": [
    "with_both.head()"
   ]
  },
  {
   "cell_type": "code",
   "execution_count": 153,
   "metadata": {},
   "outputs": [
    {
     "data": {
      "text/plain": [
       "array(['Criollo', 'Trinitario', 'Forastero (Arriba)', 'Forastero',\n",
       "       'Forastero (Nacional)', 'Criollo, Trinitario',\n",
       "       'Criollo (Porcelana)', 'Blend', 'Trinitario (85% Criollo)',\n",
       "       'Forastero (Catongo)', 'Forastero (Parazinho)',\n",
       "       'Trinitario, Criollo', 'CCN51', 'Criollo (Ocumare)', 'Nacional',\n",
       "       'Criollo (Ocumare 61)', 'Criollo (Ocumare 77)',\n",
       "       'Criollo (Ocumare 67)', 'Criollo (Wild)', 'Beniano', 'Amazon mix',\n",
       "       'Trinitario, Forastero', 'Forastero (Arriba) ASS', 'Criollo, +',\n",
       "       'Amazon', 'Amazon, ICS', 'EET', 'Blend-Forastero,Criollo',\n",
       "       'Trinitario (Scavina)', 'Criollo, Forastero', 'Matina',\n",
       "       'Forastero(Arriba, CCN)', 'Nacional (Arriba)',\n",
       "       'Forastero (Arriba) ASSS', 'Forastero, Trinitario',\n",
       "       'Forastero (Amelonado)', 'Trinitario, Nacional',\n",
       "       'Trinitario (Amelonado)', 'Trinitario, TCGA', 'Criollo (Amarru)'],\n",
       "      dtype=object)"
      ]
     },
     "execution_count": 153,
     "metadata": {},
     "output_type": "execute_result"
    }
   ],
   "source": [
    "uniqueBean = with_bt.BeanType.unique()\n",
    "uniqueBean"
   ]
  },
  {
   "cell_type": "code",
   "execution_count": 154,
   "metadata": {},
   "outputs": [
    {
     "data": {
      "text/plain": [
       "array(['Criollo', 'Criollo, Trinitario', 'Criollo (Porcelana)',\n",
       "       'Trinitario (85% Criollo)', 'Trinitario, Criollo',\n",
       "       'Criollo (Ocumare)', 'Criollo (Ocumare 61)',\n",
       "       'Criollo (Ocumare 77)', 'Criollo (Ocumare 67)', 'Criollo (Wild)',\n",
       "       'Criollo, +', 'Blend-Forastero,Criollo', 'Criollo, Forastero',\n",
       "       'Criollo (Amarru)'], dtype=object)"
      ]
     },
     "execution_count": 154,
     "metadata": {},
     "output_type": "execute_result"
    }
   ],
   "source": [
    "#grabs all the bars that have the criollo bean in their mix\n",
    "crio_mask = np.array(['criollo' in x.lower() for x in uniqueBean])\n",
    "all_Crio = uniqueBean[crio_mask]\n",
    "all_Crio"
   ]
  },
  {
   "cell_type": "code",
   "execution_count": 155,
   "metadata": {},
   "outputs": [
    {
     "data": {
      "text/plain": [
       "array(['Trinitario', 'Criollo, Trinitario', 'Trinitario (85% Criollo)',\n",
       "       'Trinitario, Criollo', 'Trinitario, Forastero',\n",
       "       'Trinitario (Scavina)', 'Forastero, Trinitario',\n",
       "       'Trinitario, Nacional', 'Trinitario (Amelonado)',\n",
       "       'Trinitario, TCGA'], dtype=object)"
      ]
     },
     "execution_count": 155,
     "metadata": {},
     "output_type": "execute_result"
    }
   ],
   "source": [
    "#grabs all the bars that have the trinitario bean in their mix\n",
    "trini_mask = np.array(['trinitario' in x.lower() for x in uniqueBean])\n",
    "all_Trini = uniqueBean[trini_mask]\n",
    "all_Trini"
   ]
  },
  {
   "cell_type": "code",
   "execution_count": 156,
   "metadata": {},
   "outputs": [
    {
     "data": {
      "text/plain": [
       "array(['Forastero (Arriba)', 'Forastero', 'Forastero (Nacional)',\n",
       "       'Forastero (Catongo)', 'Forastero (Parazinho)',\n",
       "       'Trinitario, Forastero', 'Forastero (Arriba) ASS',\n",
       "       'Blend-Forastero,Criollo', 'Criollo, Forastero',\n",
       "       'Forastero(Arriba, CCN)', 'Forastero (Arriba) ASSS',\n",
       "       'Forastero, Trinitario', 'Forastero (Amelonado)'], dtype=object)"
      ]
     },
     "execution_count": 156,
     "metadata": {},
     "output_type": "execute_result"
    }
   ],
   "source": [
    "#grabs all the bars that have the forastero bean in their mix\n",
    "fora_mask = np.array(['forastero' in x.lower() for x in uniqueBean])\n",
    "all_Fora = uniqueBean[fora_mask]\n",
    "all_Fora"
   ]
  },
  {
   "cell_type": "code",
   "execution_count": 171,
   "metadata": {},
   "outputs": [
    {
     "data": {
      "text/plain": [
       "array(['Blend', 'Blend-Forastero,Criollo'], dtype=object)"
      ]
     },
     "execution_count": 171,
     "metadata": {},
     "output_type": "execute_result"
    }
   ],
   "source": [
    "#grabs all the bars that are a blend\n",
    "blend_mask = np.array(['blend' in x.lower() for x in uniqueBean])\n",
    "all_Blend = uniqueBean[blend_mask]\n",
    "all_Blend"
   ]
  },
  {
   "cell_type": "code",
   "execution_count": 45,
   "metadata": {},
   "outputs": [
    {
     "data": {
      "text/html": [
       "<div>\n",
       "<style scoped>\n",
       "    .dataframe tbody tr th:only-of-type {\n",
       "        vertical-align: middle;\n",
       "    }\n",
       "\n",
       "    .dataframe tbody tr th {\n",
       "        vertical-align: top;\n",
       "    }\n",
       "\n",
       "    .dataframe thead th {\n",
       "        text-align: right;\n",
       "    }\n",
       "</style>\n",
       "<table border=\"1\" class=\"dataframe\">\n",
       "  <thead>\n",
       "    <tr style=\"text-align: right;\">\n",
       "      <th></th>\n",
       "      <th>Company</th>\n",
       "      <th>CocoaPerc</th>\n",
       "      <th>Rating</th>\n",
       "      <th>BeanType</th>\n",
       "      <th>BroadBeanOrigin</th>\n",
       "    </tr>\n",
       "  </thead>\n",
       "  <tbody>\n",
       "    <tr>\n",
       "      <th>5</th>\n",
       "      <td>A. Morin</td>\n",
       "      <td>0.7</td>\n",
       "      <td>2.75</td>\n",
       "      <td>Criollo</td>\n",
       "      <td>Venezuela</td>\n",
       "    </tr>\n",
       "    <tr>\n",
       "      <th>7</th>\n",
       "      <td>A. Morin</td>\n",
       "      <td>0.7</td>\n",
       "      <td>3.50</td>\n",
       "      <td>Criollo</td>\n",
       "      <td>Venezuela</td>\n",
       "    </tr>\n",
       "    <tr>\n",
       "      <th>8</th>\n",
       "      <td>A. Morin</td>\n",
       "      <td>0.7</td>\n",
       "      <td>3.75</td>\n",
       "      <td>Criollo</td>\n",
       "      <td>Venezuela</td>\n",
       "    </tr>\n",
       "    <tr>\n",
       "      <th>11</th>\n",
       "      <td>A. Morin</td>\n",
       "      <td>0.7</td>\n",
       "      <td>3.00</td>\n",
       "      <td>Criollo</td>\n",
       "      <td>Madagascar</td>\n",
       "    </tr>\n",
       "    <tr>\n",
       "      <th>24</th>\n",
       "      <td>Acalli</td>\n",
       "      <td>0.7</td>\n",
       "      <td>3.75</td>\n",
       "      <td>Criollo</td>\n",
       "      <td>Peru</td>\n",
       "    </tr>\n",
       "  </tbody>\n",
       "</table>\n",
       "</div>"
      ],
      "text/plain": [
       "     Company  CocoaPerc  Rating BeanType BroadBeanOrigin\n",
       "5   A. Morin        0.7    2.75  Criollo       Venezuela\n",
       "7   A. Morin        0.7    3.50  Criollo       Venezuela\n",
       "8   A. Morin        0.7    3.75  Criollo       Venezuela\n",
       "11  A. Morin        0.7    3.00  Criollo      Madagascar\n",
       "24    Acalli        0.7    3.75  Criollo            Peru"
      ]
     },
     "execution_count": 45,
     "metadata": {},
     "output_type": "execute_result"
    }
   ],
   "source": [
    "#filter data to get selected beans\n",
    "crioFilter = with_bt[with_bt.BeanType.isin(all_Crio)]\n",
    "crioFilter.head()"
   ]
  },
  {
   "cell_type": "code",
   "execution_count": 23,
   "metadata": {
    "collapsed": true
   },
   "outputs": [],
   "source": [
    "#plot the cocoa percentage vs rating in scatter plot\n",
    "fig1 = sns.lmplot(x= 'Rating', y = 'CocoaPerc', data = crioFilter)"
   ]
  },
  {
   "cell_type": "code",
   "execution_count": 24,
   "metadata": {},
   "outputs": [
    {
     "data": {
      "text/html": [
       "<div>\n",
       "<style>\n",
       "    .dataframe thead tr:only-child th {\n",
       "        text-align: right;\n",
       "    }\n",
       "\n",
       "    .dataframe thead th {\n",
       "        text-align: left;\n",
       "    }\n",
       "\n",
       "    .dataframe tbody tr th {\n",
       "        vertical-align: top;\n",
       "    }\n",
       "</style>\n",
       "<table border=\"1\" class=\"dataframe\">\n",
       "  <thead>\n",
       "    <tr style=\"text-align: right;\">\n",
       "      <th></th>\n",
       "      <th>Company</th>\n",
       "      <th>CocoaPerc</th>\n",
       "      <th>Rating</th>\n",
       "      <th>BeanType</th>\n",
       "      <th>BroadBeanOrigin</th>\n",
       "    </tr>\n",
       "  </thead>\n",
       "  <tbody>\n",
       "    <tr>\n",
       "      <th>17</th>\n",
       "      <td>A. Morin</td>\n",
       "      <td>0.70</td>\n",
       "      <td>4.00</td>\n",
       "      <td>Trinitario</td>\n",
       "      <td>Venezuela</td>\n",
       "    </tr>\n",
       "    <tr>\n",
       "      <th>25</th>\n",
       "      <td>Adi</td>\n",
       "      <td>0.60</td>\n",
       "      <td>2.75</td>\n",
       "      <td>Trinitario</td>\n",
       "      <td>Fiji</td>\n",
       "    </tr>\n",
       "    <tr>\n",
       "      <th>26</th>\n",
       "      <td>Adi</td>\n",
       "      <td>0.80</td>\n",
       "      <td>3.25</td>\n",
       "      <td>Trinitario</td>\n",
       "      <td>Fiji</td>\n",
       "    </tr>\n",
       "    <tr>\n",
       "      <th>27</th>\n",
       "      <td>Adi</td>\n",
       "      <td>0.88</td>\n",
       "      <td>3.50</td>\n",
       "      <td>Trinitario</td>\n",
       "      <td>Fiji</td>\n",
       "    </tr>\n",
       "    <tr>\n",
       "      <th>28</th>\n",
       "      <td>Adi</td>\n",
       "      <td>0.72</td>\n",
       "      <td>3.50</td>\n",
       "      <td>Trinitario</td>\n",
       "      <td>Fiji</td>\n",
       "    </tr>\n",
       "  </tbody>\n",
       "</table>\n",
       "</div>"
      ],
      "text/plain": [
       "     Company  CocoaPerc  Rating    BeanType BroadBeanOrigin\n",
       "17  A. Morin       0.70    4.00  Trinitario       Venezuela\n",
       "25       Adi       0.60    2.75  Trinitario            Fiji\n",
       "26       Adi       0.80    3.25  Trinitario            Fiji\n",
       "27       Adi       0.88    3.50  Trinitario            Fiji\n",
       "28       Adi       0.72    3.50  Trinitario            Fiji"
      ]
     },
     "execution_count": 24,
     "metadata": {},
     "output_type": "execute_result"
    }
   ],
   "source": [
    "#filter data to get selected beans\n",
    "triniFilter = with_bt[with_bt.BeanType.isin(all_Trini)]\n",
    "triniFilter.head()"
   ]
  },
  {
   "cell_type": "code",
   "execution_count": 25,
   "metadata": {
    "collapsed": true
   },
   "outputs": [],
   "source": [
    "#plot the cocoa percentage vs rating in scatter plot\n",
    "fig2 = sns.lmplot(x= 'Rating', y = 'CocoaPerc', data = triniFilter)"
   ]
  },
  {
   "cell_type": "code",
   "execution_count": 26,
   "metadata": {},
   "outputs": [
    {
     "data": {
      "text/html": [
       "<div>\n",
       "<style>\n",
       "    .dataframe thead tr:only-child th {\n",
       "        text-align: right;\n",
       "    }\n",
       "\n",
       "    .dataframe thead th {\n",
       "        text-align: left;\n",
       "    }\n",
       "\n",
       "    .dataframe tbody tr th {\n",
       "        vertical-align: top;\n",
       "    }\n",
       "</style>\n",
       "<table border=\"1\" class=\"dataframe\">\n",
       "  <thead>\n",
       "    <tr style=\"text-align: right;\">\n",
       "      <th></th>\n",
       "      <th>Company</th>\n",
       "      <th>CocoaPerc</th>\n",
       "      <th>Rating</th>\n",
       "      <th>BeanType</th>\n",
       "      <th>BroadBeanOrigin</th>\n",
       "    </tr>\n",
       "  </thead>\n",
       "  <tbody>\n",
       "    <tr>\n",
       "      <th>29</th>\n",
       "      <td>Aequare (Gianduja)</td>\n",
       "      <td>0.55</td>\n",
       "      <td>2.75</td>\n",
       "      <td>Forastero (Arriba)</td>\n",
       "      <td>Ecuador</td>\n",
       "    </tr>\n",
       "    <tr>\n",
       "      <th>30</th>\n",
       "      <td>Aequare (Gianduja)</td>\n",
       "      <td>0.70</td>\n",
       "      <td>3.00</td>\n",
       "      <td>Forastero (Arriba)</td>\n",
       "      <td>Ecuador</td>\n",
       "    </tr>\n",
       "    <tr>\n",
       "      <th>34</th>\n",
       "      <td>Akesson's (Pralus)</td>\n",
       "      <td>0.75</td>\n",
       "      <td>2.75</td>\n",
       "      <td>Forastero</td>\n",
       "      <td>Brazil</td>\n",
       "    </tr>\n",
       "    <tr>\n",
       "      <th>40</th>\n",
       "      <td>Alexandre</td>\n",
       "      <td>0.70</td>\n",
       "      <td>3.50</td>\n",
       "      <td>Forastero (Nacional)</td>\n",
       "      <td>Ecuador</td>\n",
       "    </tr>\n",
       "    <tr>\n",
       "      <th>43</th>\n",
       "      <td>Alexandre</td>\n",
       "      <td>0.70</td>\n",
       "      <td>3.50</td>\n",
       "      <td>Forastero</td>\n",
       "      <td>Tanzania</td>\n",
       "    </tr>\n",
       "  </tbody>\n",
       "</table>\n",
       "</div>"
      ],
      "text/plain": [
       "               Company  CocoaPerc  Rating              BeanType  \\\n",
       "29  Aequare (Gianduja)       0.55    2.75    Forastero (Arriba)   \n",
       "30  Aequare (Gianduja)       0.70    3.00    Forastero (Arriba)   \n",
       "34  Akesson's (Pralus)       0.75    2.75             Forastero   \n",
       "40           Alexandre       0.70    3.50  Forastero (Nacional)   \n",
       "43           Alexandre       0.70    3.50             Forastero   \n",
       "\n",
       "   BroadBeanOrigin  \n",
       "29         Ecuador  \n",
       "30         Ecuador  \n",
       "34          Brazil  \n",
       "40         Ecuador  \n",
       "43        Tanzania  "
      ]
     },
     "execution_count": 26,
     "metadata": {},
     "output_type": "execute_result"
    }
   ],
   "source": [
    "#filter data to get selected beans\n",
    "foraFilter = with_bt[with_bt.BeanType.isin(all_Fora)]\n",
    "foraFilter.head()"
   ]
  },
  {
   "cell_type": "code",
   "execution_count": 76,
   "metadata": {},
   "outputs": [
    {
     "data": {
      "image/png": "[encoded data removed]",
      "text/plain": [
       "<matplotlib.figure.Figure at 0x126fd3e10>"
      ]
     },
     "metadata": {},
     "output_type": "display_data"
    }
   ],
   "source": [
    "#plot the cocoa percentage vs rating in scatter plot\n",
    "fig3 = sns.lmplot(x= 'Rating', y = 'CocoaPerc', data = foraFilter)"
   ]
  },
  {
   "cell_type": "code",
   "execution_count": 77,
   "metadata": {},
   "outputs": [
    {
     "data": {
      "image/png": "[encoded data removed]",
      "text/plain": [
       "<matplotlib.figure.Figure at 0x12634ccf8>"
      ]
     },
     "metadata": {},
     "output_type": "display_data"
    }
   ],
   "source": [
    "fig = sns.lmplot(x= 'CocoaPerc', y = 'Rating', data = cacao)"
   ]
  },
  {
   "cell_type": "code",
   "execution_count": 78,
   "metadata": {},
   "outputs": [
    {
     "data": {
      "image/png": "[encoded data removed]",
      "text/plain": [
       "<matplotlib.figure.Figure at 0x128bb4b00>"
      ]
     },
     "metadata": {},
     "output_type": "display_data"
    }
   ],
   "source": [
    "fig = sns.lmplot(x= 'CocoaPerc', y = 'Rating', data = with_bbo)"
   ]
  },
  {
   "cell_type": "code",
   "execution_count": 79,
   "metadata": {
    "scrolled": false
   },
   "outputs": [
    {
     "data": {
      "image/png": "[encoded data removed]",
      "text/plain": [
       "<matplotlib.figure.Figure at 0x1290d0358>"
      ]
     },
     "metadata": {},
     "output_type": "display_data"
    }
   ],
   "source": [
    "fig = sns.lmplot(x= 'CocoaPerc', y = 'Rating', data = with_bt)"
   ]
  },
  {
   "cell_type": "markdown",
   "metadata": {},
   "source": [
    "# Company Profiles"
   ]
  },
  {
   "cell_type": "code",
   "execution_count": 159,
   "metadata": {},
   "outputs": [
    {
     "data": {
      "text/html": [
       "<div>\n",
       "<style scoped>\n",
       "    .dataframe tbody tr th:only-of-type {\n",
       "        vertical-align: middle;\n",
       "    }\n",
       "\n",
       "    .dataframe tbody tr th {\n",
       "        vertical-align: top;\n",
       "    }\n",
       "\n",
       "    .dataframe thead th {\n",
       "        text-align: right;\n",
       "    }\n",
       "</style>\n",
       "<table border=\"1\" class=\"dataframe\">\n",
       "  <thead>\n",
       "    <tr style=\"text-align: right;\">\n",
       "      <th></th>\n",
       "      <th>Bar Count</th>\n",
       "    </tr>\n",
       "    <tr>\n",
       "      <th>Company</th>\n",
       "      <th></th>\n",
       "    </tr>\n",
       "  </thead>\n",
       "  <tbody>\n",
       "    <tr>\n",
       "      <th>Soma</th>\n",
       "      <td>47</td>\n",
       "    </tr>\n",
       "    <tr>\n",
       "      <th>Bonnat</th>\n",
       "      <td>27</td>\n",
       "    </tr>\n",
       "    <tr>\n",
       "      <th>Fresco</th>\n",
       "      <td>26</td>\n",
       "    </tr>\n",
       "    <tr>\n",
       "      <th>Pralus</th>\n",
       "      <td>25</td>\n",
       "    </tr>\n",
       "    <tr>\n",
       "      <th>A. Morin</th>\n",
       "      <td>23</td>\n",
       "    </tr>\n",
       "    <tr>\n",
       "      <th>Domori</th>\n",
       "      <td>22</td>\n",
       "    </tr>\n",
       "    <tr>\n",
       "      <th>Guittard</th>\n",
       "      <td>22</td>\n",
       "    </tr>\n",
       "    <tr>\n",
       "      <th>Arete</th>\n",
       "      <td>22</td>\n",
       "    </tr>\n",
       "    <tr>\n",
       "      <th>Valrhona</th>\n",
       "      <td>21</td>\n",
       "    </tr>\n",
       "    <tr>\n",
       "      <th>Hotel Chocolat (Coppeneur)</th>\n",
       "      <td>19</td>\n",
       "    </tr>\n",
       "  </tbody>\n",
       "</table>\n",
       "</div>"
      ],
      "text/plain": [
       "                            Bar Count\n",
       "Company                              \n",
       "Soma                               47\n",
       "Bonnat                             27\n",
       "Fresco                             26\n",
       "Pralus                             25\n",
       "A. Morin                           23\n",
       "Domori                             22\n",
       "Guittard                           22\n",
       "Arete                              22\n",
       "Valrhona                           21\n",
       "Hotel Chocolat (Coppeneur)         19"
      ]
     },
     "execution_count": 159,
     "metadata": {},
     "output_type": "execute_result"
    }
   ],
   "source": [
    "# Count of the 10 companies with the highest number of rated chocolate bars\n",
    "company_count = cacao.groupby('Company').Company.count()\n",
    "company_count = company_count.sort_values(ascending = False)\n",
    "company_count.head(10)\n",
    "company_count = company_count.to_frame(name='Bar Count')\n",
    "company_count.head(10)"
   ]
  },
  {
   "cell_type": "markdown",
   "metadata": {},
   "source": [
    "## Soma"
   ]
  },
  {
   "cell_type": "code",
   "execution_count": 160,
   "metadata": {},
   "outputs": [
    {
     "data": {
      "text/plain": [
       "array(['Soma'], dtype=object)"
      ]
     },
     "execution_count": 160,
     "metadata": {},
     "output_type": "execute_result"
    }
   ],
   "source": [
    "#grab the bars made by Soma\n",
    "uniqueCompany = cacao.Company.unique()\n",
    "Soma_mask = np.array(['soma' in x.lower() for x in uniqueCompany])\n",
    "all_Soma = uniqueCompany[Soma_mask]\n",
    "all_Soma"
   ]
  },
  {
   "cell_type": "code",
   "execution_count": 196,
   "metadata": {},
   "outputs": [
    {
     "data": {
      "text/html": [
       "<div>\n",
       "<style scoped>\n",
       "    .dataframe tbody tr th:only-of-type {\n",
       "        vertical-align: middle;\n",
       "    }\n",
       "\n",
       "    .dataframe tbody tr th {\n",
       "        vertical-align: top;\n",
       "    }\n",
       "\n",
       "    .dataframe thead th {\n",
       "        text-align: right;\n",
       "    }\n",
       "</style>\n",
       "<table border=\"1\" class=\"dataframe\">\n",
       "  <thead>\n",
       "    <tr style=\"text-align: right;\">\n",
       "      <th></th>\n",
       "      <th>Company</th>\n",
       "      <th>SpecificOrigin_BarName</th>\n",
       "      <th>REF</th>\n",
       "      <th>ReviewDate</th>\n",
       "      <th>CocoaPerc</th>\n",
       "      <th>CompLoc</th>\n",
       "      <th>Rating</th>\n",
       "      <th>BeanType</th>\n",
       "      <th>BroadBeanOrigin</th>\n",
       "    </tr>\n",
       "  </thead>\n",
       "  <tbody>\n",
       "    <tr>\n",
       "      <th>1508</th>\n",
       "      <td>Soma</td>\n",
       "      <td>Sambirano Valley, Black Science, B-60307.0</td>\n",
       "      <td>1820</td>\n",
       "      <td>2016</td>\n",
       "      <td>0.7</td>\n",
       "      <td>Canada</td>\n",
       "      <td>3.50</td>\n",
       "      <td>Trinitario</td>\n",
       "      <td>Madagascar</td>\n",
       "    </tr>\n",
       "    <tr>\n",
       "      <th>1509</th>\n",
       "      <td>Soma</td>\n",
       "      <td>Bahia Black, batch bra50722.1</td>\n",
       "      <td>1828</td>\n",
       "      <td>2016</td>\n",
       "      <td>0.7</td>\n",
       "      <td>Canada</td>\n",
       "      <td>3.50</td>\n",
       "      <td>Forastero (Parazinho)</td>\n",
       "      <td>Brazil</td>\n",
       "    </tr>\n",
       "    <tr>\n",
       "      <th>1511</th>\n",
       "      <td>Soma</td>\n",
       "      <td>Chuno, San Jose de Bocay, Pantasma R.,B.S.</td>\n",
       "      <td>1828</td>\n",
       "      <td>2016</td>\n",
       "      <td>0.7</td>\n",
       "      <td>Canada</td>\n",
       "      <td>3.75</td>\n",
       "      <td>Trinitario</td>\n",
       "      <td>Nicaragua</td>\n",
       "    </tr>\n",
       "    <tr>\n",
       "      <th>1512</th>\n",
       "      <td>Soma</td>\n",
       "      <td>Tien Giang, Black S., batch VIT60420.0</td>\n",
       "      <td>1828</td>\n",
       "      <td>2016</td>\n",
       "      <td>0.7</td>\n",
       "      <td>Canada</td>\n",
       "      <td>4.00</td>\n",
       "      <td>Trinitario</td>\n",
       "      <td>Vietnam</td>\n",
       "    </tr>\n",
       "    <tr>\n",
       "      <th>1514</th>\n",
       "      <td>Soma</td>\n",
       "      <td>CSB Chama</td>\n",
       "      <td>1594</td>\n",
       "      <td>2015</td>\n",
       "      <td>0.7</td>\n",
       "      <td>Canada</td>\n",
       "      <td>3.50</td>\n",
       "      <td>Criollo</td>\n",
       "      <td>Venezuela</td>\n",
       "    </tr>\n",
       "  </tbody>\n",
       "</table>\n",
       "</div>"
      ],
      "text/plain": [
       "     Company                      SpecificOrigin_BarName   REF  ReviewDate  \\\n",
       "1508    Soma  Sambirano Valley, Black Science, B-60307.0  1820        2016   \n",
       "1509    Soma               Bahia Black, batch bra50722.1  1828        2016   \n",
       "1511    Soma  Chuno, San Jose de Bocay, Pantasma R.,B.S.  1828        2016   \n",
       "1512    Soma      Tien Giang, Black S., batch VIT60420.0  1828        2016   \n",
       "1514    Soma                                   CSB Chama  1594        2015   \n",
       "\n",
       "      CocoaPerc CompLoc  Rating               BeanType BroadBeanOrigin  \n",
       "1508        0.7  Canada    3.50             Trinitario      Madagascar  \n",
       "1509        0.7  Canada    3.50  Forastero (Parazinho)          Brazil  \n",
       "1511        0.7  Canada    3.75             Trinitario       Nicaragua  \n",
       "1512        0.7  Canada    4.00             Trinitario         Vietnam  \n",
       "1514        0.7  Canada    3.50                Criollo       Venezuela  "
      ]
     },
     "execution_count": 196,
     "metadata": {},
     "output_type": "execute_result"
    }
   ],
   "source": [
    "#filter data to get selected company bars that have Bean Type data\n",
    "somaFilter = cacao[cacao.Company.isin(all_Soma)]\n",
    "soma_bt = somaFilter.dropna(axis=0, subset=[\"BeanType\"])\n",
    "soma_bt.head()"
   ]
  },
  {
   "cell_type": "code",
   "execution_count": 198,
   "metadata": {},
   "outputs": [
    {
     "data": {
      "text/plain": [
       "BeanType\n",
       "Trinitario               13\n",
       "Criollo                   8\n",
       "Forastero                 4\n",
       "Blend                     4\n",
       "Forastero (Nacional)      2\n",
       "Trinitario, Nacional      1\n",
       "Nacional                  1\n",
       "Forastero (Parazinho)     1\n",
       "Forastero (Amelonado)     1\n",
       "Name: BeanType, dtype: int64"
      ]
     },
     "execution_count": 198,
     "metadata": {},
     "output_type": "execute_result"
    }
   ],
   "source": [
    "soma_btNum = soma_bt.groupby('BeanType')['BeanType'].count().sort_values(ascending = False)\n",
    "soma_btNum"
   ]
  },
  {
   "cell_type": "code",
   "execution_count": 145,
   "metadata": {},
   "outputs": [
    {
     "data": {
      "text/plain": [
       "BeanType\n",
       "Trinitario, Nacional     3.750000\n",
       "Forastero (Amelonado)    3.750000\n",
       "Blend                    3.687500\n",
       "Forastero (Nacional)     3.625000\n",
       "Trinitario               3.538462\n",
       "Criollo                  3.531250\n",
       "Nacional                 3.500000\n",
       "Forastero (Parazinho)    3.500000\n",
       "Forastero                3.375000\n",
       "Name: Rating, dtype: float64"
      ]
     },
     "execution_count": 145,
     "metadata": {},
     "output_type": "execute_result"
    }
   ],
   "source": [
    "soma_avgs = soma_bt.groupby('BeanType')['Rating'].mean().sort_values(ascending = False)\n",
    "soma_avgs"
   ]
  },
  {
   "cell_type": "code",
   "execution_count": 254,
   "metadata": {},
   "outputs": [
    {
     "data": {
      "text/html": [
       "<div>\n",
       "<style scoped>\n",
       "    .dataframe tbody tr th:only-of-type {\n",
       "        vertical-align: middle;\n",
       "    }\n",
       "\n",
       "    .dataframe tbody tr th {\n",
       "        vertical-align: top;\n",
       "    }\n",
       "\n",
       "    .dataframe thead th {\n",
       "        text-align: right;\n",
       "    }\n",
       "</style>\n",
       "<table border=\"1\" class=\"dataframe\">\n",
       "  <thead>\n",
       "    <tr style=\"text-align: right;\">\n",
       "      <th></th>\n",
       "      <th>Soma</th>\n",
       "    </tr>\n",
       "  </thead>\n",
       "  <tbody>\n",
       "    <tr>\n",
       "      <th>Criollo</th>\n",
       "      <td>3.531250</td>\n",
       "    </tr>\n",
       "    <tr>\n",
       "      <th>Forastero</th>\n",
       "      <td>3.500000</td>\n",
       "    </tr>\n",
       "    <tr>\n",
       "      <th>Trinitario</th>\n",
       "      <td>3.553571</td>\n",
       "    </tr>\n",
       "    <tr>\n",
       "      <th>Blend</th>\n",
       "      <td>3.687500</td>\n",
       "    </tr>\n",
       "  </tbody>\n",
       "</table>\n",
       "</div>"
      ],
      "text/plain": [
       "                Soma\n",
       "Criollo     3.531250\n",
       "Forastero   3.500000\n",
       "Trinitario  3.553571\n",
       "Blend       3.687500"
      ]
     },
     "execution_count": 254,
     "metadata": {},
     "output_type": "execute_result"
    }
   ],
   "source": [
    "#filter data to get selected beans\n",
    "crioFilter = soma_bt[soma_bt.BeanType.isin(all_Crio)].mean().Rating\n",
    "foraFilter = soma_bt[soma_bt.BeanType.isin(all_Fora)].mean().Rating\n",
    "triniFilter = soma_bt[soma_bt.BeanType.isin(all_Trini)].mean().Rating\n",
    "blendFilter = soma_bt[soma_bt.BeanType.isin(all_Blend)].mean().Rating\n",
    "\n",
    "d = {'Soma': [crioFilter, foraFilter, triniFilter, blendFilter]}\n",
    "beanFrame = pd.DataFrame(data=d)\n",
    "beanFrame.index = ['Criollo','Forastero','Trinitario', 'Blend']\n",
    "beanFrame"
   ]
  },
  {
   "cell_type": "markdown",
   "metadata": {},
   "source": [
    "## Bonnat"
   ]
  },
  {
   "cell_type": "code",
   "execution_count": 133,
   "metadata": {},
   "outputs": [
    {
     "data": {
      "text/plain": [
       "array(['Bonnat', 'Friis Holm (Bonnat)'], dtype=object)"
      ]
     },
     "execution_count": 133,
     "metadata": {},
     "output_type": "execute_result"
    }
   ],
   "source": [
    "Bonnat_mask = np.array(['bonnat' in x.lower() for x in uniqueCompany])\n",
    "all_Bonnat = uniqueCompany[Bonnat_mask]\n",
    "all_Bonnat"
   ]
  },
  {
   "cell_type": "code",
   "execution_count": 200,
   "metadata": {},
   "outputs": [
    {
     "data": {
      "text/html": [
       "<div>\n",
       "<style scoped>\n",
       "    .dataframe tbody tr th:only-of-type {\n",
       "        vertical-align: middle;\n",
       "    }\n",
       "\n",
       "    .dataframe tbody tr th {\n",
       "        vertical-align: top;\n",
       "    }\n",
       "\n",
       "    .dataframe thead th {\n",
       "        text-align: right;\n",
       "    }\n",
       "</style>\n",
       "<table border=\"1\" class=\"dataframe\">\n",
       "  <thead>\n",
       "    <tr style=\"text-align: right;\">\n",
       "      <th></th>\n",
       "      <th>Company</th>\n",
       "      <th>SpecificOrigin_BarName</th>\n",
       "      <th>REF</th>\n",
       "      <th>ReviewDate</th>\n",
       "      <th>CocoaPerc</th>\n",
       "      <th>CompLoc</th>\n",
       "      <th>Rating</th>\n",
       "      <th>BeanType</th>\n",
       "      <th>BroadBeanOrigin</th>\n",
       "    </tr>\n",
       "  </thead>\n",
       "  <tbody>\n",
       "    <tr>\n",
       "      <th>227</th>\n",
       "      <td>Bonnat</td>\n",
       "      <td>Cuba</td>\n",
       "      <td>629</td>\n",
       "      <td>2011</td>\n",
       "      <td>0.75</td>\n",
       "      <td>France</td>\n",
       "      <td>3.50</td>\n",
       "      <td>Trinitario</td>\n",
       "      <td>Cuba</td>\n",
       "    </tr>\n",
       "    <tr>\n",
       "      <th>229</th>\n",
       "      <td>Bonnat</td>\n",
       "      <td>Piura Blanco</td>\n",
       "      <td>629</td>\n",
       "      <td>2011</td>\n",
       "      <td>0.75</td>\n",
       "      <td>France</td>\n",
       "      <td>3.50</td>\n",
       "      <td>Forastero (Nacional)</td>\n",
       "      <td>Peru</td>\n",
       "    </tr>\n",
       "    <tr>\n",
       "      <th>232</th>\n",
       "      <td>Bonnat</td>\n",
       "      <td>Madagascar, 100% criollo</td>\n",
       "      <td>629</td>\n",
       "      <td>2011</td>\n",
       "      <td>0.75</td>\n",
       "      <td>France</td>\n",
       "      <td>4.00</td>\n",
       "      <td>Criollo</td>\n",
       "      <td>Madagascar</td>\n",
       "    </tr>\n",
       "    <tr>\n",
       "      <th>234</th>\n",
       "      <td>Bonnat</td>\n",
       "      <td>Jamaique</td>\n",
       "      <td>761</td>\n",
       "      <td>2011</td>\n",
       "      <td>0.75</td>\n",
       "      <td>France</td>\n",
       "      <td>3.25</td>\n",
       "      <td>Trinitario</td>\n",
       "      <td>Jamaica</td>\n",
       "    </tr>\n",
       "    <tr>\n",
       "      <th>236</th>\n",
       "      <td>Bonnat</td>\n",
       "      <td>Porcelana, Apotequil</td>\n",
       "      <td>336</td>\n",
       "      <td>2009</td>\n",
       "      <td>0.75</td>\n",
       "      <td>France</td>\n",
       "      <td>2.75</td>\n",
       "      <td>Criollo</td>\n",
       "      <td>Peru</td>\n",
       "    </tr>\n",
       "  </tbody>\n",
       "</table>\n",
       "</div>"
      ],
      "text/plain": [
       "    Company    SpecificOrigin_BarName  REF  ReviewDate  CocoaPerc CompLoc  \\\n",
       "227  Bonnat                      Cuba  629        2011       0.75  France   \n",
       "229  Bonnat              Piura Blanco  629        2011       0.75  France   \n",
       "232  Bonnat  Madagascar, 100% criollo  629        2011       0.75  France   \n",
       "234  Bonnat                  Jamaique  761        2011       0.75  France   \n",
       "236  Bonnat      Porcelana, Apotequil  336        2009       0.75  France   \n",
       "\n",
       "     Rating              BeanType BroadBeanOrigin  \n",
       "227    3.50            Trinitario            Cuba  \n",
       "229    3.50  Forastero (Nacional)            Peru  \n",
       "232    4.00               Criollo      Madagascar  \n",
       "234    3.25            Trinitario         Jamaica  \n",
       "236    2.75               Criollo            Peru  "
      ]
     },
     "execution_count": 200,
     "metadata": {},
     "output_type": "execute_result"
    }
   ],
   "source": [
    "#filter data to get selected company bars that have Bean Type data\n",
    "bonnatFilter = cacao[cacao.Company.isin(all_Bonnat)]\n",
    "bonnat_bt = bonnatFilter.dropna(axis=0, subset=[\"BeanType\"])\n",
    "bonnat_bt.head()"
   ]
  },
  {
   "cell_type": "code",
   "execution_count": 201,
   "metadata": {
    "scrolled": false
   },
   "outputs": [
    {
     "data": {
      "text/plain": [
       "BeanType\n",
       "Criollo, Trinitario     6\n",
       "Trinitario              5\n",
       "Criollo                 5\n",
       "Forastero (Nacional)    1\n",
       "Forastero (Arriba)      1\n",
       "Criollo (Porcelana)     1\n",
       "Name: BeanType, dtype: int64"
      ]
     },
     "execution_count": 201,
     "metadata": {},
     "output_type": "execute_result"
    }
   ],
   "source": [
    "bonnat_btNum = bonnat_bt.groupby('BeanType')['BeanType'].count().sort_values(ascending = False)\n",
    "bonnat_btNum"
   ]
  },
  {
   "cell_type": "code",
   "execution_count": 202,
   "metadata": {},
   "outputs": [
    {
     "data": {
      "text/plain": [
       "BeanType\n",
       "Criollo (Porcelana)     4.000000\n",
       "Trinitario              3.700000\n",
       "Forastero (Nacional)    3.500000\n",
       "Criollo                 3.350000\n",
       "Criollo, Trinitario     3.333333\n",
       "Forastero (Arriba)      2.500000\n",
       "Name: Rating, dtype: float64"
      ]
     },
     "execution_count": 202,
     "metadata": {},
     "output_type": "execute_result"
    }
   ],
   "source": [
    "bonnat_avgs = bonnat_bt.groupby('BeanType')['Rating'].mean().sort_values(ascending = False)\n",
    "bonnat_avgs"
   ]
  },
  {
   "cell_type": "code",
   "execution_count": 260,
   "metadata": {
    "scrolled": true
   },
   "outputs": [
    {
     "data": {
      "text/html": [
       "<div>\n",
       "<style scoped>\n",
       "    .dataframe tbody tr th:only-of-type {\n",
       "        vertical-align: middle;\n",
       "    }\n",
       "\n",
       "    .dataframe tbody tr th {\n",
       "        vertical-align: top;\n",
       "    }\n",
       "\n",
       "    .dataframe thead th {\n",
       "        text-align: right;\n",
       "    }\n",
       "</style>\n",
       "<table border=\"1\" class=\"dataframe\">\n",
       "  <thead>\n",
       "    <tr style=\"text-align: right;\">\n",
       "      <th></th>\n",
       "      <th>Soma</th>\n",
       "      <th>Bonnat</th>\n",
       "    </tr>\n",
       "  </thead>\n",
       "  <tbody>\n",
       "    <tr>\n",
       "      <th>Criollo</th>\n",
       "      <td>3.531250</td>\n",
       "      <td>3.395833</td>\n",
       "    </tr>\n",
       "    <tr>\n",
       "      <th>Forastero</th>\n",
       "      <td>3.500000</td>\n",
       "      <td>3.000000</td>\n",
       "    </tr>\n",
       "    <tr>\n",
       "      <th>Trinitario</th>\n",
       "      <td>3.553571</td>\n",
       "      <td>3.500000</td>\n",
       "    </tr>\n",
       "    <tr>\n",
       "      <th>Blend</th>\n",
       "      <td>3.687500</td>\n",
       "      <td>NaN</td>\n",
       "    </tr>\n",
       "  </tbody>\n",
       "</table>\n",
       "</div>"
      ],
      "text/plain": [
       "                Soma    Bonnat\n",
       "Criollo     3.531250  3.395833\n",
       "Forastero   3.500000  3.000000\n",
       "Trinitario  3.553571  3.500000\n",
       "Blend       3.687500       NaN"
      ]
     },
     "execution_count": 260,
     "metadata": {},
     "output_type": "execute_result"
    }
   ],
   "source": [
    "#filter data to get selected beans\n",
    "crioFilter = bonnat_bt[bonnat_bt.BeanType.isin(all_Crio)].mean().Rating\n",
    "foraFilter = bonnat_bt[bonnat_bt.BeanType.isin(all_Fora)].mean().Rating\n",
    "triniFilter = bonnat_bt[bonnat_bt.BeanType.isin(all_Trini)].mean().Rating\n",
    "blendFilter = bonnat_bt[bonnat_bt.BeanType.isin(all_Blend)].mean().Rating\n",
    "\n",
    "d = [crioFilter, foraFilter, triniFilter, blendFilter]\n",
    "beanFrame['Bonnat'] = d\n",
    "beanFrame"
   ]
  },
  {
   "cell_type": "markdown",
   "metadata": {},
   "source": [
    "## Fresco"
   ]
  },
  {
   "cell_type": "code",
   "execution_count": 213,
   "metadata": {},
   "outputs": [
    {
     "data": {
      "text/plain": [
       "array(['Fresco'], dtype=object)"
      ]
     },
     "execution_count": 213,
     "metadata": {},
     "output_type": "execute_result"
    }
   ],
   "source": [
    "fresco_mask = np.array(['fresco' in x.lower() for x in uniqueCompany])\n",
    "all_Fresco = uniqueCompany[fresco_mask]\n",
    "all_Fresco"
   ]
  },
  {
   "cell_type": "code",
   "execution_count": 214,
   "metadata": {},
   "outputs": [
    {
     "data": {
      "text/html": [
       "<div>\n",
       "<style scoped>\n",
       "    .dataframe tbody tr th:only-of-type {\n",
       "        vertical-align: middle;\n",
       "    }\n",
       "\n",
       "    .dataframe tbody tr th {\n",
       "        vertical-align: top;\n",
       "    }\n",
       "\n",
       "    .dataframe thead th {\n",
       "        text-align: right;\n",
       "    }\n",
       "</style>\n",
       "<table border=\"1\" class=\"dataframe\">\n",
       "  <thead>\n",
       "    <tr style=\"text-align: right;\">\n",
       "      <th></th>\n",
       "      <th>Company</th>\n",
       "      <th>SpecificOrigin_BarName</th>\n",
       "      <th>REF</th>\n",
       "      <th>ReviewDate</th>\n",
       "      <th>CocoaPerc</th>\n",
       "      <th>CompLoc</th>\n",
       "      <th>Rating</th>\n",
       "      <th>BeanType</th>\n",
       "      <th>BroadBeanOrigin</th>\n",
       "    </tr>\n",
       "  </thead>\n",
       "  <tbody>\n",
       "    <tr>\n",
       "      <th>679</th>\n",
       "      <td>Fresco</td>\n",
       "      <td>Maranon, #228, MR, SC</td>\n",
       "      <td>1383</td>\n",
       "      <td>2014</td>\n",
       "      <td>0.7</td>\n",
       "      <td>U.S.A.</td>\n",
       "      <td>3.0</td>\n",
       "      <td>Forastero (Nacional)</td>\n",
       "      <td>Peru</td>\n",
       "    </tr>\n",
       "    <tr>\n",
       "      <th>680</th>\n",
       "      <td>Fresco</td>\n",
       "      <td>Maranon, #227, LR, MC</td>\n",
       "      <td>1383</td>\n",
       "      <td>2014</td>\n",
       "      <td>0.7</td>\n",
       "      <td>U.S.A.</td>\n",
       "      <td>3.5</td>\n",
       "      <td>Forastero (Nacional)</td>\n",
       "      <td>Peru</td>\n",
       "    </tr>\n",
       "    <tr>\n",
       "      <th>681</th>\n",
       "      <td>Fresco</td>\n",
       "      <td>Maranon, #229, MR, LC</td>\n",
       "      <td>1383</td>\n",
       "      <td>2014</td>\n",
       "      <td>0.7</td>\n",
       "      <td>U.S.A.</td>\n",
       "      <td>3.5</td>\n",
       "      <td>Forastero (Nacional)</td>\n",
       "      <td>Peru</td>\n",
       "    </tr>\n",
       "    <tr>\n",
       "      <th>682</th>\n",
       "      <td>Fresco</td>\n",
       "      <td>Maranon, #230, DR, LC</td>\n",
       "      <td>1387</td>\n",
       "      <td>2014</td>\n",
       "      <td>0.7</td>\n",
       "      <td>U.S.A.</td>\n",
       "      <td>3.5</td>\n",
       "      <td>Forastero (Nacional)</td>\n",
       "      <td>Peru</td>\n",
       "    </tr>\n",
       "    <tr>\n",
       "      <th>686</th>\n",
       "      <td>Fresco</td>\n",
       "      <td>Bellavista Coop, #225, LR, MC, CG Exclusive</td>\n",
       "      <td>1149</td>\n",
       "      <td>2013</td>\n",
       "      <td>0.7</td>\n",
       "      <td>U.S.A.</td>\n",
       "      <td>4.0</td>\n",
       "      <td>Trinitario</td>\n",
       "      <td>Peru</td>\n",
       "    </tr>\n",
       "  </tbody>\n",
       "</table>\n",
       "</div>"
      ],
      "text/plain": [
       "    Company                       SpecificOrigin_BarName   REF  ReviewDate  \\\n",
       "679  Fresco                        Maranon, #228, MR, SC  1383        2014   \n",
       "680  Fresco                        Maranon, #227, LR, MC  1383        2014   \n",
       "681  Fresco                        Maranon, #229, MR, LC  1383        2014   \n",
       "682  Fresco                        Maranon, #230, DR, LC  1387        2014   \n",
       "686  Fresco  Bellavista Coop, #225, LR, MC, CG Exclusive  1149        2013   \n",
       "\n",
       "     CocoaPerc CompLoc  Rating              BeanType BroadBeanOrigin  \n",
       "679        0.7  U.S.A.     3.0  Forastero (Nacional)            Peru  \n",
       "680        0.7  U.S.A.     3.5  Forastero (Nacional)            Peru  \n",
       "681        0.7  U.S.A.     3.5  Forastero (Nacional)            Peru  \n",
       "682        0.7  U.S.A.     3.5  Forastero (Nacional)            Peru  \n",
       "686        0.7  U.S.A.     4.0            Trinitario            Peru  "
      ]
     },
     "execution_count": 214,
     "metadata": {},
     "output_type": "execute_result"
    }
   ],
   "source": [
    "#filter data to get selected company bars that have Bean Type data\n",
    "frescoFilter = cacao[cacao.Company.isin(all_Fresco)]\n",
    "fresco_bt = frescoFilter.dropna(axis=0, subset=[\"BeanType\"])\n",
    "fresco_bt.head()"
   ]
  },
  {
   "cell_type": "code",
   "execution_count": 215,
   "metadata": {
    "scrolled": false
   },
   "outputs": [
    {
     "data": {
      "text/plain": [
       "BeanType\n",
       "Trinitario              13\n",
       "Forastero (Nacional)     4\n",
       "Forastero                1\n",
       "Criollo                  1\n",
       "Name: BeanType, dtype: int64"
      ]
     },
     "execution_count": 215,
     "metadata": {},
     "output_type": "execute_result"
    }
   ],
   "source": [
    "fresco_btNum = fresco_bt.groupby('BeanType')['BeanType'].count().sort_values(ascending = False)\n",
    "fresco_btNum"
   ]
  },
  {
   "cell_type": "code",
   "execution_count": 216,
   "metadata": {},
   "outputs": [
    {
     "data": {
      "text/plain": [
       "BeanType\n",
       "Criollo                 3.500000\n",
       "Forastero (Nacional)    3.375000\n",
       "Trinitario              3.365385\n",
       "Forastero               2.750000\n",
       "Name: Rating, dtype: float64"
      ]
     },
     "execution_count": 216,
     "metadata": {},
     "output_type": "execute_result"
    }
   ],
   "source": [
    "fresco_avgs = fresco_bt.groupby('BeanType')['Rating'].mean().sort_values(ascending = False)\n",
    "fresco_avgs"
   ]
  },
  {
   "cell_type": "code",
   "execution_count": 261,
   "metadata": {
    "scrolled": true
   },
   "outputs": [
    {
     "data": {
      "text/html": [
       "<div>\n",
       "<style scoped>\n",
       "    .dataframe tbody tr th:only-of-type {\n",
       "        vertical-align: middle;\n",
       "    }\n",
       "\n",
       "    .dataframe tbody tr th {\n",
       "        vertical-align: top;\n",
       "    }\n",
       "\n",
       "    .dataframe thead th {\n",
       "        text-align: right;\n",
       "    }\n",
       "</style>\n",
       "<table border=\"1\" class=\"dataframe\">\n",
       "  <thead>\n",
       "    <tr style=\"text-align: right;\">\n",
       "      <th></th>\n",
       "      <th>Soma</th>\n",
       "      <th>Bonnat</th>\n",
       "      <th>Fresco</th>\n",
       "    </tr>\n",
       "  </thead>\n",
       "  <tbody>\n",
       "    <tr>\n",
       "      <th>Criollo</th>\n",
       "      <td>3.531250</td>\n",
       "      <td>3.395833</td>\n",
       "      <td>3.500000</td>\n",
       "    </tr>\n",
       "    <tr>\n",
       "      <th>Forastero</th>\n",
       "      <td>3.500000</td>\n",
       "      <td>3.000000</td>\n",
       "      <td>3.250000</td>\n",
       "    </tr>\n",
       "    <tr>\n",
       "      <th>Trinitario</th>\n",
       "      <td>3.553571</td>\n",
       "      <td>3.500000</td>\n",
       "      <td>3.365385</td>\n",
       "    </tr>\n",
       "    <tr>\n",
       "      <th>Blend</th>\n",
       "      <td>3.687500</td>\n",
       "      <td>NaN</td>\n",
       "      <td>NaN</td>\n",
       "    </tr>\n",
       "  </tbody>\n",
       "</table>\n",
       "</div>"
      ],
      "text/plain": [
       "                Soma    Bonnat    Fresco\n",
       "Criollo     3.531250  3.395833  3.500000\n",
       "Forastero   3.500000  3.000000  3.250000\n",
       "Trinitario  3.553571  3.500000  3.365385\n",
       "Blend       3.687500       NaN       NaN"
      ]
     },
     "execution_count": 261,
     "metadata": {},
     "output_type": "execute_result"
    }
   ],
   "source": [
    "#filter data to get selected beans\n",
    "crioFilter = fresco_bt[fresco_bt.BeanType.isin(all_Crio)].mean().Rating\n",
    "foraFilter = fresco_bt[fresco_bt.BeanType.isin(all_Fora)].mean().Rating\n",
    "triniFilter = fresco_bt[fresco_bt.BeanType.isin(all_Trini)].mean().Rating\n",
    "blendFilter = fresco_bt[fresco_bt.BeanType.isin(all_Blend)].mean().Rating\n",
    "\n",
    "d = [crioFilter, foraFilter, triniFilter, blendFilter]\n",
    "beanFrame['Fresco'] = d\n",
    "beanFrame"
   ]
  },
  {
   "cell_type": "markdown",
   "metadata": {},
   "source": [
    "## Pralus"
   ]
  },
  {
   "cell_type": "code",
   "execution_count": 262,
   "metadata": {},
   "outputs": [
    {
     "data": {
      "text/plain": [
       "array([\"Akesson's (Pralus)\", 'Chuao Chocolatier (Pralus)', 'Pralus',\n",
       "       'Tobago Estate (Pralus)'], dtype=object)"
      ]
     },
     "execution_count": 262,
     "metadata": {},
     "output_type": "execute_result"
    }
   ],
   "source": [
    "Pralus_mask = np.array(['pralus' in x.lower() for x in uniqueCompany])\n",
    "all_Pralus = uniqueCompany[Pralus_mask]\n",
    "all_Pralus"
   ]
  },
  {
   "cell_type": "code",
   "execution_count": 263,
   "metadata": {},
   "outputs": [
    {
     "data": {
      "text/html": [
       "<div>\n",
       "<style scoped>\n",
       "    .dataframe tbody tr th:only-of-type {\n",
       "        vertical-align: middle;\n",
       "    }\n",
       "\n",
       "    .dataframe tbody tr th {\n",
       "        vertical-align: top;\n",
       "    }\n",
       "\n",
       "    .dataframe thead th {\n",
       "        text-align: right;\n",
       "    }\n",
       "</style>\n",
       "<table border=\"1\" class=\"dataframe\">\n",
       "  <thead>\n",
       "    <tr style=\"text-align: right;\">\n",
       "      <th></th>\n",
       "      <th>Company</th>\n",
       "      <th>SpecificOrigin_BarName</th>\n",
       "      <th>REF</th>\n",
       "      <th>ReviewDate</th>\n",
       "      <th>CocoaPerc</th>\n",
       "      <th>CompLoc</th>\n",
       "      <th>Rating</th>\n",
       "      <th>BeanType</th>\n",
       "      <th>BroadBeanOrigin</th>\n",
       "    </tr>\n",
       "  </thead>\n",
       "  <tbody>\n",
       "    <tr>\n",
       "      <th>32</th>\n",
       "      <td>Akesson's (Pralus)</td>\n",
       "      <td>Bali (west), Sukrama Family, Melaya area</td>\n",
       "      <td>636</td>\n",
       "      <td>2011</td>\n",
       "      <td>0.75</td>\n",
       "      <td>Switzerland</td>\n",
       "      <td>3.75</td>\n",
       "      <td>Trinitario</td>\n",
       "      <td>Indonesia</td>\n",
       "    </tr>\n",
       "    <tr>\n",
       "      <th>33</th>\n",
       "      <td>Akesson's (Pralus)</td>\n",
       "      <td>Madagascar, Ambolikapiky P.</td>\n",
       "      <td>502</td>\n",
       "      <td>2010</td>\n",
       "      <td>0.75</td>\n",
       "      <td>Switzerland</td>\n",
       "      <td>2.75</td>\n",
       "      <td>Criollo</td>\n",
       "      <td>Madagascar</td>\n",
       "    </tr>\n",
       "    <tr>\n",
       "      <th>34</th>\n",
       "      <td>Akesson's (Pralus)</td>\n",
       "      <td>Monte Alegre, D. Badero</td>\n",
       "      <td>508</td>\n",
       "      <td>2010</td>\n",
       "      <td>0.75</td>\n",
       "      <td>Switzerland</td>\n",
       "      <td>2.75</td>\n",
       "      <td>Forastero</td>\n",
       "      <td>Brazil</td>\n",
       "    </tr>\n",
       "    <tr>\n",
       "      <th>433</th>\n",
       "      <td>Chuao Chocolatier (Pralus)</td>\n",
       "      <td>Chuao</td>\n",
       "      <td>486</td>\n",
       "      <td>2010</td>\n",
       "      <td>0.77</td>\n",
       "      <td>U.S.A.</td>\n",
       "      <td>2.75</td>\n",
       "      <td>Trinitario</td>\n",
       "      <td>Venezuela</td>\n",
       "    </tr>\n",
       "    <tr>\n",
       "      <th>1315</th>\n",
       "      <td>Pralus</td>\n",
       "      <td>Porcelana, S. of Lake Maracaibo</td>\n",
       "      <td>717</td>\n",
       "      <td>2011</td>\n",
       "      <td>0.75</td>\n",
       "      <td>France</td>\n",
       "      <td>3.25</td>\n",
       "      <td>Criollo (Porcelana)</td>\n",
       "      <td>Venezuela</td>\n",
       "    </tr>\n",
       "  </tbody>\n",
       "</table>\n",
       "</div>"
      ],
      "text/plain": [
       "                         Company                    SpecificOrigin_BarName  \\\n",
       "32            Akesson's (Pralus)  Bali (west), Sukrama Family, Melaya area   \n",
       "33            Akesson's (Pralus)               Madagascar, Ambolikapiky P.   \n",
       "34            Akesson's (Pralus)                   Monte Alegre, D. Badero   \n",
       "433   Chuao Chocolatier (Pralus)                                     Chuao   \n",
       "1315                      Pralus           Porcelana, S. of Lake Maracaibo   \n",
       "\n",
       "      REF  ReviewDate  CocoaPerc      CompLoc  Rating             BeanType  \\\n",
       "32    636        2011       0.75  Switzerland    3.75           Trinitario   \n",
       "33    502        2010       0.75  Switzerland    2.75              Criollo   \n",
       "34    508        2010       0.75  Switzerland    2.75            Forastero   \n",
       "433   486        2010       0.77       U.S.A.    2.75           Trinitario   \n",
       "1315  717        2011       0.75       France    3.25  Criollo (Porcelana)   \n",
       "\n",
       "     BroadBeanOrigin  \n",
       "32         Indonesia  \n",
       "33        Madagascar  \n",
       "34            Brazil  \n",
       "433        Venezuela  \n",
       "1315       Venezuela  "
      ]
     },
     "execution_count": 263,
     "metadata": {},
     "output_type": "execute_result"
    }
   ],
   "source": [
    "#filter data to get selected company bars that have Bean Type data\n",
    "pralusFilter = cacao[cacao.Company.isin(all_Pralus)]\n",
    "pralus_bt = pralusFilter.dropna(axis=0, subset=[\"BeanType\"])\n",
    "pralus_bt.head()"
   ]
  },
  {
   "cell_type": "code",
   "execution_count": 264,
   "metadata": {
    "scrolled": false
   },
   "outputs": [
    {
     "data": {
      "text/plain": [
       "BeanType\n",
       "Trinitario               12\n",
       "Forastero                 5\n",
       "Criollo                   5\n",
       "Trinitario, Forastero     1\n",
       "Criollo, Trinitario       1\n",
       "Criollo, Forastero        1\n",
       "Criollo (Porcelana)       1\n",
       "Name: BeanType, dtype: int64"
      ]
     },
     "execution_count": 264,
     "metadata": {},
     "output_type": "execute_result"
    }
   ],
   "source": [
    "pralus_btNum = pralus_bt.groupby('BeanType')['BeanType'].count().sort_values(ascending = False)\n",
    "pralus_btNum"
   ]
  },
  {
   "cell_type": "code",
   "execution_count": 265,
   "metadata": {},
   "outputs": [
    {
     "data": {
      "text/plain": [
       "BeanType\n",
       "Criollo, Trinitario      4.000\n",
       "Criollo, Forastero       3.500\n",
       "Trinitario               3.375\n",
       "Forastero                3.300\n",
       "Criollo                  3.300\n",
       "Criollo (Porcelana)      3.250\n",
       "Trinitario, Forastero    3.000\n",
       "Name: Rating, dtype: float64"
      ]
     },
     "execution_count": 265,
     "metadata": {},
     "output_type": "execute_result"
    }
   ],
   "source": [
    "pralus_avgs = pralus_bt.groupby('BeanType')['Rating'].mean().sort_values(ascending = False)\n",
    "pralus_avgs"
   ]
  },
  {
   "cell_type": "code",
   "execution_count": 266,
   "metadata": {
    "scrolled": false
   },
   "outputs": [
    {
     "data": {
      "text/html": [
       "<div>\n",
       "<style scoped>\n",
       "    .dataframe tbody tr th:only-of-type {\n",
       "        vertical-align: middle;\n",
       "    }\n",
       "\n",
       "    .dataframe tbody tr th {\n",
       "        vertical-align: top;\n",
       "    }\n",
       "\n",
       "    .dataframe thead th {\n",
       "        text-align: right;\n",
       "    }\n",
       "</style>\n",
       "<table border=\"1\" class=\"dataframe\">\n",
       "  <thead>\n",
       "    <tr style=\"text-align: right;\">\n",
       "      <th></th>\n",
       "      <th>Soma</th>\n",
       "      <th>Bonnat</th>\n",
       "      <th>Fresco</th>\n",
       "      <th>Pralus</th>\n",
       "    </tr>\n",
       "  </thead>\n",
       "  <tbody>\n",
       "    <tr>\n",
       "      <th>Criollo</th>\n",
       "      <td>3.531250</td>\n",
       "      <td>3.395833</td>\n",
       "      <td>3.500000</td>\n",
       "      <td>3.406250</td>\n",
       "    </tr>\n",
       "    <tr>\n",
       "      <th>Forastero</th>\n",
       "      <td>3.500000</td>\n",
       "      <td>3.000000</td>\n",
       "      <td>3.250000</td>\n",
       "      <td>3.285714</td>\n",
       "    </tr>\n",
       "    <tr>\n",
       "      <th>Trinitario</th>\n",
       "      <td>3.553571</td>\n",
       "      <td>3.500000</td>\n",
       "      <td>3.365385</td>\n",
       "      <td>3.392857</td>\n",
       "    </tr>\n",
       "    <tr>\n",
       "      <th>Blend</th>\n",
       "      <td>3.687500</td>\n",
       "      <td>NaN</td>\n",
       "      <td>NaN</td>\n",
       "      <td>NaN</td>\n",
       "    </tr>\n",
       "  </tbody>\n",
       "</table>\n",
       "</div>"
      ],
      "text/plain": [
       "                Soma    Bonnat    Fresco    Pralus\n",
       "Criollo     3.531250  3.395833  3.500000  3.406250\n",
       "Forastero   3.500000  3.000000  3.250000  3.285714\n",
       "Trinitario  3.553571  3.500000  3.365385  3.392857\n",
       "Blend       3.687500       NaN       NaN       NaN"
      ]
     },
     "execution_count": 266,
     "metadata": {},
     "output_type": "execute_result"
    }
   ],
   "source": [
    "#filter data to get selected beans\n",
    "crioFilter = pralus_bt[pralus_bt.BeanType.isin(all_Crio)].mean().Rating\n",
    "foraFilter = pralus_bt[pralus_bt.BeanType.isin(all_Fora)].mean().Rating\n",
    "triniFilter = pralus_bt[pralus_bt.BeanType.isin(all_Trini)].mean().Rating\n",
    "blendFilter = pralus_bt[pralus_bt.BeanType.isin(all_Blend)].mean().Rating\n",
    "\n",
    "d = [crioFilter, foraFilter, triniFilter, blendFilter]\n",
    "beanFrame['Pralus'] = d\n",
    "beanFrame"
   ]
  },
  {
   "cell_type": "markdown",
   "metadata": {},
   "source": [
    "## A. Morin"
   ]
  },
  {
   "cell_type": "code",
   "execution_count": 226,
   "metadata": {},
   "outputs": [
    {
     "data": {
      "text/plain": [
       "array(['A. Morin', 'Black River (A. Morin)', 'Erithaj (A. Morin)',\n",
       "       'Vietcacao (A. Morin)'], dtype=object)"
      ]
     },
     "execution_count": 226,
     "metadata": {},
     "output_type": "execute_result"
    }
   ],
   "source": [
    "AMorin_mask = np.array(['a. morin' in x.lower() for x in uniqueCompany])\n",
    "all_AMorin = uniqueCompany[AMorin_mask]\n",
    "all_AMorin"
   ]
  },
  {
   "cell_type": "code",
   "execution_count": 230,
   "metadata": {},
   "outputs": [
    {
     "data": {
      "text/html": [
       "<div>\n",
       "<style scoped>\n",
       "    .dataframe tbody tr th:only-of-type {\n",
       "        vertical-align: middle;\n",
       "    }\n",
       "\n",
       "    .dataframe tbody tr th {\n",
       "        vertical-align: top;\n",
       "    }\n",
       "\n",
       "    .dataframe thead th {\n",
       "        text-align: right;\n",
       "    }\n",
       "</style>\n",
       "<table border=\"1\" class=\"dataframe\">\n",
       "  <thead>\n",
       "    <tr style=\"text-align: right;\">\n",
       "      <th></th>\n",
       "      <th>Company</th>\n",
       "      <th>SpecificOrigin_BarName</th>\n",
       "      <th>REF</th>\n",
       "      <th>ReviewDate</th>\n",
       "      <th>CocoaPerc</th>\n",
       "      <th>CompLoc</th>\n",
       "      <th>Rating</th>\n",
       "      <th>BeanType</th>\n",
       "      <th>BroadBeanOrigin</th>\n",
       "    </tr>\n",
       "  </thead>\n",
       "  <tbody>\n",
       "    <tr>\n",
       "      <th>5</th>\n",
       "      <td>A. Morin</td>\n",
       "      <td>Carenero</td>\n",
       "      <td>1315</td>\n",
       "      <td>2014</td>\n",
       "      <td>0.7</td>\n",
       "      <td>France</td>\n",
       "      <td>2.75</td>\n",
       "      <td>Criollo</td>\n",
       "      <td>Venezuela</td>\n",
       "    </tr>\n",
       "    <tr>\n",
       "      <th>7</th>\n",
       "      <td>A. Morin</td>\n",
       "      <td>Sur del Lago</td>\n",
       "      <td>1315</td>\n",
       "      <td>2014</td>\n",
       "      <td>0.7</td>\n",
       "      <td>France</td>\n",
       "      <td>3.50</td>\n",
       "      <td>Criollo</td>\n",
       "      <td>Venezuela</td>\n",
       "    </tr>\n",
       "    <tr>\n",
       "      <th>8</th>\n",
       "      <td>A. Morin</td>\n",
       "      <td>Puerto Cabello</td>\n",
       "      <td>1319</td>\n",
       "      <td>2014</td>\n",
       "      <td>0.7</td>\n",
       "      <td>France</td>\n",
       "      <td>3.75</td>\n",
       "      <td>Criollo</td>\n",
       "      <td>Venezuela</td>\n",
       "    </tr>\n",
       "    <tr>\n",
       "      <th>11</th>\n",
       "      <td>A. Morin</td>\n",
       "      <td>Madagascar</td>\n",
       "      <td>1011</td>\n",
       "      <td>2013</td>\n",
       "      <td>0.7</td>\n",
       "      <td>France</td>\n",
       "      <td>3.00</td>\n",
       "      <td>Criollo</td>\n",
       "      <td>Madagascar</td>\n",
       "    </tr>\n",
       "    <tr>\n",
       "      <th>17</th>\n",
       "      <td>A. Morin</td>\n",
       "      <td>Chuao</td>\n",
       "      <td>1015</td>\n",
       "      <td>2013</td>\n",
       "      <td>0.7</td>\n",
       "      <td>France</td>\n",
       "      <td>4.00</td>\n",
       "      <td>Trinitario</td>\n",
       "      <td>Venezuela</td>\n",
       "    </tr>\n",
       "  </tbody>\n",
       "</table>\n",
       "</div>"
      ],
      "text/plain": [
       "     Company SpecificOrigin_BarName   REF  ReviewDate  CocoaPerc CompLoc  \\\n",
       "5   A. Morin               Carenero  1315        2014        0.7  France   \n",
       "7   A. Morin           Sur del Lago  1315        2014        0.7  France   \n",
       "8   A. Morin         Puerto Cabello  1319        2014        0.7  France   \n",
       "11  A. Morin             Madagascar  1011        2013        0.7  France   \n",
       "17  A. Morin                  Chuao  1015        2013        0.7  France   \n",
       "\n",
       "    Rating    BeanType BroadBeanOrigin  \n",
       "5     2.75     Criollo       Venezuela  \n",
       "7     3.50     Criollo       Venezuela  \n",
       "8     3.75     Criollo       Venezuela  \n",
       "11    3.00     Criollo      Madagascar  \n",
       "17    4.00  Trinitario       Venezuela  "
      ]
     },
     "execution_count": 230,
     "metadata": {},
     "output_type": "execute_result"
    }
   ],
   "source": [
    "#filter data to get selected company bars that have Bean Type data\n",
    "AMorinFilter = cacao[cacao.Company.isin(all_AMorin)]\n",
    "AMorin_bt = AMorinFilter.dropna(axis=0, subset=[\"BeanType\"])\n",
    "AMorin_bt.head()"
   ]
  },
  {
   "cell_type": "code",
   "execution_count": 231,
   "metadata": {
    "scrolled": false
   },
   "outputs": [
    {
     "data": {
      "text/plain": [
       "BeanType\n",
       "Trinitario    6\n",
       "Criollo       4\n",
       "Name: BeanType, dtype: int64"
      ]
     },
     "execution_count": 231,
     "metadata": {},
     "output_type": "execute_result"
    }
   ],
   "source": [
    "AMorin_btNum = AMorin_bt.groupby('BeanType')['BeanType'].count().sort_values(ascending = False)\n",
    "AMorin_btNum"
   ]
  },
  {
   "cell_type": "code",
   "execution_count": 232,
   "metadata": {},
   "outputs": [
    {
     "data": {
      "text/plain": [
       "BeanType\n",
       "Trinitario    3.291667\n",
       "Criollo       3.250000\n",
       "Name: Rating, dtype: float64"
      ]
     },
     "execution_count": 232,
     "metadata": {},
     "output_type": "execute_result"
    }
   ],
   "source": [
    "AMorin_avgs = AMorin_bt.groupby('BeanType')['Rating'].mean().sort_values(ascending = False)\n",
    "AMorin_avgs"
   ]
  },
  {
   "cell_type": "code",
   "execution_count": 267,
   "metadata": {
    "scrolled": false
   },
   "outputs": [
    {
     "data": {
      "text/html": [
       "<div>\n",
       "<style scoped>\n",
       "    .dataframe tbody tr th:only-of-type {\n",
       "        vertical-align: middle;\n",
       "    }\n",
       "\n",
       "    .dataframe tbody tr th {\n",
       "        vertical-align: top;\n",
       "    }\n",
       "\n",
       "    .dataframe thead th {\n",
       "        text-align: right;\n",
       "    }\n",
       "</style>\n",
       "<table border=\"1\" class=\"dataframe\">\n",
       "  <thead>\n",
       "    <tr style=\"text-align: right;\">\n",
       "      <th></th>\n",
       "      <th>Soma</th>\n",
       "      <th>Bonnat</th>\n",
       "      <th>Fresco</th>\n",
       "      <th>Pralus</th>\n",
       "      <th>A. Morin</th>\n",
       "    </tr>\n",
       "  </thead>\n",
       "  <tbody>\n",
       "    <tr>\n",
       "      <th>Criollo</th>\n",
       "      <td>3.531250</td>\n",
       "      <td>3.395833</td>\n",
       "      <td>3.500000</td>\n",
       "      <td>3.406250</td>\n",
       "      <td>3.250000</td>\n",
       "    </tr>\n",
       "    <tr>\n",
       "      <th>Forastero</th>\n",
       "      <td>3.500000</td>\n",
       "      <td>3.000000</td>\n",
       "      <td>3.250000</td>\n",
       "      <td>3.285714</td>\n",
       "      <td>NaN</td>\n",
       "    </tr>\n",
       "    <tr>\n",
       "      <th>Trinitario</th>\n",
       "      <td>3.553571</td>\n",
       "      <td>3.500000</td>\n",
       "      <td>3.365385</td>\n",
       "      <td>3.392857</td>\n",
       "      <td>3.291667</td>\n",
       "    </tr>\n",
       "    <tr>\n",
       "      <th>Blend</th>\n",
       "      <td>3.687500</td>\n",
       "      <td>NaN</td>\n",
       "      <td>NaN</td>\n",
       "      <td>NaN</td>\n",
       "      <td>NaN</td>\n",
       "    </tr>\n",
       "  </tbody>\n",
       "</table>\n",
       "</div>"
      ],
      "text/plain": [
       "                Soma    Bonnat    Fresco    Pralus  A. Morin\n",
       "Criollo     3.531250  3.395833  3.500000  3.406250  3.250000\n",
       "Forastero   3.500000  3.000000  3.250000  3.285714       NaN\n",
       "Trinitario  3.553571  3.500000  3.365385  3.392857  3.291667\n",
       "Blend       3.687500       NaN       NaN       NaN       NaN"
      ]
     },
     "execution_count": 267,
     "metadata": {},
     "output_type": "execute_result"
    }
   ],
   "source": [
    "#filter data to get selected beans\n",
    "crioFilter = AMorin_bt[AMorin_bt.BeanType.isin(all_Crio)].mean().Rating\n",
    "foraFilter = AMorin_bt[AMorin_bt.BeanType.isin(all_Fora)].mean().Rating\n",
    "triniFilter = AMorin_bt[AMorin_bt.BeanType.isin(all_Trini)].mean().Rating\n",
    "blendFilter = AMorin_bt[AMorin_bt.BeanType.isin(all_Blend)].mean().Rating\n",
    "\n",
    "d = [crioFilter, foraFilter, triniFilter, blendFilter]\n",
    "beanFrame['A. Morin'] = d\n",
    "beanFrame"
   ]
  },
  {
   "cell_type": "markdown",
   "metadata": {},
   "source": [
    "## Domori"
   ]
  },
  {
   "cell_type": "code",
   "execution_count": 234,
   "metadata": {},
   "outputs": [
    {
     "data": {
      "text/plain": [
       "array(['Domori'], dtype=object)"
      ]
     },
     "execution_count": 234,
     "metadata": {},
     "output_type": "execute_result"
    }
   ],
   "source": [
    "Domori_mask = np.array(['domori' in x.lower() for x in uniqueCompany])\n",
    "all_Domori = uniqueCompany[Domori_mask]\n",
    "all_Domori"
   ]
  },
  {
   "cell_type": "code",
   "execution_count": 235,
   "metadata": {},
   "outputs": [
    {
     "data": {
      "text/html": [
       "<div>\n",
       "<style scoped>\n",
       "    .dataframe tbody tr th:only-of-type {\n",
       "        vertical-align: middle;\n",
       "    }\n",
       "\n",
       "    .dataframe tbody tr th {\n",
       "        vertical-align: top;\n",
       "    }\n",
       "\n",
       "    .dataframe thead th {\n",
       "        text-align: right;\n",
       "    }\n",
       "</style>\n",
       "<table border=\"1\" class=\"dataframe\">\n",
       "  <thead>\n",
       "    <tr style=\"text-align: right;\">\n",
       "      <th></th>\n",
       "      <th>Company</th>\n",
       "      <th>SpecificOrigin_BarName</th>\n",
       "      <th>REF</th>\n",
       "      <th>ReviewDate</th>\n",
       "      <th>CocoaPerc</th>\n",
       "      <th>CompLoc</th>\n",
       "      <th>Rating</th>\n",
       "      <th>BeanType</th>\n",
       "      <th>BroadBeanOrigin</th>\n",
       "    </tr>\n",
       "  </thead>\n",
       "  <tbody>\n",
       "    <tr>\n",
       "      <th>556</th>\n",
       "      <td>Domori</td>\n",
       "      <td>Ocumare 77</td>\n",
       "      <td>1672</td>\n",
       "      <td>2015</td>\n",
       "      <td>0.7</td>\n",
       "      <td>Italy</td>\n",
       "      <td>3.75</td>\n",
       "      <td>Criollo (Ocumare 77)</td>\n",
       "      <td>Venezuela</td>\n",
       "    </tr>\n",
       "    <tr>\n",
       "      <th>557</th>\n",
       "      <td>Domori</td>\n",
       "      <td>IL100, H. San Jose</td>\n",
       "      <td>1109</td>\n",
       "      <td>2013</td>\n",
       "      <td>1.0</td>\n",
       "      <td>Italy</td>\n",
       "      <td>3.00</td>\n",
       "      <td>Criollo</td>\n",
       "      <td>Venezuela</td>\n",
       "    </tr>\n",
       "    <tr>\n",
       "      <th>559</th>\n",
       "      <td>Domori</td>\n",
       "      <td>Guasare</td>\n",
       "      <td>863</td>\n",
       "      <td>2012</td>\n",
       "      <td>0.7</td>\n",
       "      <td>Italy</td>\n",
       "      <td>3.75</td>\n",
       "      <td>Criollo</td>\n",
       "      <td>Venezuela</td>\n",
       "    </tr>\n",
       "    <tr>\n",
       "      <th>560</th>\n",
       "      <td>Domori</td>\n",
       "      <td>Canoabo, Hacienda San Jose</td>\n",
       "      <td>693</td>\n",
       "      <td>2011</td>\n",
       "      <td>0.7</td>\n",
       "      <td>Italy</td>\n",
       "      <td>3.50</td>\n",
       "      <td>Criollo</td>\n",
       "      <td>Venezuela</td>\n",
       "    </tr>\n",
       "    <tr>\n",
       "      <th>561</th>\n",
       "      <td>Domori</td>\n",
       "      <td>Chuao, Hacienda San Jose</td>\n",
       "      <td>470</td>\n",
       "      <td>2010</td>\n",
       "      <td>0.7</td>\n",
       "      <td>Italy</td>\n",
       "      <td>3.00</td>\n",
       "      <td>Trinitario</td>\n",
       "      <td>Venezuela</td>\n",
       "    </tr>\n",
       "  </tbody>\n",
       "</table>\n",
       "</div>"
      ],
      "text/plain": [
       "    Company      SpecificOrigin_BarName   REF  ReviewDate  CocoaPerc CompLoc  \\\n",
       "556  Domori                  Ocumare 77  1672        2015        0.7   Italy   \n",
       "557  Domori          IL100, H. San Jose  1109        2013        1.0   Italy   \n",
       "559  Domori                     Guasare   863        2012        0.7   Italy   \n",
       "560  Domori  Canoabo, Hacienda San Jose   693        2011        0.7   Italy   \n",
       "561  Domori    Chuao, Hacienda San Jose   470        2010        0.7   Italy   \n",
       "\n",
       "     Rating              BeanType BroadBeanOrigin  \n",
       "556    3.75  Criollo (Ocumare 77)       Venezuela  \n",
       "557    3.00               Criollo       Venezuela  \n",
       "559    3.75               Criollo       Venezuela  \n",
       "560    3.50               Criollo       Venezuela  \n",
       "561    3.00            Trinitario       Venezuela  "
      ]
     },
     "execution_count": 235,
     "metadata": {},
     "output_type": "execute_result"
    }
   ],
   "source": [
    "#filter data to get selected company bars that have Bean Type data\n",
    "DomoriFilter = cacao[cacao.Company.isin(all_Domori)]\n",
    "Domori_bt = DomoriFilter.dropna(axis=0, subset=[\"BeanType\"])\n",
    "Domori_bt.head()"
   ]
  },
  {
   "cell_type": "code",
   "execution_count": 236,
   "metadata": {
    "scrolled": false
   },
   "outputs": [
    {
     "data": {
      "text/plain": [
       "BeanType\n",
       "Trinitario              7\n",
       "Criollo                 5\n",
       "Blend                   2\n",
       "Forastero (Arriba)      1\n",
       "Criollo (Porcelana)     1\n",
       "Criollo (Ocumare 77)    1\n",
       "Criollo (Ocumare 67)    1\n",
       "Criollo (Ocumare 61)    1\n",
       "Name: BeanType, dtype: int64"
      ]
     },
     "execution_count": 236,
     "metadata": {},
     "output_type": "execute_result"
    }
   ],
   "source": [
    "Domori_btNum = Domori_bt.groupby('BeanType')['BeanType'].count().sort_values(ascending = False)\n",
    "Domori_btNum"
   ]
  },
  {
   "cell_type": "code",
   "execution_count": 237,
   "metadata": {},
   "outputs": [
    {
     "data": {
      "text/plain": [
       "BeanType\n",
       "Forastero (Arriba)      4.000000\n",
       "Criollo (Porcelana)     4.000000\n",
       "Criollo (Ocumare 67)    4.000000\n",
       "Criollo (Ocumare 77)    3.750000\n",
       "Blend                   3.625000\n",
       "Criollo                 3.500000\n",
       "Criollo (Ocumare 61)    3.250000\n",
       "Trinitario              3.214286\n",
       "Name: Rating, dtype: float64"
      ]
     },
     "execution_count": 237,
     "metadata": {},
     "output_type": "execute_result"
    }
   ],
   "source": [
    "Domori_avgs = Domori_bt.groupby('BeanType')['Rating'].mean().sort_values(ascending = False)\n",
    "Domori_avgs"
   ]
  },
  {
   "cell_type": "code",
   "execution_count": 268,
   "metadata": {
    "scrolled": false
   },
   "outputs": [
    {
     "data": {
      "text/html": [
       "<div>\n",
       "<style scoped>\n",
       "    .dataframe tbody tr th:only-of-type {\n",
       "        vertical-align: middle;\n",
       "    }\n",
       "\n",
       "    .dataframe tbody tr th {\n",
       "        vertical-align: top;\n",
       "    }\n",
       "\n",
       "    .dataframe thead th {\n",
       "        text-align: right;\n",
       "    }\n",
       "</style>\n",
       "<table border=\"1\" class=\"dataframe\">\n",
       "  <thead>\n",
       "    <tr style=\"text-align: right;\">\n",
       "      <th></th>\n",
       "      <th>Soma</th>\n",
       "      <th>Bonnat</th>\n",
       "      <th>Fresco</th>\n",
       "      <th>Pralus</th>\n",
       "      <th>A. Morin</th>\n",
       "      <th>Domori</th>\n",
       "    </tr>\n",
       "  </thead>\n",
       "  <tbody>\n",
       "    <tr>\n",
       "      <th>Criollo</th>\n",
       "      <td>3.531250</td>\n",
       "      <td>3.395833</td>\n",
       "      <td>3.500000</td>\n",
       "      <td>3.406250</td>\n",
       "      <td>3.250000</td>\n",
       "      <td>3.611111</td>\n",
       "    </tr>\n",
       "    <tr>\n",
       "      <th>Forastero</th>\n",
       "      <td>3.500000</td>\n",
       "      <td>3.000000</td>\n",
       "      <td>3.250000</td>\n",
       "      <td>3.285714</td>\n",
       "      <td>NaN</td>\n",
       "      <td>4.000000</td>\n",
       "    </tr>\n",
       "    <tr>\n",
       "      <th>Trinitario</th>\n",
       "      <td>3.553571</td>\n",
       "      <td>3.500000</td>\n",
       "      <td>3.365385</td>\n",
       "      <td>3.392857</td>\n",
       "      <td>3.291667</td>\n",
       "      <td>3.214286</td>\n",
       "    </tr>\n",
       "    <tr>\n",
       "      <th>Blend</th>\n",
       "      <td>3.687500</td>\n",
       "      <td>NaN</td>\n",
       "      <td>NaN</td>\n",
       "      <td>NaN</td>\n",
       "      <td>NaN</td>\n",
       "      <td>3.625000</td>\n",
       "    </tr>\n",
       "  </tbody>\n",
       "</table>\n",
       "</div>"
      ],
      "text/plain": [
       "                Soma    Bonnat    Fresco    Pralus  A. Morin    Domori\n",
       "Criollo     3.531250  3.395833  3.500000  3.406250  3.250000  3.611111\n",
       "Forastero   3.500000  3.000000  3.250000  3.285714       NaN  4.000000\n",
       "Trinitario  3.553571  3.500000  3.365385  3.392857  3.291667  3.214286\n",
       "Blend       3.687500       NaN       NaN       NaN       NaN  3.625000"
      ]
     },
     "execution_count": 268,
     "metadata": {},
     "output_type": "execute_result"
    }
   ],
   "source": [
    "#filter data to get selected beans\n",
    "crioFilter = Domori_bt[Domori_bt.BeanType.isin(all_Crio)].mean().Rating\n",
    "foraFilter = Domori_bt[Domori_bt.BeanType.isin(all_Fora)].mean().Rating\n",
    "triniFilter = Domori_bt[Domori_bt.BeanType.isin(all_Trini)].mean().Rating\n",
    "blendFilter = Domori_bt[Domori_bt.BeanType.isin(all_Blend)].mean().Rating\n",
    "\n",
    "d = [crioFilter, foraFilter, triniFilter, blendFilter]\n",
    "beanFrame['Domori'] = d\n",
    "beanFrame"
   ]
  },
  {
   "cell_type": "markdown",
   "metadata": {},
   "source": [
    "## Guittard"
   ]
  },
  {
   "cell_type": "code",
   "execution_count": 239,
   "metadata": {},
   "outputs": [
    {
     "data": {
      "text/plain": [
       "array(['Dole (Guittard)', 'Guittard',\n",
       "       'Heirloom Cacao Preservation (Guittard)', 'Malie Kai (Guittard)'],\n",
       "      dtype=object)"
      ]
     },
     "execution_count": 239,
     "metadata": {},
     "output_type": "execute_result"
    }
   ],
   "source": [
    "Guittard_mask = np.array(['guittard' in x.lower() for x in uniqueCompany])\n",
    "all_Guittard = uniqueCompany[Guittard_mask]\n",
    "all_Guittard"
   ]
  },
  {
   "cell_type": "code",
   "execution_count": 240,
   "metadata": {},
   "outputs": [
    {
     "data": {
      "text/html": [
       "<div>\n",
       "<style scoped>\n",
       "    .dataframe tbody tr th:only-of-type {\n",
       "        vertical-align: middle;\n",
       "    }\n",
       "\n",
       "    .dataframe tbody tr th {\n",
       "        vertical-align: top;\n",
       "    }\n",
       "\n",
       "    .dataframe thead th {\n",
       "        text-align: right;\n",
       "    }\n",
       "</style>\n",
       "<table border=\"1\" class=\"dataframe\">\n",
       "  <thead>\n",
       "    <tr style=\"text-align: right;\">\n",
       "      <th></th>\n",
       "      <th>Company</th>\n",
       "      <th>SpecificOrigin_BarName</th>\n",
       "      <th>REF</th>\n",
       "      <th>ReviewDate</th>\n",
       "      <th>CocoaPerc</th>\n",
       "      <th>CompLoc</th>\n",
       "      <th>Rating</th>\n",
       "      <th>BeanType</th>\n",
       "      <th>BroadBeanOrigin</th>\n",
       "    </tr>\n",
       "  </thead>\n",
       "  <tbody>\n",
       "    <tr>\n",
       "      <th>752</th>\n",
       "      <td>Guittard</td>\n",
       "      <td>Jamaica</td>\n",
       "      <td>1053</td>\n",
       "      <td>2013</td>\n",
       "      <td>0.65</td>\n",
       "      <td>U.S.A.</td>\n",
       "      <td>3.25</td>\n",
       "      <td>Trinitario</td>\n",
       "      <td>Jamaica</td>\n",
       "    </tr>\n",
       "    <tr>\n",
       "      <th>757</th>\n",
       "      <td>Guittard</td>\n",
       "      <td>Trinidad</td>\n",
       "      <td>552</td>\n",
       "      <td>2010</td>\n",
       "      <td>0.65</td>\n",
       "      <td>U.S.A.</td>\n",
       "      <td>3.00</td>\n",
       "      <td>Trinitario</td>\n",
       "      <td>Trinidad</td>\n",
       "    </tr>\n",
       "    <tr>\n",
       "      <th>760</th>\n",
       "      <td>Guittard</td>\n",
       "      <td>Complexite</td>\n",
       "      <td>387</td>\n",
       "      <td>2009</td>\n",
       "      <td>0.70</td>\n",
       "      <td>U.S.A.</td>\n",
       "      <td>3.50</td>\n",
       "      <td>Blend</td>\n",
       "      <td>NaN</td>\n",
       "    </tr>\n",
       "    <tr>\n",
       "      <th>764</th>\n",
       "      <td>Guittard</td>\n",
       "      <td>Quetzalcoatl</td>\n",
       "      <td>147</td>\n",
       "      <td>2007</td>\n",
       "      <td>0.72</td>\n",
       "      <td>U.S.A.</td>\n",
       "      <td>3.50</td>\n",
       "      <td>Blend</td>\n",
       "      <td>NaN</td>\n",
       "    </tr>\n",
       "    <tr>\n",
       "      <th>765</th>\n",
       "      <td>Guittard</td>\n",
       "      <td>Chucuri</td>\n",
       "      <td>15</td>\n",
       "      <td>2006</td>\n",
       "      <td>0.65</td>\n",
       "      <td>U.S.A.</td>\n",
       "      <td>3.00</td>\n",
       "      <td>Trinitario</td>\n",
       "      <td>Colombia</td>\n",
       "    </tr>\n",
       "  </tbody>\n",
       "</table>\n",
       "</div>"
      ],
      "text/plain": [
       "      Company SpecificOrigin_BarName   REF  ReviewDate  CocoaPerc CompLoc  \\\n",
       "752  Guittard                Jamaica  1053        2013       0.65  U.S.A.   \n",
       "757  Guittard               Trinidad   552        2010       0.65  U.S.A.   \n",
       "760  Guittard             Complexite   387        2009       0.70  U.S.A.   \n",
       "764  Guittard           Quetzalcoatl   147        2007       0.72  U.S.A.   \n",
       "765  Guittard                Chucuri    15        2006       0.65  U.S.A.   \n",
       "\n",
       "     Rating    BeanType BroadBeanOrigin  \n",
       "752    3.25  Trinitario         Jamaica  \n",
       "757    3.00  Trinitario        Trinidad  \n",
       "760    3.50       Blend             NaN  \n",
       "764    3.50       Blend             NaN  \n",
       "765    3.00  Trinitario        Colombia  "
      ]
     },
     "execution_count": 240,
     "metadata": {},
     "output_type": "execute_result"
    }
   ],
   "source": [
    "#filter data to get selected company bars that have Bean Type data\n",
    "GuittardFilter = cacao[cacao.Company.isin(all_Guittard)]\n",
    "Guittard_bt = GuittardFilter.dropna(axis=0, subset=[\"BeanType\"])\n",
    "Guittard_bt.head()"
   ]
  },
  {
   "cell_type": "code",
   "execution_count": 241,
   "metadata": {
    "scrolled": false
   },
   "outputs": [
    {
     "data": {
      "text/plain": [
       "BeanType\n",
       "Blend                  5\n",
       "Trinitario             3\n",
       "Trinitario, Criollo    1\n",
       "Forastero (Arriba)     1\n",
       "EET                    1\n",
       "Criollo, +             1\n",
       "Beniano                1\n",
       "Amazon, ICS            1\n",
       "Name: BeanType, dtype: int64"
      ]
     },
     "execution_count": 241,
     "metadata": {},
     "output_type": "execute_result"
    }
   ],
   "source": [
    "Guittard_btNum = Guittard_bt.groupby('BeanType')['BeanType'].count().sort_values(ascending = False)\n",
    "Guittard_btNum"
   ]
  },
  {
   "cell_type": "code",
   "execution_count": 242,
   "metadata": {},
   "outputs": [
    {
     "data": {
      "text/plain": [
       "BeanType\n",
       "EET                    3.750000\n",
       "Forastero (Arriba)     3.500000\n",
       "Criollo, +             3.500000\n",
       "Amazon, ICS            3.500000\n",
       "Blend                  3.250000\n",
       "Trinitario             3.083333\n",
       "Beniano                3.000000\n",
       "Trinitario, Criollo    2.500000\n",
       "Name: Rating, dtype: float64"
      ]
     },
     "execution_count": 242,
     "metadata": {},
     "output_type": "execute_result"
    }
   ],
   "source": [
    "Guittard_avgs = Guittard_bt.groupby('BeanType')['Rating'].mean().sort_values(ascending = False)\n",
    "Guittard_avgs"
   ]
  },
  {
   "cell_type": "code",
   "execution_count": 270,
   "metadata": {
    "scrolled": false
   },
   "outputs": [
    {
     "data": {
      "text/html": [
       "<div>\n",
       "<style scoped>\n",
       "    .dataframe tbody tr th:only-of-type {\n",
       "        vertical-align: middle;\n",
       "    }\n",
       "\n",
       "    .dataframe tbody tr th {\n",
       "        vertical-align: top;\n",
       "    }\n",
       "\n",
       "    .dataframe thead th {\n",
       "        text-align: right;\n",
       "    }\n",
       "</style>\n",
       "<table border=\"1\" class=\"dataframe\">\n",
       "  <thead>\n",
       "    <tr style=\"text-align: right;\">\n",
       "      <th></th>\n",
       "      <th>Soma</th>\n",
       "      <th>Bonnat</th>\n",
       "      <th>Fresco</th>\n",
       "      <th>Pralus</th>\n",
       "      <th>A. Morin</th>\n",
       "      <th>Domori</th>\n",
       "      <th>Guittard</th>\n",
       "    </tr>\n",
       "  </thead>\n",
       "  <tbody>\n",
       "    <tr>\n",
       "      <th>Criollo</th>\n",
       "      <td>3.531250</td>\n",
       "      <td>3.395833</td>\n",
       "      <td>3.500000</td>\n",
       "      <td>3.406250</td>\n",
       "      <td>3.250000</td>\n",
       "      <td>3.611111</td>\n",
       "      <td>3.0000</td>\n",
       "    </tr>\n",
       "    <tr>\n",
       "      <th>Forastero</th>\n",
       "      <td>3.500000</td>\n",
       "      <td>3.000000</td>\n",
       "      <td>3.250000</td>\n",
       "      <td>3.285714</td>\n",
       "      <td>NaN</td>\n",
       "      <td>4.000000</td>\n",
       "      <td>3.5000</td>\n",
       "    </tr>\n",
       "    <tr>\n",
       "      <th>Trinitario</th>\n",
       "      <td>3.553571</td>\n",
       "      <td>3.500000</td>\n",
       "      <td>3.365385</td>\n",
       "      <td>3.392857</td>\n",
       "      <td>3.291667</td>\n",
       "      <td>3.214286</td>\n",
       "      <td>2.9375</td>\n",
       "    </tr>\n",
       "    <tr>\n",
       "      <th>Blend</th>\n",
       "      <td>3.687500</td>\n",
       "      <td>NaN</td>\n",
       "      <td>NaN</td>\n",
       "      <td>NaN</td>\n",
       "      <td>NaN</td>\n",
       "      <td>3.625000</td>\n",
       "      <td>3.2500</td>\n",
       "    </tr>\n",
       "  </tbody>\n",
       "</table>\n",
       "</div>"
      ],
      "text/plain": [
       "                Soma    Bonnat    Fresco    Pralus  A. Morin    Domori  \\\n",
       "Criollo     3.531250  3.395833  3.500000  3.406250  3.250000  3.611111   \n",
       "Forastero   3.500000  3.000000  3.250000  3.285714       NaN  4.000000   \n",
       "Trinitario  3.553571  3.500000  3.365385  3.392857  3.291667  3.214286   \n",
       "Blend       3.687500       NaN       NaN       NaN       NaN  3.625000   \n",
       "\n",
       "            Guittard  \n",
       "Criollo       3.0000  \n",
       "Forastero     3.5000  \n",
       "Trinitario    2.9375  \n",
       "Blend         3.2500  "
      ]
     },
     "execution_count": 270,
     "metadata": {},
     "output_type": "execute_result"
    }
   ],
   "source": [
    "#filter data to get selected beans\n",
    "crioFilter = Guittard_bt[Guittard_bt.BeanType.isin(all_Crio)].mean().Rating\n",
    "foraFilter = Guittard_bt[Guittard_bt.BeanType.isin(all_Fora)].mean().Rating\n",
    "triniFilter = Guittard_bt[Guittard_bt.BeanType.isin(all_Trini)].mean().Rating\n",
    "blendFilter = Guittard_bt[Guittard_bt.BeanType.isin(all_Blend)].mean().Rating\n",
    "\n",
    "d = [crioFilter, foraFilter, triniFilter, blendFilter]\n",
    "beanFrame['Guittard'] = d\n",
    "beanFrame"
   ]
  },
  {
   "cell_type": "markdown",
   "metadata": {},
   "source": [
    "## Arete"
   ]
  },
  {
   "cell_type": "code",
   "execution_count": 244,
   "metadata": {},
   "outputs": [
    {
     "data": {
      "text/plain": [
       "array(['Arete'], dtype=object)"
      ]
     },
     "execution_count": 244,
     "metadata": {},
     "output_type": "execute_result"
    }
   ],
   "source": [
    "Arete_mask = np.array(['arete' in x.lower() for x in uniqueCompany])\n",
    "all_Arete = uniqueCompany[Arete_mask]\n",
    "all_Arete"
   ]
  },
  {
   "cell_type": "code",
   "execution_count": 245,
   "metadata": {},
   "outputs": [
    {
     "data": {
      "text/html": [
       "<div>\n",
       "<style scoped>\n",
       "    .dataframe tbody tr th:only-of-type {\n",
       "        vertical-align: middle;\n",
       "    }\n",
       "\n",
       "    .dataframe tbody tr th {\n",
       "        vertical-align: top;\n",
       "    }\n",
       "\n",
       "    .dataframe thead th {\n",
       "        text-align: right;\n",
       "    }\n",
       "</style>\n",
       "<table border=\"1\" class=\"dataframe\">\n",
       "  <thead>\n",
       "    <tr style=\"text-align: right;\">\n",
       "      <th></th>\n",
       "      <th>Company</th>\n",
       "      <th>SpecificOrigin_BarName</th>\n",
       "      <th>REF</th>\n",
       "      <th>ReviewDate</th>\n",
       "      <th>CocoaPerc</th>\n",
       "      <th>CompLoc</th>\n",
       "      <th>Rating</th>\n",
       "      <th>BeanType</th>\n",
       "      <th>BroadBeanOrigin</th>\n",
       "    </tr>\n",
       "  </thead>\n",
       "  <tbody>\n",
       "    <tr>\n",
       "      <th>99</th>\n",
       "      <td>Arete</td>\n",
       "      <td>San Juan</td>\n",
       "      <td>1724</td>\n",
       "      <td>2016</td>\n",
       "      <td>0.70</td>\n",
       "      <td>U.S.A.</td>\n",
       "      <td>3.50</td>\n",
       "      <td>Trinitario</td>\n",
       "      <td>Trinidad</td>\n",
       "    </tr>\n",
       "    <tr>\n",
       "      <th>101</th>\n",
       "      <td>Arete</td>\n",
       "      <td>Tien Giang</td>\n",
       "      <td>1900</td>\n",
       "      <td>2016</td>\n",
       "      <td>0.73</td>\n",
       "      <td>U.S.A.</td>\n",
       "      <td>3.50</td>\n",
       "      <td>Trinitario</td>\n",
       "      <td>Vietnam</td>\n",
       "    </tr>\n",
       "    <tr>\n",
       "      <th>108</th>\n",
       "      <td>Arete</td>\n",
       "      <td>Phantom</td>\n",
       "      <td>1924</td>\n",
       "      <td>2016</td>\n",
       "      <td>0.70</td>\n",
       "      <td>U.S.A.</td>\n",
       "      <td>4.00</td>\n",
       "      <td>Forastero (Nacional)</td>\n",
       "      <td>Peru</td>\n",
       "    </tr>\n",
       "    <tr>\n",
       "      <th>113</th>\n",
       "      <td>Arete</td>\n",
       "      <td>Nacional</td>\n",
       "      <td>1534</td>\n",
       "      <td>2015</td>\n",
       "      <td>0.68</td>\n",
       "      <td>U.S.A.</td>\n",
       "      <td>3.50</td>\n",
       "      <td>Forastero (Nacional)</td>\n",
       "      <td>Peru</td>\n",
       "    </tr>\n",
       "    <tr>\n",
       "      <th>114</th>\n",
       "      <td>Arete</td>\n",
       "      <td>Puerto Quito, heirloom</td>\n",
       "      <td>1534</td>\n",
       "      <td>2015</td>\n",
       "      <td>0.70</td>\n",
       "      <td>U.S.A.</td>\n",
       "      <td>3.75</td>\n",
       "      <td>Forastero (Nacional)</td>\n",
       "      <td>Ecuador</td>\n",
       "    </tr>\n",
       "  </tbody>\n",
       "</table>\n",
       "</div>"
      ],
      "text/plain": [
       "    Company  SpecificOrigin_BarName   REF  ReviewDate  CocoaPerc CompLoc  \\\n",
       "99    Arete                San Juan  1724        2016       0.70  U.S.A.   \n",
       "101   Arete              Tien Giang  1900        2016       0.73  U.S.A.   \n",
       "108   Arete                 Phantom  1924        2016       0.70  U.S.A.   \n",
       "113   Arete                Nacional  1534        2015       0.68  U.S.A.   \n",
       "114   Arete  Puerto Quito, heirloom  1534        2015       0.70  U.S.A.   \n",
       "\n",
       "     Rating              BeanType BroadBeanOrigin  \n",
       "99     3.50            Trinitario        Trinidad  \n",
       "101    3.50            Trinitario         Vietnam  \n",
       "108    4.00  Forastero (Nacional)            Peru  \n",
       "113    3.50  Forastero (Nacional)            Peru  \n",
       "114    3.75  Forastero (Nacional)         Ecuador  "
      ]
     },
     "execution_count": 245,
     "metadata": {},
     "output_type": "execute_result"
    }
   ],
   "source": [
    "#filter data to get selected company bars that have Bean Type data\n",
    "AreteFilter = cacao[cacao.Company.isin(all_Arete)]\n",
    "Arete_bt = AreteFilter.dropna(axis=0, subset=[\"BeanType\"])\n",
    "Arete_bt.head()"
   ]
  },
  {
   "cell_type": "code",
   "execution_count": 246,
   "metadata": {
    "scrolled": false
   },
   "outputs": [
    {
     "data": {
      "text/plain": [
       "BeanType\n",
       "Trinitario              3\n",
       "Forastero (Nacional)    3\n",
       "Criollo, Trinitario     1\n",
       "Name: BeanType, dtype: int64"
      ]
     },
     "execution_count": 246,
     "metadata": {},
     "output_type": "execute_result"
    }
   ],
   "source": [
    "Arete_btNum = Arete_bt.groupby('BeanType')['BeanType'].count().sort_values(ascending = False)\n",
    "Arete_btNum"
   ]
  },
  {
   "cell_type": "code",
   "execution_count": 247,
   "metadata": {},
   "outputs": [
    {
     "data": {
      "text/plain": [
       "BeanType\n",
       "Criollo, Trinitario     4.000000\n",
       "Forastero (Nacional)    3.750000\n",
       "Trinitario              3.583333\n",
       "Name: Rating, dtype: float64"
      ]
     },
     "execution_count": 247,
     "metadata": {},
     "output_type": "execute_result"
    }
   ],
   "source": [
    "Arete_avgs = Arete_bt.groupby('BeanType')['Rating'].mean().sort_values(ascending = False)\n",
    "Arete_avgs"
   ]
  },
  {
   "cell_type": "code",
   "execution_count": 271,
   "metadata": {
    "scrolled": false
   },
   "outputs": [
    {
     "data": {
      "text/html": [
       "<div>\n",
       "<style scoped>\n",
       "    .dataframe tbody tr th:only-of-type {\n",
       "        vertical-align: middle;\n",
       "    }\n",
       "\n",
       "    .dataframe tbody tr th {\n",
       "        vertical-align: top;\n",
       "    }\n",
       "\n",
       "    .dataframe thead th {\n",
       "        text-align: right;\n",
       "    }\n",
       "</style>\n",
       "<table border=\"1\" class=\"dataframe\">\n",
       "  <thead>\n",
       "    <tr style=\"text-align: right;\">\n",
       "      <th></th>\n",
       "      <th>Soma</th>\n",
       "      <th>Bonnat</th>\n",
       "      <th>Fresco</th>\n",
       "      <th>Pralus</th>\n",
       "      <th>A. Morin</th>\n",
       "      <th>Domori</th>\n",
       "      <th>Guittard</th>\n",
       "      <th>Arete</th>\n",
       "    </tr>\n",
       "  </thead>\n",
       "  <tbody>\n",
       "    <tr>\n",
       "      <th>Criollo</th>\n",
       "      <td>3.531250</td>\n",
       "      <td>3.395833</td>\n",
       "      <td>3.500000</td>\n",
       "      <td>3.406250</td>\n",
       "      <td>3.250000</td>\n",
       "      <td>3.611111</td>\n",
       "      <td>3.0000</td>\n",
       "      <td>4.0000</td>\n",
       "    </tr>\n",
       "    <tr>\n",
       "      <th>Forastero</th>\n",
       "      <td>3.500000</td>\n",
       "      <td>3.000000</td>\n",
       "      <td>3.250000</td>\n",
       "      <td>3.285714</td>\n",
       "      <td>NaN</td>\n",
       "      <td>4.000000</td>\n",
       "      <td>3.5000</td>\n",
       "      <td>3.7500</td>\n",
       "    </tr>\n",
       "    <tr>\n",
       "      <th>Trinitario</th>\n",
       "      <td>3.553571</td>\n",
       "      <td>3.500000</td>\n",
       "      <td>3.365385</td>\n",
       "      <td>3.392857</td>\n",
       "      <td>3.291667</td>\n",
       "      <td>3.214286</td>\n",
       "      <td>2.9375</td>\n",
       "      <td>3.6875</td>\n",
       "    </tr>\n",
       "    <tr>\n",
       "      <th>Blend</th>\n",
       "      <td>3.687500</td>\n",
       "      <td>NaN</td>\n",
       "      <td>NaN</td>\n",
       "      <td>NaN</td>\n",
       "      <td>NaN</td>\n",
       "      <td>3.625000</td>\n",
       "      <td>3.2500</td>\n",
       "      <td>NaN</td>\n",
       "    </tr>\n",
       "  </tbody>\n",
       "</table>\n",
       "</div>"
      ],
      "text/plain": [
       "                Soma    Bonnat    Fresco    Pralus  A. Morin    Domori  \\\n",
       "Criollo     3.531250  3.395833  3.500000  3.406250  3.250000  3.611111   \n",
       "Forastero   3.500000  3.000000  3.250000  3.285714       NaN  4.000000   \n",
       "Trinitario  3.553571  3.500000  3.365385  3.392857  3.291667  3.214286   \n",
       "Blend       3.687500       NaN       NaN       NaN       NaN  3.625000   \n",
       "\n",
       "            Guittard   Arete  \n",
       "Criollo       3.0000  4.0000  \n",
       "Forastero     3.5000  3.7500  \n",
       "Trinitario    2.9375  3.6875  \n",
       "Blend         3.2500     NaN  "
      ]
     },
     "execution_count": 271,
     "metadata": {},
     "output_type": "execute_result"
    }
   ],
   "source": [
    "#filter data to get selected beans\n",
    "crioFilter = Arete_bt[Arete_bt.BeanType.isin(all_Crio)].mean().Rating\n",
    "foraFilter = Arete_bt[Arete_bt.BeanType.isin(all_Fora)].mean().Rating\n",
    "triniFilter = Arete_bt[Arete_bt.BeanType.isin(all_Trini)].mean().Rating\n",
    "blendFilter = Arete_bt[Arete_bt.BeanType.isin(all_Blend)].mean().Rating\n",
    "\n",
    "d = [crioFilter, foraFilter, triniFilter, blendFilter]\n",
    "beanFrame['Arete'] = d\n",
    "beanFrame"
   ]
  },
  {
   "cell_type": "markdown",
   "metadata": {},
   "source": [
    "## Valrhona"
   ]
  },
  {
   "cell_type": "code",
   "execution_count": 249,
   "metadata": {},
   "outputs": [
    {
     "data": {
      "text/plain": [
       "array(['La Maison du Chocolat (Valrhona)', 'Valrhona'], dtype=object)"
      ]
     },
     "execution_count": 249,
     "metadata": {},
     "output_type": "execute_result"
    }
   ],
   "source": [
    "Valrhona_mask = np.array(['valrhona' in x.lower() for x in uniqueCompany])\n",
    "all_Valrhona = uniqueCompany[Valrhona_mask]\n",
    "all_Valrhona"
   ]
  },
  {
   "cell_type": "code",
   "execution_count": 250,
   "metadata": {},
   "outputs": [
    {
     "data": {
      "text/html": [
       "<div>\n",
       "<style scoped>\n",
       "    .dataframe tbody tr th:only-of-type {\n",
       "        vertical-align: middle;\n",
       "    }\n",
       "\n",
       "    .dataframe tbody tr th {\n",
       "        vertical-align: top;\n",
       "    }\n",
       "\n",
       "    .dataframe thead th {\n",
       "        text-align: right;\n",
       "    }\n",
       "</style>\n",
       "<table border=\"1\" class=\"dataframe\">\n",
       "  <thead>\n",
       "    <tr style=\"text-align: right;\">\n",
       "      <th></th>\n",
       "      <th>Company</th>\n",
       "      <th>SpecificOrigin_BarName</th>\n",
       "      <th>REF</th>\n",
       "      <th>ReviewDate</th>\n",
       "      <th>CocoaPerc</th>\n",
       "      <th>CompLoc</th>\n",
       "      <th>Rating</th>\n",
       "      <th>BeanType</th>\n",
       "      <th>BroadBeanOrigin</th>\n",
       "    </tr>\n",
       "  </thead>\n",
       "  <tbody>\n",
       "    <tr>\n",
       "      <th>934</th>\n",
       "      <td>La Maison du Chocolat (Valrhona)</td>\n",
       "      <td>Grenada</td>\n",
       "      <td>741</td>\n",
       "      <td>2011</td>\n",
       "      <td>0.68</td>\n",
       "      <td>France</td>\n",
       "      <td>3.50</td>\n",
       "      <td>Trinitario</td>\n",
       "      <td>Grenada</td>\n",
       "    </tr>\n",
       "    <tr>\n",
       "      <th>935</th>\n",
       "      <td>La Maison du Chocolat (Valrhona)</td>\n",
       "      <td>Akosombo</td>\n",
       "      <td>346</td>\n",
       "      <td>2009</td>\n",
       "      <td>0.68</td>\n",
       "      <td>France</td>\n",
       "      <td>3.25</td>\n",
       "      <td>Forastero</td>\n",
       "      <td>Ghana</td>\n",
       "    </tr>\n",
       "    <tr>\n",
       "      <th>936</th>\n",
       "      <td>La Maison du Chocolat (Valrhona)</td>\n",
       "      <td>Porcelana, Pariguan</td>\n",
       "      <td>346</td>\n",
       "      <td>2009</td>\n",
       "      <td>0.69</td>\n",
       "      <td>France</td>\n",
       "      <td>3.50</td>\n",
       "      <td>Criollo (Porcelana)</td>\n",
       "      <td>Venezuela</td>\n",
       "    </tr>\n",
       "    <tr>\n",
       "      <th>939</th>\n",
       "      <td>La Maison du Chocolat (Valrhona)</td>\n",
       "      <td>Cuana, 2008</td>\n",
       "      <td>230</td>\n",
       "      <td>2008</td>\n",
       "      <td>0.74</td>\n",
       "      <td>France</td>\n",
       "      <td>3.50</td>\n",
       "      <td>Blend</td>\n",
       "      <td>Ven., Indonesia, Ecuad.</td>\n",
       "    </tr>\n",
       "    <tr>\n",
       "      <th>1687</th>\n",
       "      <td>Valrhona</td>\n",
       "      <td>Porcelana, Pedegral</td>\n",
       "      <td>757</td>\n",
       "      <td>2011</td>\n",
       "      <td>0.64</td>\n",
       "      <td>France</td>\n",
       "      <td>4.00</td>\n",
       "      <td>Criollo</td>\n",
       "      <td>Venezuela</td>\n",
       "    </tr>\n",
       "  </tbody>\n",
       "</table>\n",
       "</div>"
      ],
      "text/plain": [
       "                               Company SpecificOrigin_BarName  REF  \\\n",
       "934   La Maison du Chocolat (Valrhona)                Grenada  741   \n",
       "935   La Maison du Chocolat (Valrhona)               Akosombo  346   \n",
       "936   La Maison du Chocolat (Valrhona)    Porcelana, Pariguan  346   \n",
       "939   La Maison du Chocolat (Valrhona)            Cuana, 2008  230   \n",
       "1687                          Valrhona    Porcelana, Pedegral  757   \n",
       "\n",
       "      ReviewDate  CocoaPerc CompLoc  Rating             BeanType  \\\n",
       "934         2011       0.68  France    3.50           Trinitario   \n",
       "935         2009       0.68  France    3.25            Forastero   \n",
       "936         2009       0.69  France    3.50  Criollo (Porcelana)   \n",
       "939         2008       0.74  France    3.50                Blend   \n",
       "1687        2011       0.64  France    4.00              Criollo   \n",
       "\n",
       "              BroadBeanOrigin  \n",
       "934                   Grenada  \n",
       "935                     Ghana  \n",
       "936                 Venezuela  \n",
       "939   Ven., Indonesia, Ecuad.  \n",
       "1687                Venezuela  "
      ]
     },
     "execution_count": 250,
     "metadata": {},
     "output_type": "execute_result"
    }
   ],
   "source": [
    "#filter data to get selected company bars that have Bean Type data\n",
    "ValrhonaFilter = cacao[cacao.Company.isin(all_Valrhona)]\n",
    "Valrhona_bt = ValrhonaFilter.dropna(axis=0, subset=[\"BeanType\"])\n",
    "Valrhona_bt.head()"
   ]
  },
  {
   "cell_type": "code",
   "execution_count": 251,
   "metadata": {
    "scrolled": false
   },
   "outputs": [
    {
     "data": {
      "text/plain": [
       "BeanType\n",
       "Trinitario             5\n",
       "Forastero              4\n",
       "Criollo (Porcelana)    3\n",
       "Criollo, Trinitario    2\n",
       "Blend                  2\n",
       "Criollo                1\n",
       "Name: BeanType, dtype: int64"
      ]
     },
     "execution_count": 251,
     "metadata": {},
     "output_type": "execute_result"
    }
   ],
   "source": [
    "Valrhona_btNum = Valrhona_bt.groupby('BeanType')['BeanType'].count().sort_values(ascending = False)\n",
    "Valrhona_btNum"
   ]
  },
  {
   "cell_type": "code",
   "execution_count": 252,
   "metadata": {},
   "outputs": [
    {
     "data": {
      "text/plain": [
       "BeanType\n",
       "Criollo, Trinitario    4.00\n",
       "Criollo                4.00\n",
       "Trinitario             3.25\n",
       "Criollo (Porcelana)    3.25\n",
       "Blend                  3.25\n",
       "Forastero              3.00\n",
       "Name: Rating, dtype: float64"
      ]
     },
     "execution_count": 252,
     "metadata": {},
     "output_type": "execute_result"
    }
   ],
   "source": [
    "Valrhona_avgs = Valrhona_bt.groupby('BeanType')['Rating'].mean().sort_values(ascending = False)\n",
    "Valrhona_avgs"
   ]
  },
  {
   "cell_type": "code",
   "execution_count": 272,
   "metadata": {
    "scrolled": false
   },
   "outputs": [
    {
     "data": {
      "text/html": [
       "<div>\n",
       "<style scoped>\n",
       "    .dataframe tbody tr th:only-of-type {\n",
       "        vertical-align: middle;\n",
       "    }\n",
       "\n",
       "    .dataframe tbody tr th {\n",
       "        vertical-align: top;\n",
       "    }\n",
       "\n",
       "    .dataframe thead th {\n",
       "        text-align: right;\n",
       "    }\n",
       "</style>\n",
       "<table border=\"1\" class=\"dataframe\">\n",
       "  <thead>\n",
       "    <tr style=\"text-align: right;\">\n",
       "      <th></th>\n",
       "      <th>Soma</th>\n",
       "      <th>Bonnat</th>\n",
       "      <th>Fresco</th>\n",
       "      <th>Pralus</th>\n",
       "      <th>A. Morin</th>\n",
       "      <th>Domori</th>\n",
       "      <th>Guittard</th>\n",
       "      <th>Arete</th>\n",
       "      <th>Valrhona</th>\n",
       "    </tr>\n",
       "  </thead>\n",
       "  <tbody>\n",
       "    <tr>\n",
       "      <th>Criollo</th>\n",
       "      <td>3.531250</td>\n",
       "      <td>3.395833</td>\n",
       "      <td>3.500000</td>\n",
       "      <td>3.406250</td>\n",
       "      <td>3.250000</td>\n",
       "      <td>3.611111</td>\n",
       "      <td>3.0000</td>\n",
       "      <td>4.0000</td>\n",
       "      <td>3.625000</td>\n",
       "    </tr>\n",
       "    <tr>\n",
       "      <th>Forastero</th>\n",
       "      <td>3.500000</td>\n",
       "      <td>3.000000</td>\n",
       "      <td>3.250000</td>\n",
       "      <td>3.285714</td>\n",
       "      <td>NaN</td>\n",
       "      <td>4.000000</td>\n",
       "      <td>3.5000</td>\n",
       "      <td>3.7500</td>\n",
       "      <td>3.000000</td>\n",
       "    </tr>\n",
       "    <tr>\n",
       "      <th>Trinitario</th>\n",
       "      <td>3.553571</td>\n",
       "      <td>3.500000</td>\n",
       "      <td>3.365385</td>\n",
       "      <td>3.392857</td>\n",
       "      <td>3.291667</td>\n",
       "      <td>3.214286</td>\n",
       "      <td>2.9375</td>\n",
       "      <td>3.6875</td>\n",
       "      <td>3.464286</td>\n",
       "    </tr>\n",
       "    <tr>\n",
       "      <th>Blend</th>\n",
       "      <td>3.687500</td>\n",
       "      <td>NaN</td>\n",
       "      <td>NaN</td>\n",
       "      <td>NaN</td>\n",
       "      <td>NaN</td>\n",
       "      <td>3.625000</td>\n",
       "      <td>3.2500</td>\n",
       "      <td>NaN</td>\n",
       "      <td>3.250000</td>\n",
       "    </tr>\n",
       "  </tbody>\n",
       "</table>\n",
       "</div>"
      ],
      "text/plain": [
       "                Soma    Bonnat    Fresco    Pralus  A. Morin    Domori  \\\n",
       "Criollo     3.531250  3.395833  3.500000  3.406250  3.250000  3.611111   \n",
       "Forastero   3.500000  3.000000  3.250000  3.285714       NaN  4.000000   \n",
       "Trinitario  3.553571  3.500000  3.365385  3.392857  3.291667  3.214286   \n",
       "Blend       3.687500       NaN       NaN       NaN       NaN  3.625000   \n",
       "\n",
       "            Guittard   Arete  Valrhona  \n",
       "Criollo       3.0000  4.0000  3.625000  \n",
       "Forastero     3.5000  3.7500  3.000000  \n",
       "Trinitario    2.9375  3.6875  3.464286  \n",
       "Blend         3.2500     NaN  3.250000  "
      ]
     },
     "execution_count": 272,
     "metadata": {},
     "output_type": "execute_result"
    }
   ],
   "source": [
    "#filter data to get selected beans\n",
    "crioFilter = Valrhona_bt[Valrhona_bt.BeanType.isin(all_Crio)].mean().Rating\n",
    "foraFilter = Valrhona_bt[Valrhona_bt.BeanType.isin(all_Fora)].mean().Rating\n",
    "triniFilter = Valrhona_bt[Valrhona_bt.BeanType.isin(all_Trini)].mean().Rating\n",
    "blendFilter = Valrhona_bt[Valrhona_bt.BeanType.isin(all_Blend)].mean().Rating\n",
    "\n",
    "d = [crioFilter, foraFilter, triniFilter, blendFilter]\n",
    "beanFrame['Valrhona'] = d\n",
    "beanFrame"
   ]
  },
  {
   "cell_type": "markdown",
   "metadata": {},
   "source": [
    "# Use KNN to Categorize by Bean Type\n",
    "### List the unique Bean Types"
   ]
  },
  {
   "cell_type": "code",
   "execution_count": 71,
   "metadata": {},
   "outputs": [
    {
     "data": {
      "text/plain": [
       "array([nan, 'Criollo', 'Trinitario', 'Forastero (Arriba)', 'Forastero',\n",
       "       'Forastero (Nacional)', 'Criollo, Trinitario',\n",
       "       'Criollo (Porcelana)', 'Blend', 'Trinitario (85% Criollo)',\n",
       "       'Forastero (Catongo)', 'Forastero (Parazinho)',\n",
       "       'Trinitario, Criollo', 'CCN51', 'Criollo (Ocumare)', 'Nacional',\n",
       "       'Criollo (Ocumare 61)', 'Criollo (Ocumare 77)',\n",
       "       'Criollo (Ocumare 67)', 'Criollo (Wild)', 'Beniano', 'Amazon mix',\n",
       "       'Trinitario, Forastero', 'Forastero (Arriba) ASS', 'Criollo, +',\n",
       "       'Amazon', 'Amazon, ICS', 'EET', 'Blend-Forastero,Criollo',\n",
       "       'Trinitario (Scavina)', 'Criollo, Forastero', 'Matina',\n",
       "       'Forastero(Arriba, CCN)', 'Nacional (Arriba)',\n",
       "       'Forastero (Arriba) ASSS', 'Forastero, Trinitario',\n",
       "       'Forastero (Amelonado)', 'Trinitario, Nacional',\n",
       "       'Trinitario (Amelonado)', 'Trinitario, TCGA', 'Criollo (Amarru)'], dtype=object)"
      ]
     },
     "execution_count": 71,
     "metadata": {},
     "output_type": "execute_result"
    }
   ],
   "source": [
    "cacao.iloc[:,7].unique()"
   ]
  },
  {
   "cell_type": "markdown",
   "metadata": {},
   "source": [
    "### Group by similar bean type and save in new column GenBeanType"
   ]
  },
  {
   "cell_type": "code",
   "execution_count": 32,
   "metadata": {},
   "outputs": [
    {
     "name": "stderr",
     "output_type": "stream",
     "text": [
      "/Users/arieltodoki/anaconda/lib/python3.5/site-packages/ipykernel/__main__.py:41: SettingWithCopyWarning: \n",
      "A value is trying to be set on a copy of a slice from a DataFrame.\n",
      "Try using .loc[row_indexer,col_indexer] = value instead\n",
      "\n",
      "See the caveats in the documentation: http://pandas.pydata.org/pandas-docs/stable/indexing.html#indexing-view-versus-copy\n"
     ]
    },
    {
     "data": {
      "text/html": [
       "<div>\n",
       "<style>\n",
       "    .dataframe thead tr:only-child th {\n",
       "        text-align: right;\n",
       "    }\n",
       "\n",
       "    .dataframe thead th {\n",
       "        text-align: left;\n",
       "    }\n",
       "\n",
       "    .dataframe tbody tr th {\n",
       "        vertical-align: top;\n",
       "    }\n",
       "</style>\n",
       "<table border=\"1\" class=\"dataframe\">\n",
       "  <thead>\n",
       "    <tr style=\"text-align: right;\">\n",
       "      <th></th>\n",
       "      <th>Company</th>\n",
       "      <th>CocoaPerc</th>\n",
       "      <th>Rating</th>\n",
       "      <th>BeanType</th>\n",
       "      <th>BroadBeanOrigin</th>\n",
       "      <th>GenBeanType</th>\n",
       "    </tr>\n",
       "  </thead>\n",
       "  <tbody>\n",
       "    <tr>\n",
       "      <th>5</th>\n",
       "      <td>A. Morin</td>\n",
       "      <td>0.7</td>\n",
       "      <td>2.75</td>\n",
       "      <td>Criollo</td>\n",
       "      <td>Venezuela</td>\n",
       "      <td>Criollo</td>\n",
       "    </tr>\n",
       "    <tr>\n",
       "      <th>7</th>\n",
       "      <td>A. Morin</td>\n",
       "      <td>0.7</td>\n",
       "      <td>3.50</td>\n",
       "      <td>Criollo</td>\n",
       "      <td>Venezuela</td>\n",
       "      <td>Criollo</td>\n",
       "    </tr>\n",
       "    <tr>\n",
       "      <th>8</th>\n",
       "      <td>A. Morin</td>\n",
       "      <td>0.7</td>\n",
       "      <td>3.75</td>\n",
       "      <td>Criollo</td>\n",
       "      <td>Venezuela</td>\n",
       "      <td>Criollo</td>\n",
       "    </tr>\n",
       "    <tr>\n",
       "      <th>11</th>\n",
       "      <td>A. Morin</td>\n",
       "      <td>0.7</td>\n",
       "      <td>3.00</td>\n",
       "      <td>Criollo</td>\n",
       "      <td>Madagascar</td>\n",
       "      <td>Criollo</td>\n",
       "    </tr>\n",
       "    <tr>\n",
       "      <th>17</th>\n",
       "      <td>A. Morin</td>\n",
       "      <td>0.7</td>\n",
       "      <td>4.00</td>\n",
       "      <td>Trinitario</td>\n",
       "      <td>Venezuela</td>\n",
       "      <td>Trinitario</td>\n",
       "    </tr>\n",
       "  </tbody>\n",
       "</table>\n",
       "</div>"
      ],
      "text/plain": [
       "     Company  CocoaPerc  Rating    BeanType BroadBeanOrigin GenBeanType\n",
       "5   A. Morin        0.7    2.75     Criollo       Venezuela     Criollo\n",
       "7   A. Morin        0.7    3.50     Criollo       Venezuela     Criollo\n",
       "8   A. Morin        0.7    3.75     Criollo       Venezuela     Criollo\n",
       "11  A. Morin        0.7    3.00     Criollo      Madagascar     Criollo\n",
       "17  A. Morin        0.7    4.00  Trinitario       Venezuela  Trinitario"
      ]
     },
     "execution_count": 32,
     "metadata": {},
     "output_type": "execute_result"
    }
   ],
   "source": [
    "relevant = cacao.iloc[:, [0, 4, 6, 7, 8]]\n",
    "cacao2 = relevant.dropna(axis=0, subset=[\"BeanType\"])\n",
    "\n",
    "def groupBeanType (group):\n",
    "    if ((group['BeanType'] == 'Criollo') | (group['BeanType'] == 'Criollo (Porcelana)') |\n",
    "       (group['BeanType'] == 'Criollo, Trinitario') | (group['BeanType'] == 'Trinitario (85% Criollo)') |\n",
    "       (group['BeanType'] == 'Criollo (Ocumare)') | (group['BeanType'] == 'Criollo (Ocumare 61)') |\n",
    "       (group['BeanType'] == 'Criollo (Ocumare 77)') | (group['BeanType'] == 'Criollo (ocumare 67)') |\n",
    "       (group['BeanType'] == 'Criollo (Wild)') | (group['BeanType'] == 'Criollo, +') |\n",
    "       (group['BeanType'] == 'Criollo, Forastero') | (group['BeanType'] == 'Criollo (Amarru)')):\n",
    "        val = \"Criollo\"\n",
    "    elif ((group['BeanType'] == 'Forastero')| (group['BeanType'] == 'Forastero (Arriba)') | \n",
    "          (group['BeanType'] == 'Forastero (Nacional)') | (group['BeanType'] == 'Forastero (Catongo)') |\n",
    "         (group['BeanType'] == 'Forastero (Parazinho)') | (group['BeanType'] == 'Forastero (Arriba) ASS') |\n",
    "         (group['BeanType'] == 'Forastero (Arriba, CCN)') | (group['BeanType'] == 'Forastero (Arriba) ASSS') |\n",
    "         (group['BeanType'] == 'Forastero, Trinitario') | (group['BeanType'] == 'Forastero (Amelonado)')):\n",
    "        val = 'Forastero'\n",
    "    elif ((group['BeanType'] == 'Trinitario') | (group['BeanType'] == 'Trinitario (85% Criollo)') |\n",
    "         (group['BeanType'] == 'Trinitario, Criollo') | (group['BeanType'] == 'Trinitario, Forastero') |\n",
    "         (group['BeanType'] == 'Trinitario (Scavina)') | (group['BeanType'] == 'Trinitario, Nacional') |\n",
    "         (group['BeanType'] == 'Trinitario (Amelonado)') | (group['BeanType'] == 'Trinitario, TCGA')):\n",
    "        val = 'Trinitario'\n",
    "    else:\n",
    "        val = 'Other'\n",
    "        \n",
    "    return val\n",
    "\n",
    "cacao2['GenBeanType'] = cacao2.apply(groupBeanType, axis = 1)\n",
    "cacao2.head()"
   ]
  },
  {
   "cell_type": "markdown",
   "metadata": {},
   "source": [
    "### Split data into X and Y\n",
    "X is Cocoa Percent and Rating, Y is GenBeanType"
   ]
  },
  {
   "cell_type": "code",
   "execution_count": 33,
   "metadata": {
    "collapsed": true
   },
   "outputs": [],
   "source": [
    "X = cacao2.iloc[:, [1,2]].values # CocoaPerc and Rating \n",
    "Y = cacao2.iloc[:, 5].values # GenBeanType"
   ]
  },
  {
   "cell_type": "code",
   "execution_count": 34,
   "metadata": {
    "collapsed": true
   },
   "outputs": [],
   "source": [
    "from sklearn.model_selection import train_test_split\n",
    "X_train, X_test, Y_train, Y_test = train_test_split(X,Y, test_size=0.20, random_state = 21)"
   ]
  },
  {
   "cell_type": "code",
   "execution_count": 35,
   "metadata": {
    "collapsed": true
   },
   "outputs": [],
   "source": [
    "from sklearn.preprocessing import StandardScaler\n",
    "scaler = StandardScaler()\n",
    "scaler.fit(X_train)\n",
    "\n",
    "X_train = scaler.transform(X_train)\n",
    "X_test = scaler.transform(X_test)"
   ]
  },
  {
   "cell_type": "code",
   "execution_count": 36,
   "metadata": {},
   "outputs": [
    {
     "data": {
      "text/plain": [
       "KNeighborsClassifier(algorithm='auto', leaf_size=30, metric='minkowski',\n",
       "           metric_params=None, n_jobs=1, n_neighbors=23, p=2,\n",
       "           weights='uniform')"
      ]
     },
     "execution_count": 36,
     "metadata": {},
     "output_type": "execute_result"
    }
   ],
   "source": [
    "from sklearn.neighbors import KNeighborsClassifier\n",
    "classifier = KNeighborsClassifier(n_neighbors = 23)\n",
    "classifier.fit(X_train,Y_train)"
   ]
  },
  {
   "cell_type": "markdown",
   "metadata": {},
   "source": [
    "### Predict categorizations using X_test"
   ]
  },
  {
   "cell_type": "code",
   "execution_count": 37,
   "metadata": {
    "collapsed": true
   },
   "outputs": [],
   "source": [
    "y_pred = classifier.predict(X_test) # category predictions using X_test"
   ]
  },
  {
   "cell_type": "markdown",
   "metadata": {},
   "source": [
    "### Print confusion matrix and classification report"
   ]
  },
  {
   "cell_type": "code",
   "execution_count": 38,
   "metadata": {},
   "outputs": [
    {
     "name": "stdout",
     "output_type": "stream",
     "text": [
      "[[ 6  3  0 33]\n",
      " [ 4  2  0 35]\n",
      " [ 0  0  0 10]\n",
      " [12  2  0 75]]\n",
      "             precision    recall  f1-score   support\n",
      "\n",
      "    Criollo       0.27      0.14      0.19        42\n",
      "  Forastero       0.29      0.05      0.08        41\n",
      "      Other       0.00      0.00      0.00        10\n",
      " Trinitario       0.49      0.84      0.62        89\n",
      "\n",
      "avg / total       0.37      0.46      0.37       182\n",
      "\n"
     ]
    },
    {
     "name": "stderr",
     "output_type": "stream",
     "text": [
      "/Users/arieltodoki/anaconda/lib/python3.5/site-packages/sklearn/metrics/classification.py:1135: UndefinedMetricWarning: Precision and F-score are ill-defined and being set to 0.0 in labels with no predicted samples.\n",
      "  'precision', 'predicted', average, warn_for)\n"
     ]
    }
   ],
   "source": [
    "from sklearn.metrics import classification_report, confusion_matrix\n",
    "print(confusion_matrix(Y_test, y_pred))\n",
    "print(classification_report(Y_test, y_pred))"
   ]
  },
  {
   "cell_type": "markdown",
   "metadata": {},
   "source": [
    "### Plot Error Rate for Different K Values"
   ]
  },
  {
   "cell_type": "code",
   "execution_count": 39,
   "metadata": {
    "collapsed": true
   },
   "outputs": [],
   "source": [
    "error = []\n",
    "\n",
    "for i in range(1, 40):\n",
    "    knn = KNeighborsClassifier(n_neighbors = i)\n",
    "    knn.fit(X_train, Y_train)\n",
    "    pred_i = knn.predict(X_test)\n",
    "    error.append(np.mean(pred_i != Y_test))"
   ]
  },
  {
   "cell_type": "code",
   "execution_count": 40,
   "metadata": {},
   "outputs": [
    {
     "data": {
      "text/plain": [
       "<matplotlib.text.Text at 0x12689ba20>"
      ]
     },
     "execution_count": 40,
     "metadata": {},
     "output_type": "execute_result"
    },
    {
     "data": {
      "image/png": "[encoded data removed]",
      "text/plain": [
       "<matplotlib.figure.Figure at 0x126870b70>"
      ]
     },
     "metadata": {},
     "output_type": "display_data"
    }
   ],
   "source": [
    "% matplotlib inline\n",
    "plt.figure(figsize=(12,6))\n",
    "plt.plot(range(1,40), error, color='red', linestyle='dashed', marker='o',\n",
    "        markerfacecolor='blue', markersize = 10)\n",
    "plt.title('Error Rate K Value')\n",
    "plt.xlabel('K Value')\n",
    "plt.ylabel('Mean Error')"
   ]
  },
  {
   "cell_type": "markdown",
   "metadata": {},
   "source": [
    "### Scatter plot of correct categorization of GenBeanType"
   ]
  },
  {
   "cell_type": "code",
   "execution_count": 41,
   "metadata": {},
   "outputs": [
    {
     "data": {
      "image/png": "[encoded data removed]",
      "text/plain": [
       "<matplotlib.figure.Figure at 0x126870da0>"
      ]
     },
     "metadata": {},
     "output_type": "display_data"
    }
   ],
   "source": [
    "scatter = sns.lmplot(x = 'CocoaPerc', y = 'Rating', data = cacao2, hue = 'GenBeanType', palette=dict(Criollo=\"g\", Forastero =\"b\", Trinitario=\"r\", Other=\"m\"))"
   ]
  },
  {
   "cell_type": "markdown",
   "metadata": {},
   "source": [
    "### Graph the training set"
   ]
  },
  {
   "cell_type": "code",
   "execution_count": 42,
   "metadata": {},
   "outputs": [
    {
     "data": {
      "image/png": "[encoded data removed]",
      "text/plain": [
       "<matplotlib.figure.Figure at 0x126f58780>"
      ]
     },
     "metadata": {},
     "output_type": "display_data"
    }
   ],
   "source": [
    "d = {'col1': X_train[:,0], 'col2': X_train[:,1], 'col3': Y_train}\n",
    "df = pd.DataFrame(data = d)\n",
    "df = df[df['col3'] != 'Other']\n",
    "scatter = sns.lmplot(x = 'col1', y = 'col2', data = df, hue = 'col3', fit_reg = False, palette=dict(Criollo=\"g\", Forastero =\"b\", Trinitario=\"r\"))"
   ]
  },
  {
   "cell_type": "markdown",
   "metadata": {},
   "source": [
    "### Graph the test set\n",
    "Shows the correct categorization of GenBeanType"
   ]
  },
  {
   "cell_type": "code",
   "execution_count": 43,
   "metadata": {},
   "outputs": [
    {
     "data": {
      "image/png": "[encoded data removed]",
      "text/plain": [
       "<matplotlib.figure.Figure at 0x127bb7b00>"
      ]
     },
     "metadata": {},
     "output_type": "display_data"
    }
   ],
   "source": [
    "d = {'col1': X_test[:,0], 'col2': X_test[:,1], 'col3': Y_test}\n",
    "df = pd.DataFrame(data = d)\n",
    "df = df[df['col3'] != 'Other']\n",
    "scatter = sns.lmplot(x = 'col1', y = 'col2', data = df, hue = 'col3', fit_reg = False, palette=dict(Criollo=\"g\", Forastero =\"b\", Trinitario=\"r\"))"
   ]
  },
  {
   "cell_type": "markdown",
   "metadata": {},
   "source": [
    "### Graph the Categories the KNN algorithm determined"
   ]
  },
  {
   "cell_type": "code",
   "execution_count": 44,
   "metadata": {
    "scrolled": false
   },
   "outputs": [
    {
     "data": {
      "image/png": "[encoded data removed]",
      "text/plain": [
       "<matplotlib.figure.Figure at 0x126fe2860>"
      ]
     },
     "metadata": {},
     "output_type": "display_data"
    }
   ],
   "source": [
    "d = {'col1': X_test[:,0], 'col2': X_test[:,1], 'col3': y_pred}\n",
    "df = pd.DataFrame(data = d)\n",
    "df = df[df['col3'] != 'Other']\n",
    "scatter = sns.lmplot(x = 'col1', y = 'col2', data = df, hue = 'col3', fit_reg = False, palette=dict(Criollo=\"g\", Forastero =\"b\", Trinitario=\"r\"))"
   ]
  },
  {
   "cell_type": "markdown",
   "metadata": {},
   "source": [
    "# Fit to Linear Model\n",
    "### Model predicts Rating from the Cocoa Percent"
   ]
  },
  {
   "cell_type": "code",
   "execution_count": 67,
   "metadata": {
    "collapsed": true
   },
   "outputs": [],
   "source": [
    "import statsmodels.api as sm\n",
    "from scipy import stats"
   ]
  },
  {
   "cell_type": "code",
   "execution_count": 59,
   "metadata": {},
   "outputs": [],
   "source": [
    "X1 = np.array(cacao2['CocoaPerc'])\n",
    "X1 = X1.reshape(-1,1)\n",
    "Y1 = np.array(cacao2['Rating'])\n",
    "Y1 = Y1.reshape(-1,1)"
   ]
  },
  {
   "cell_type": "code",
   "execution_count": 68,
   "metadata": {},
   "outputs": [
    {
     "name": "stdout",
     "output_type": "stream",
     "text": [
      "                            OLS Regression Results                            \n",
      "==============================================================================\n",
      "Dep. Variable:                      y   R-squared:                       0.047\n",
      "Model:                            OLS   Adj. R-squared:                  0.045\n",
      "Method:                 Least Squares   F-statistic:                     35.44\n",
      "Date:                Tue, 01 May 2018   Prob (F-statistic):           4.11e-09\n",
      "Time:                        00:09:37   Log-Likelihood:                -474.37\n",
      "No. Observations:                 725   AIC:                             952.7\n",
      "Df Residuals:                     723   BIC:                             961.9\n",
      "Df Model:                           1                                         \n",
      "Covariance Type:            nonrobust                                         \n",
      "==============================================================================\n",
      "                 coef    std err          t      P>|t|      [0.025      0.975]\n",
      "------------------------------------------------------------------------------\n",
      "const          4.4494      0.206     21.559      0.000       4.044       4.855\n",
      "x1            -1.7002      0.286     -5.953      0.000      -2.261      -1.139\n",
      "==============================================================================\n",
      "Omnibus:                       15.542   Durbin-Watson:                   1.995\n",
      "Prob(Omnibus):                  0.000   Jarque-Bera (JB):               17.279\n",
      "Skew:                          -0.294   Prob(JB):                     0.000177\n",
      "Kurtosis:                       3.475   Cond. No.                         25.1\n",
      "==============================================================================\n",
      "\n",
      "Warnings:\n",
      "[1] Standard Errors assume that the covariance matrix of the errors is correctly specified.\n"
     ]
    }
   ],
   "source": [
    "X2 = sm.add_constant(X_train)\n",
    "X3 = sm.add_constant(X_test)\n",
    "est = sm.OLS(Y_train, X2)\n",
    "est2 = est.fit()\n",
    "print(est2.summary())"
   ]
  },
  {
   "cell_type": "markdown",
   "metadata": {},
   "source": [
    "### Predict Rating using X_test (X3)"
   ]
  },
  {
   "cell_type": "code",
   "execution_count": 69,
   "metadata": {
    "collapsed": true
   },
   "outputs": [],
   "source": [
    "ypred = est2.predict(X3)"
   ]
  },
  {
   "cell_type": "code",
   "execution_count": 70,
   "metadata": {},
   "outputs": [
    {
     "data": {
      "text/plain": [
       "<matplotlib.legend.Legend at 0x127bc5a90>"
      ]
     },
     "execution_count": 70,
     "metadata": {},
     "output_type": "execute_result"
    },
    {
     "data": {
      "image/png": "[encoded data removed]",
      "text/plain": [
       "<matplotlib.figure.Figure at 0x1252a92e8>"
      ]
     },
     "metadata": {},
     "output_type": "display_data"
    }
   ],
   "source": [
    "fig, ax = plt.subplots()\n",
    "ax.plot(X_test, ypred, 'r', label = 'OLS prediction')\n",
    "ax.scatter(X_test, Y_test, label = 'True Values')\n",
    "ax.legend(loc='best')"
   ]
  },
  {
   "cell_type": "code",
   "execution_count": null,
   "metadata": {
    "collapsed": true
   },
   "outputs": [],
   "source": []
  }
 ],
 "metadata": {
  "anaconda-cloud": {},
  "kernelspec": {
   "display_name": "Python 3",
   "language": "python",
   "name": "python3"
  },
  "language_info": {
   "codemirror_mode": {
    "name": "ipython",
    "version": 3
   },
   "file_extension": ".py",
   "mimetype": "text/x-python",
   "name": "python",
   "nbconvert_exporter": "python",
   "pygments_lexer": "ipython3",
   "version": "3.6.4"
  }
 },
 "nbformat": 4,
 "nbformat_minor": 1
}
