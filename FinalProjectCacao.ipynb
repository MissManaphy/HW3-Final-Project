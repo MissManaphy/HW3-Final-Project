{
 "cells": [
  {
   "cell_type": "code",
   "execution_count": 2,
   "metadata": {
    "collapsed": true
   },
   "outputs": [],
   "source": [
    "import pandas as pd\n",
    "import numpy as np"
   ]
  },
  {
   "cell_type": "markdown",
   "metadata": {},
   "source": [
    "## Read in Data\n",
    "### Path is set so that the csv file is in the same directory as the ipython notebook file"
   ]
  },
  {
   "cell_type": "code",
   "execution_count": 53,
   "metadata": {
    "collapsed": true
   },
   "outputs": [],
   "source": [
    "cacao = pd.read_csv('Desktop/flavors_of_cacao.csv')"
   ]
  },
  {
   "cell_type": "code",
   "execution_count": 57,
   "metadata": {},
   "outputs": [],
   "source": [
    "cacao.columns = ['Company', 'SpecificOrigin_BarName','REF','ReviewDate','CocoaPerc','CompLoc','Rating','BeanType','BroadBeanOrigin']"
   ]
  },
  {
   "cell_type": "code",
   "execution_count": 58,
   "metadata": {},
   "outputs": [
    {
     "data": {
      "text/html": [
       "<div>\n",
       "<table border=\"1\" class=\"dataframe\">\n",
       "  <thead>\n",
       "    <tr style=\"text-align: right;\">\n",
       "      <th></th>\n",
       "      <th>Company</th>\n",
       "      <th>SpecificOrigin_BarName</th>\n",
       "      <th>REF</th>\n",
       "      <th>ReviewDate</th>\n",
       "      <th>CocoaPerc</th>\n",
       "      <th>CompLoc</th>\n",
       "      <th>Rating</th>\n",
       "      <th>BeanType</th>\n",
       "      <th>BroadBeanOrigin</th>\n",
       "    </tr>\n",
       "  </thead>\n",
       "  <tbody>\n",
       "    <tr>\n",
       "      <th>0</th>\n",
       "      <td>A. Morin</td>\n",
       "      <td>Agua Grande</td>\n",
       "      <td>1876</td>\n",
       "      <td>2016</td>\n",
       "      <td>63%</td>\n",
       "      <td>France</td>\n",
       "      <td>3.75</td>\n",
       "      <td></td>\n",
       "      <td>Sao Tome</td>\n",
       "    </tr>\n",
       "    <tr>\n",
       "      <th>1</th>\n",
       "      <td>A. Morin</td>\n",
       "      <td>Kpime</td>\n",
       "      <td>1676</td>\n",
       "      <td>2015</td>\n",
       "      <td>70%</td>\n",
       "      <td>France</td>\n",
       "      <td>2.75</td>\n",
       "      <td></td>\n",
       "      <td>Togo</td>\n",
       "    </tr>\n",
       "    <tr>\n",
       "      <th>2</th>\n",
       "      <td>A. Morin</td>\n",
       "      <td>Atsane</td>\n",
       "      <td>1676</td>\n",
       "      <td>2015</td>\n",
       "      <td>70%</td>\n",
       "      <td>France</td>\n",
       "      <td>3.00</td>\n",
       "      <td></td>\n",
       "      <td>Togo</td>\n",
       "    </tr>\n",
       "    <tr>\n",
       "      <th>3</th>\n",
       "      <td>A. Morin</td>\n",
       "      <td>Akata</td>\n",
       "      <td>1680</td>\n",
       "      <td>2015</td>\n",
       "      <td>70%</td>\n",
       "      <td>France</td>\n",
       "      <td>3.50</td>\n",
       "      <td></td>\n",
       "      <td>Togo</td>\n",
       "    </tr>\n",
       "    <tr>\n",
       "      <th>4</th>\n",
       "      <td>A. Morin</td>\n",
       "      <td>Quilla</td>\n",
       "      <td>1704</td>\n",
       "      <td>2015</td>\n",
       "      <td>70%</td>\n",
       "      <td>France</td>\n",
       "      <td>3.50</td>\n",
       "      <td></td>\n",
       "      <td>Peru</td>\n",
       "    </tr>\n",
       "  </tbody>\n",
       "</table>\n",
       "</div>"
      ],
      "text/plain": [
       "    Company SpecificOrigin_BarName   REF  ReviewDate CocoaPerc CompLoc  \\\n",
       "0  A. Morin            Agua Grande  1876        2016       63%  France   \n",
       "1  A. Morin                  Kpime  1676        2015       70%  France   \n",
       "2  A. Morin                 Atsane  1676        2015       70%  France   \n",
       "3  A. Morin                  Akata  1680        2015       70%  France   \n",
       "4  A. Morin                 Quilla  1704        2015       70%  France   \n",
       "\n",
       "   Rating BeanType BroadBeanOrigin  \n",
       "0    3.75                 Sao Tome  \n",
       "1    2.75                     Togo  \n",
       "2    3.00                     Togo  \n",
       "3    3.50                     Togo  \n",
       "4    3.50                     Peru  "
      ]
     },
     "execution_count": 58,
     "metadata": {},
     "output_type": "execute_result"
    }
   ],
   "source": [
    "cacao.head()"
   ]
  },
  {
   "cell_type": "markdown",
   "metadata": {},
   "source": [
    "## Find the max rating from each company"
   ]
  },
  {
   "cell_type": "code",
   "execution_count": 37,
   "metadata": {},
   "outputs": [
    {
     "data": {
      "text/plain": [
       "Company\n",
       "Amedei                                     5\n",
       "A. Morin                                   4\n",
       "Danta                                      4\n",
       "Durci                                      4\n",
       "Ritual                                     4\n",
       "Duffy's                                    4\n",
       "Domori                                     4\n",
       "Santander (Compania Nacional)              4\n",
       "Scharffen Berger                           4\n",
       "Pralus                                     4\n",
       "Claudio Corallo                            4\n",
       "Smooth Chocolator, The                     4\n",
       "Soma                                       4\n",
       "Castronovo                                 4\n",
       "Cacao Sampaka                              4\n",
       "Brasstown aka It's Chocolate               4\n",
       "Felchlin                                   4\n",
       "Fresco                                     4\n",
       "Tobago Estate (Pralus)                     4\n",
       "Pierre Marcolini                           4\n",
       "Patric                                     4\n",
       "Fruition                                   4\n",
       "Georgia Ramon                              4\n",
       "Pacari                                     4\n",
       "Ocelot                                     4\n",
       "Heirloom Cacao Preservation (Zokoko)       4\n",
       "Hotel Chocolat                             4\n",
       "Idilio (Felchlin)                          4\n",
       "Just Good Chocolate                        4\n",
       "L.A. Burdick (Felchlin)                    4\n",
       "                                        ... \n",
       "Cemoi                                   2.75\n",
       "Bronx Grrl Chocolate                    2.75\n",
       "Mita                                     2.5\n",
       "La Oroquidea                             2.5\n",
       "Desbarres                                2.5\n",
       "Lake Champlain (Callebaut)               2.5\n",
       "Whittakers                               2.5\n",
       "Loiza                                    2.5\n",
       "Menakao (aka Cinagra)                    2.5\n",
       "Marsatta                                 2.5\n",
       "Shark's                                  2.5\n",
       "Oakland Chocolate Co.                    2.5\n",
       "Chocovivo                                2.5\n",
       "Cacao Arabuco                            2.5\n",
       "Pinellas                                 2.5\n",
       "Raw Cocoa                                2.5\n",
       "Chocolate Alchemist-Philly               2.5\n",
       "Chocolats Privilege                      2.5\n",
       "Sibu Sura                                2.5\n",
       "Indah                                    2.5\n",
       "Garden Island                            2.5\n",
       "Hachez                                   2.5\n",
       "Honest                                   2.5\n",
       "Green & Black's (ICAM)                   2.5\n",
       "Machu Picchu Trading Co.                2.25\n",
       "Love Bar                                   2\n",
       "Majani                                     2\n",
       "Jacque Torres                              2\n",
       "Ki' Xocolatl                               2\n",
       "Cote d' Or (Kraft)                         1\n",
       "Name: Rating, dtype: object"
      ]
     },
     "execution_count": 37,
     "metadata": {},
     "output_type": "execute_result"
    }
   ],
   "source": [
    "maxCompRating = cacao.groupby('Company')['Rating'].max()\n",
    "maxCompRating.sort_values(ascending = False)"
   ]
  },
  {
   "cell_type": "code",
   "execution_count": 32,
   "metadata": {},
   "outputs": [
    {
     "data": {
      "text/plain": [
       "pandas.core.series.Series"
      ]
     },
     "execution_count": 32,
     "metadata": {},
     "output_type": "execute_result"
    }
   ],
   "source": []
  },
  {
   "cell_type": "code",
   "execution_count": null,
   "metadata": {
    "collapsed": true
   },
   "outputs": [],
   "source": []
  }
 ],
 "metadata": {
  "anaconda-cloud": {},
  "kernelspec": {
   "display_name": "Python [Root]",
   "language": "python",
   "name": "Python [Root]"
  },
  "language_info": {
   "codemirror_mode": {
    "name": "ipython",
    "version": 3
   },
   "file_extension": ".py",
   "mimetype": "text/x-python",
   "name": "python",
   "nbconvert_exporter": "python",
   "pygments_lexer": "ipython3",
   "version": "3.5.2"
  }
 },
 "nbformat": 4,
 "nbformat_minor": 1
}
