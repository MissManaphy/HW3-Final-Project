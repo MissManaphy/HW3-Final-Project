{
 "cells": [
  {
   "cell_type": "code",
   "execution_count": 2,
   "metadata": {},
   "outputs": [],
   "source": [
    "import pandas as pd\n",
    "import numpy as np\n",
    "import matplotlib.pyplot as plt\n",
    "\n",
    "# use to display plots in ipython notebook\n",
    "%matplotlib inline"
   ]
  },
  {
   "cell_type": "markdown",
   "metadata": {},
   "source": [
    "## Read in Data\n",
    "### Path is set so that the csv file is in the same directory as the ipython notebook file"
   ]
  },
  {
   "cell_type": "code",
   "execution_count": 3,
   "metadata": {},
   "outputs": [],
   "source": [
    "cacao = pd.read_csv('flavors_of_cacao.csv')"
   ]
  },
  {
   "cell_type": "code",
   "execution_count": 4,
   "metadata": {},
   "outputs": [],
   "source": [
    "cacao.columns = ['Company', 'SpecificOrigin_BarName','REF','ReviewDate','CocoaPerc','CompLoc','Rating','BeanType','BroadBeanOrigin']"
   ]
  },
  {
   "cell_type": "code",
   "execution_count": 5,
   "metadata": {
    "scrolled": true
   },
   "outputs": [
    {
     "data": {
      "text/html": [
       "<div>\n",
       "<style scoped>\n",
       "    .dataframe tbody tr th:only-of-type {\n",
       "        vertical-align: middle;\n",
       "    }\n",
       "\n",
       "    .dataframe tbody tr th {\n",
       "        vertical-align: top;\n",
       "    }\n",
       "\n",
       "    .dataframe thead th {\n",
       "        text-align: right;\n",
       "    }\n",
       "</style>\n",
       "<table border=\"1\" class=\"dataframe\">\n",
       "  <thead>\n",
       "    <tr style=\"text-align: right;\">\n",
       "      <th></th>\n",
       "      <th>Company</th>\n",
       "      <th>SpecificOrigin_BarName</th>\n",
       "      <th>REF</th>\n",
       "      <th>ReviewDate</th>\n",
       "      <th>CocoaPerc</th>\n",
       "      <th>CompLoc</th>\n",
       "      <th>Rating</th>\n",
       "      <th>BeanType</th>\n",
       "      <th>BroadBeanOrigin</th>\n",
       "    </tr>\n",
       "  </thead>\n",
       "  <tbody>\n",
       "    <tr>\n",
       "      <th>0</th>\n",
       "      <td>A. Morin</td>\n",
       "      <td>Agua Grande</td>\n",
       "      <td>1876</td>\n",
       "      <td>2016</td>\n",
       "      <td>63%</td>\n",
       "      <td>France</td>\n",
       "      <td>3.75</td>\n",
       "      <td></td>\n",
       "      <td>Sao Tome</td>\n",
       "    </tr>\n",
       "    <tr>\n",
       "      <th>1</th>\n",
       "      <td>A. Morin</td>\n",
       "      <td>Kpime</td>\n",
       "      <td>1676</td>\n",
       "      <td>2015</td>\n",
       "      <td>70%</td>\n",
       "      <td>France</td>\n",
       "      <td>2.75</td>\n",
       "      <td></td>\n",
       "      <td>Togo</td>\n",
       "    </tr>\n",
       "    <tr>\n",
       "      <th>2</th>\n",
       "      <td>A. Morin</td>\n",
       "      <td>Atsane</td>\n",
       "      <td>1676</td>\n",
       "      <td>2015</td>\n",
       "      <td>70%</td>\n",
       "      <td>France</td>\n",
       "      <td>3.00</td>\n",
       "      <td></td>\n",
       "      <td>Togo</td>\n",
       "    </tr>\n",
       "    <tr>\n",
       "      <th>3</th>\n",
       "      <td>A. Morin</td>\n",
       "      <td>Akata</td>\n",
       "      <td>1680</td>\n",
       "      <td>2015</td>\n",
       "      <td>70%</td>\n",
       "      <td>France</td>\n",
       "      <td>3.50</td>\n",
       "      <td></td>\n",
       "      <td>Togo</td>\n",
       "    </tr>\n",
       "    <tr>\n",
       "      <th>4</th>\n",
       "      <td>A. Morin</td>\n",
       "      <td>Quilla</td>\n",
       "      <td>1704</td>\n",
       "      <td>2015</td>\n",
       "      <td>70%</td>\n",
       "      <td>France</td>\n",
       "      <td>3.50</td>\n",
       "      <td></td>\n",
       "      <td>Peru</td>\n",
       "    </tr>\n",
       "  </tbody>\n",
       "</table>\n",
       "</div>"
      ],
      "text/plain": [
       "    Company SpecificOrigin_BarName   REF  ReviewDate CocoaPerc CompLoc  \\\n",
       "0  A. Morin            Agua Grande  1876        2016       63%  France   \n",
       "1  A. Morin                  Kpime  1676        2015       70%  France   \n",
       "2  A. Morin                 Atsane  1676        2015       70%  France   \n",
       "3  A. Morin                  Akata  1680        2015       70%  France   \n",
       "4  A. Morin                 Quilla  1704        2015       70%  France   \n",
       "\n",
       "   Rating BeanType BroadBeanOrigin  \n",
       "0    3.75                 Sao Tome  \n",
       "1    2.75                     Togo  \n",
       "2    3.00                     Togo  \n",
       "3    3.50                     Togo  \n",
       "4    3.50                     Peru  "
      ]
     },
     "execution_count": 5,
     "metadata": {},
     "output_type": "execute_result"
    }
   ],
   "source": [
    "cacao.head()"
   ]
  },
  {
   "cell_type": "code",
   "execution_count": 6,
   "metadata": {
    "scrolled": true
   },
   "outputs": [
    {
     "data": {
      "text/html": [
       "<div>\n",
       "<style scoped>\n",
       "    .dataframe tbody tr th:only-of-type {\n",
       "        vertical-align: middle;\n",
       "    }\n",
       "\n",
       "    .dataframe tbody tr th {\n",
       "        vertical-align: top;\n",
       "    }\n",
       "\n",
       "    .dataframe thead th {\n",
       "        text-align: right;\n",
       "    }\n",
       "</style>\n",
       "<table border=\"1\" class=\"dataframe\">\n",
       "  <thead>\n",
       "    <tr style=\"text-align: right;\">\n",
       "      <th></th>\n",
       "      <th>Company</th>\n",
       "      <th>SpecificOrigin_BarName</th>\n",
       "      <th>REF</th>\n",
       "      <th>ReviewDate</th>\n",
       "      <th>CocoaPerc</th>\n",
       "      <th>CompLoc</th>\n",
       "      <th>Rating</th>\n",
       "      <th>BeanType</th>\n",
       "      <th>BroadBeanOrigin</th>\n",
       "    </tr>\n",
       "  </thead>\n",
       "  <tbody>\n",
       "    <tr>\n",
       "      <th>78</th>\n",
       "      <td>Amedei</td>\n",
       "      <td>Chuao</td>\n",
       "      <td>111</td>\n",
       "      <td>2007</td>\n",
       "      <td>70%</td>\n",
       "      <td>Italy</td>\n",
       "      <td>5.0</td>\n",
       "      <td>Trinitario</td>\n",
       "      <td>Venezuela</td>\n",
       "    </tr>\n",
       "    <tr>\n",
       "      <th>86</th>\n",
       "      <td>Amedei</td>\n",
       "      <td>Toscano Black</td>\n",
       "      <td>40</td>\n",
       "      <td>2006</td>\n",
       "      <td>70%</td>\n",
       "      <td>Italy</td>\n",
       "      <td>5.0</td>\n",
       "      <td>Blend</td>\n",
       "      <td></td>\n",
       "    </tr>\n",
       "    <tr>\n",
       "      <th>222</th>\n",
       "      <td>Bonnat</td>\n",
       "      <td>Kaori</td>\n",
       "      <td>1339</td>\n",
       "      <td>2014</td>\n",
       "      <td>75%</td>\n",
       "      <td>France</td>\n",
       "      <td>4.0</td>\n",
       "      <td></td>\n",
       "      <td>Brazil</td>\n",
       "    </tr>\n",
       "    <tr>\n",
       "      <th>76</th>\n",
       "      <td>Amedei</td>\n",
       "      <td>Porcelana</td>\n",
       "      <td>111</td>\n",
       "      <td>2007</td>\n",
       "      <td>70%</td>\n",
       "      <td>Italy</td>\n",
       "      <td>4.0</td>\n",
       "      <td>Criollo (Porcelana)</td>\n",
       "      <td>Venezuela</td>\n",
       "    </tr>\n",
       "    <tr>\n",
       "      <th>1663</th>\n",
       "      <td>Tobago Estate (Pralus)</td>\n",
       "      <td>Roxborough, Tobago</td>\n",
       "      <td>895</td>\n",
       "      <td>2012</td>\n",
       "      <td>70%</td>\n",
       "      <td>France</td>\n",
       "      <td>4.0</td>\n",
       "      <td>Trinitario</td>\n",
       "      <td>Tobago</td>\n",
       "    </tr>\n",
       "  </tbody>\n",
       "</table>\n",
       "</div>"
      ],
      "text/plain": [
       "                     Company SpecificOrigin_BarName   REF  ReviewDate  \\\n",
       "78                    Amedei                  Chuao   111        2007   \n",
       "86                    Amedei          Toscano Black    40        2006   \n",
       "222                   Bonnat                  Kaori  1339        2014   \n",
       "76                    Amedei              Porcelana   111        2007   \n",
       "1663  Tobago Estate (Pralus)     Roxborough, Tobago   895        2012   \n",
       "\n",
       "     CocoaPerc CompLoc  Rating             BeanType BroadBeanOrigin  \n",
       "78         70%   Italy     5.0           Trinitario       Venezuela  \n",
       "86         70%   Italy     5.0                Blend                  \n",
       "222        75%  France     4.0                               Brazil  \n",
       "76         70%   Italy     4.0  Criollo (Porcelana)       Venezuela  \n",
       "1663       70%  France     4.0           Trinitario          Tobago  "
      ]
     },
     "execution_count": 6,
     "metadata": {},
     "output_type": "execute_result"
    }
   ],
   "source": [
    "sort_rating = cacao.sort_values(by = 'Rating', ascending = False)\n",
    "sort_rating.head()"
   ]
  },
  {
   "cell_type": "code",
   "execution_count": 7,
   "metadata": {},
   "outputs": [
    {
     "data": {
      "text/html": [
       "<div>\n",
       "<style scoped>\n",
       "    .dataframe tbody tr th:only-of-type {\n",
       "        vertical-align: middle;\n",
       "    }\n",
       "\n",
       "    .dataframe tbody tr th {\n",
       "        vertical-align: top;\n",
       "    }\n",
       "\n",
       "    .dataframe thead th {\n",
       "        text-align: right;\n",
       "    }\n",
       "</style>\n",
       "<table border=\"1\" class=\"dataframe\">\n",
       "  <thead>\n",
       "    <tr style=\"text-align: right;\">\n",
       "      <th></th>\n",
       "      <th>Company</th>\n",
       "      <th>SpecificOrigin_BarName</th>\n",
       "      <th>REF</th>\n",
       "      <th>ReviewDate</th>\n",
       "      <th>CocoaPerc</th>\n",
       "      <th>CompLoc</th>\n",
       "      <th>Rating</th>\n",
       "      <th>BeanType</th>\n",
       "      <th>BroadBeanOrigin</th>\n",
       "    </tr>\n",
       "  </thead>\n",
       "  <tbody>\n",
       "    <tr>\n",
       "      <th>245</th>\n",
       "      <td>Bonnat</td>\n",
       "      <td>One Hundred</td>\n",
       "      <td>81</td>\n",
       "      <td>2006</td>\n",
       "      <td>100%</td>\n",
       "      <td>France</td>\n",
       "      <td>1.50</td>\n",
       "      <td></td>\n",
       "      <td></td>\n",
       "    </tr>\n",
       "    <tr>\n",
       "      <th>1204</th>\n",
       "      <td>Ocho</td>\n",
       "      <td>Sang Yum Coop</td>\n",
       "      <td>1760</td>\n",
       "      <td>2016</td>\n",
       "      <td>100%</td>\n",
       "      <td>New Zealand</td>\n",
       "      <td>2.75</td>\n",
       "      <td></td>\n",
       "      <td>Samoa</td>\n",
       "    </tr>\n",
       "    <tr>\n",
       "      <th>1319</th>\n",
       "      <td>Pralus</td>\n",
       "      <td>Sambirano Valley, Le 100%</td>\n",
       "      <td>202</td>\n",
       "      <td>2008</td>\n",
       "      <td>100%</td>\n",
       "      <td>France</td>\n",
       "      <td>3.00</td>\n",
       "      <td>Criollo</td>\n",
       "      <td>Madagascar</td>\n",
       "    </tr>\n",
       "    <tr>\n",
       "      <th>1411</th>\n",
       "      <td>S.A.I.D.</td>\n",
       "      <td>100 percent</td>\n",
       "      <td>615</td>\n",
       "      <td>2010</td>\n",
       "      <td>100%</td>\n",
       "      <td>Italy</td>\n",
       "      <td>1.50</td>\n",
       "      <td></td>\n",
       "      <td></td>\n",
       "    </tr>\n",
       "    <tr>\n",
       "      <th>1466</th>\n",
       "      <td>Sirene</td>\n",
       "      <td>Somia Plantation, 2012</td>\n",
       "      <td>1502</td>\n",
       "      <td>2015</td>\n",
       "      <td>100%</td>\n",
       "      <td>Canada</td>\n",
       "      <td>3.00</td>\n",
       "      <td>Trinitario</td>\n",
       "      <td>Madagascar</td>\n",
       "    </tr>\n",
       "  </tbody>\n",
       "</table>\n",
       "</div>"
      ],
      "text/plain": [
       "       Company     SpecificOrigin_BarName   REF  ReviewDate CocoaPerc  \\\n",
       "245     Bonnat                One Hundred    81        2006      100%   \n",
       "1204      Ocho              Sang Yum Coop  1760        2016      100%   \n",
       "1319    Pralus  Sambirano Valley, Le 100%   202        2008      100%   \n",
       "1411  S.A.I.D.                100 percent   615        2010      100%   \n",
       "1466    Sirene     Somia Plantation, 2012  1502        2015      100%   \n",
       "\n",
       "          CompLoc  Rating    BeanType BroadBeanOrigin  \n",
       "245        France    1.50                              \n",
       "1204  New Zealand    2.75                       Samoa  \n",
       "1319       France    3.00     Criollo      Madagascar  \n",
       "1411        Italy    1.50                              \n",
       "1466       Canada    3.00  Trinitario      Madagascar  "
      ]
     },
     "execution_count": 7,
     "metadata": {},
     "output_type": "execute_result"
    }
   ],
   "source": [
    "sort_percent = cacao.sort_values(by = 'CocoaPerc')\n",
    "sort_percent.head()"
   ]
  },
  {
   "cell_type": "markdown",
   "metadata": {},
   "source": [
    "## Find the max rating from each company"
   ]
  },
  {
   "cell_type": "code",
   "execution_count": 8,
   "metadata": {},
   "outputs": [
    {
     "data": {
      "text/plain": [
       "Company\n",
       "Amedei      5.0\n",
       "A. Morin    4.0\n",
       "Danta       4.0\n",
       "Durci       4.0\n",
       "Ritual      4.0\n",
       "Name: Rating, dtype: float64"
      ]
     },
     "execution_count": 8,
     "metadata": {},
     "output_type": "execute_result"
    }
   ],
   "source": [
    "maxCompRating = cacao.groupby('Company')['Rating'].max()\n",
    "maxCompRating = maxCompRating.sort_values(ascending = False)\n",
    "maxCompRating.head()"
   ]
  },
  {
   "cell_type": "code",
   "execution_count": 9,
   "metadata": {},
   "outputs": [
    {
     "data": {
      "text/plain": [
       "(array([  4.,  13.,  32., 141., 259., 644., 602.,  98.,   0.,   2.]),\n",
       " array([1. , 1.4, 1.8, 2.2, 2.6, 3. , 3.4, 3.8, 4.2, 4.6, 5. ]),\n",
       " <a list of 10 Patch objects>)"
      ]
     },
     "execution_count": 9,
     "metadata": {},
     "output_type": "execute_result"
    },
    {
     "data": {
      "image/png": "[encoded data removed]",
      "text/plain": [
       "<matplotlib.figure.Figure at 0x1059972b0>"
      ]
     },
     "metadata": {},
     "output_type": "display_data"
    }
   ],
   "source": [
    "# histograms of ratings\n",
    "plt.hist(cacao[cacao.columns[6]])\n"
   ]
  },
  {
   "cell_type": "code",
   "execution_count": 10,
   "metadata": {},
   "outputs": [
    {
     "data": {
      "text/plain": [
       "Company\n",
       "Soma        47\n",
       "Bonnat      27\n",
       "Fresco      26\n",
       "Pralus      25\n",
       "A. Morin    23\n",
       "Name: Company, dtype: int64"
      ]
     },
     "execution_count": 10,
     "metadata": {},
     "output_type": "execute_result"
    }
   ],
   "source": [
    "# Count of how many chocolate bars are from each company\n",
    "company_count = cacao.groupby('Company').Company.count()\n",
    "company_count = company_count.sort_values(ascending = False)\n",
    "company_count.head()"
   ]
  },
  {
   "cell_type": "code",
   "execution_count": 11,
   "metadata": {},
   "outputs": [
    {
     "data": {
      "text/html": [
       "<div>\n",
       "<style scoped>\n",
       "    .dataframe tbody tr th:only-of-type {\n",
       "        vertical-align: middle;\n",
       "    }\n",
       "\n",
       "    .dataframe tbody tr th {\n",
       "        vertical-align: top;\n",
       "    }\n",
       "\n",
       "    .dataframe thead th {\n",
       "        text-align: right;\n",
       "    }\n",
       "</style>\n",
       "<table border=\"1\" class=\"dataframe\">\n",
       "  <thead>\n",
       "    <tr style=\"text-align: right;\">\n",
       "      <th>Company</th>\n",
       "      <th>A. Morin</th>\n",
       "      <th>AMMA</th>\n",
       "      <th>Acalli</th>\n",
       "      <th>Adi</th>\n",
       "      <th>Aequare (Gianduja)</th>\n",
       "      <th>Ah Cacao</th>\n",
       "      <th>Akesson's (Pralus)</th>\n",
       "      <th>Alain Ducasse</th>\n",
       "      <th>Alexandre</th>\n",
       "      <th>Altus aka Cao Artisan</th>\n",
       "      <th>...</th>\n",
       "      <th>Xocolla</th>\n",
       "      <th>Zak's</th>\n",
       "      <th>Zart Pralinen</th>\n",
       "      <th>Zokoko</th>\n",
       "      <th>Zotter</th>\n",
       "      <th>hello cocoa</th>\n",
       "      <th>hexx</th>\n",
       "      <th>iQ Chocolate</th>\n",
       "      <th>organicfair</th>\n",
       "      <th>twenty-four blackbirds</th>\n",
       "    </tr>\n",
       "  </thead>\n",
       "  <tbody>\n",
       "    <tr>\n",
       "      <th>Rating</th>\n",
       "      <td>3.380435</td>\n",
       "      <td>3.5</td>\n",
       "      <td>3.75</td>\n",
       "      <td>3.25</td>\n",
       "      <td>2.875</td>\n",
       "      <td>3.0</td>\n",
       "      <td>3.083333</td>\n",
       "      <td>2.7</td>\n",
       "      <td>3.5</td>\n",
       "      <td>2.85</td>\n",
       "      <td>...</td>\n",
       "      <td>2.625</td>\n",
       "      <td>3.208333</td>\n",
       "      <td>3.166667</td>\n",
       "      <td>3.55</td>\n",
       "      <td>3.308824</td>\n",
       "      <td>3.125</td>\n",
       "      <td>3.05</td>\n",
       "      <td>2.875</td>\n",
       "      <td>2.85</td>\n",
       "      <td>3.041667</td>\n",
       "    </tr>\n",
       "  </tbody>\n",
       "</table>\n",
       "<p>1 rows × 416 columns</p>\n",
       "</div>"
      ],
      "text/plain": [
       "Company  A. Morin  AMMA  Acalli   Adi  Aequare (Gianduja)  Ah Cacao  \\\n",
       "Rating   3.380435   3.5    3.75  3.25               2.875       3.0   \n",
       "\n",
       "Company  Akesson's (Pralus)  Alain Ducasse  Alexandre  Altus aka Cao Artisan  \\\n",
       "Rating             3.083333            2.7        3.5                   2.85   \n",
       "\n",
       "Company           ...            Xocolla     Zak's  Zart Pralinen  Zokoko  \\\n",
       "Rating            ...              2.625  3.208333       3.166667    3.55   \n",
       "\n",
       "Company    Zotter  hello cocoa  hexx  iQ Chocolate  organicfair  \\\n",
       "Rating   3.308824        3.125  3.05         2.875         2.85   \n",
       "\n",
       "Company  twenty-four blackbirds  \n",
       "Rating                 3.041667  \n",
       "\n",
       "[1 rows x 416 columns]"
      ]
     },
     "execution_count": 11,
     "metadata": {},
     "output_type": "execute_result"
    }
   ],
   "source": [
    "# mean rating for each company\n",
    "cacao.pivot_table('Rating', columns = 'Company', aggfunc = np.mean)"
   ]
  },
  {
   "cell_type": "code",
   "execution_count": 17,
   "metadata": {},
   "outputs": [
    {
     "data": {
      "text/plain": [
       "BroadBeanOrigin\n",
       "Africa, Carribean, C. Am.       2.750000\n",
       "Australia                       3.250000\n",
       "Belize                          3.234694\n",
       "Bolivia                         3.197368\n",
       "Brazil                          3.284483\n",
       "Burma                           3.000000\n",
       "Cameroon                        3.250000\n",
       "Carribean                       2.968750\n",
       "Carribean(DR/Jam/Tri)           3.000000\n",
       "Central and S. America          3.250000\n",
       "Colombia                        3.225000\n",
       "Colombia, Ecuador               2.916667\n",
       "Congo                           3.325000\n",
       "Cost Rica, Ven                  2.750000\n",
       "Costa Rica                      3.144737\n",
       "Cuba                            3.250000\n",
       "DR, Ecuador, Peru               3.750000\n",
       "Dom. Rep., Madagascar           4.000000\n",
       "Domincan Republic               3.190000\n",
       "Dominican Rep., Bali            3.750000\n",
       "Dominican Republic              3.209220\n",
       "Ecuador                         3.134715\n",
       "Ecuador, Costa Rica             3.250000\n",
       "Ecuador, Mad., PNG              3.000000\n",
       "El Salvador                     2.875000\n",
       "Fiji                            3.125000\n",
       "Gabon                           3.250000\n",
       "Ghana                           3.090909\n",
       "Ghana & Madagascar              2.000000\n",
       "Ghana, Domin. Rep               2.875000\n",
       "                                  ...   \n",
       "South America                   3.666667\n",
       "South America, Africa           3.000000\n",
       "Sri Lanka                       2.875000\n",
       "St. Lucia                       2.968750\n",
       "Suriname                        3.250000\n",
       "Tanzania                        3.205882\n",
       "Tobago                          3.625000\n",
       "Togo                            3.083333\n",
       "Trinidad                        3.204545\n",
       "Trinidad, Ecuador               3.500000\n",
       "Trinidad, Tobago                3.375000\n",
       "Trinidad-Tobago                 2.750000\n",
       "Uganda                          2.812500\n",
       "Vanuatu                         3.250000\n",
       "Ven, Bolivia, D.R.              4.000000\n",
       "Ven, Trinidad, Ecuador          3.250000\n",
       "Ven., Indonesia, Ecuad.         3.500000\n",
       "Ven., Trinidad, Mad.            3.000000\n",
       "Ven.,Ecu.,Peru,Nic.             3.750000\n",
       "Venez,Africa,Brasil,Peru,Mex    3.750000\n",
       "Venezuela                       3.245327\n",
       "Venezuela, Carribean            3.000000\n",
       "Venezuela, Dom. Rep.            2.750000\n",
       "Venezuela, Ghana                3.000000\n",
       "Venezuela, Java                 4.000000\n",
       "Venezuela, Trinidad             2.500000\n",
       "Venezuela/ Ghana                3.500000\n",
       "Vietnam                         3.315789\n",
       "West Africa                     2.583333\n",
       "                                2.955479\n",
       "Name: Rating, Length: 100, dtype: float64"
      ]
     },
     "execution_count": 17,
     "metadata": {},
     "output_type": "execute_result"
    }
   ],
   "source": [
    "# max rating from each broad bean origin location\n",
    "bbo = cacao.groupby('BroadBeanOrigin')['Rating'].mean()\n",
    "bbo"
   ]
  },
  {
   "cell_type": "code",
   "execution_count": null,
   "metadata": {},
   "outputs": [],
   "source": [
    "#cut out the rows with no broad bean origin\n",
    "#cut out the rows with no bean type\n",
    "#cut out the rows with no broad bean origin and no bean type\n",
    "#add min max columns to the table, maybe averages too?\n",
    "# add a count of how many bars are in that catagory\n",
    "##these are 3 seperate tables\n",
    "\n",
    "\n",
    "#ask professor how to work with words bc the broad bean origin is shaky\n",
    "#get screenshots of the maps from Tableau to put in doument and presentation\n",
    "#talk to her about how to run a knn when you've only got 2 types of number to work with\n",
    "\n"
   ]
  },
  {
   "cell_type": "code",
   "execution_count": null,
   "metadata": {
    "collapsed": true
   },
   "outputs": [],
   "source": []
  }
 ],
 "metadata": {
  "anaconda-cloud": {},
  "kernelspec": {
   "display_name": "Python 3",
   "language": "python",
   "name": "python3"
  },
  "language_info": {
   "codemirror_mode": {
    "name": "ipython",
    "version": 3
   },
   "file_extension": ".py",
   "mimetype": "text/x-python",
   "name": "python",
   "nbconvert_exporter": "python",
   "pygments_lexer": "ipython3",
   "version": "3.6.4"
  }
 },
 "nbformat": 4,
 "nbformat_minor": 1
}
