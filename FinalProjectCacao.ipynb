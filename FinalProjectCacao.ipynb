{
 "cells": [
  {
   "cell_type": "code",
   "execution_count": 28,
   "metadata": {
    "collapsed": true
   },
   "outputs": [],
   "source": [
    "import pandas as pd\n",
    "import numpy as np\n",
    "import matplotlib.pyplot as plt\n",
    "\n",
    "# use to display plots in ipython notebook\n",
    "%matplotlib inline"
   ]
  },
  {
   "cell_type": "markdown",
   "metadata": {},
   "source": [
    "## Read in Data\n",
    "### Path is set so that the csv file is in the same directory as the ipython notebook file"
   ]
  },
  {
   "cell_type": "code",
   "execution_count": 3,
   "metadata": {
    "collapsed": true
   },
   "outputs": [],
   "source": [
    "cacao = pd.read_csv('flavors_of_cacao.csv')"
   ]
  },
  {
   "cell_type": "code",
   "execution_count": 4,
   "metadata": {
    "collapsed": true
   },
   "outputs": [],
   "source": [
    "cacao.columns = ['Company', 'SpecificOrigin_BarName','REF','ReviewDate','CocoaPerc','CompLoc','Rating','BeanType','BroadBeanOrigin']"
   ]
  },
  {
   "cell_type": "code",
   "execution_count": 5,
   "metadata": {
    "scrolled": true
   },
   "outputs": [
    {
     "data": {
      "text/html": [
       "<div>\n",
       "<table border=\"1\" class=\"dataframe\">\n",
       "  <thead>\n",
       "    <tr style=\"text-align: right;\">\n",
       "      <th></th>\n",
       "      <th>Company</th>\n",
       "      <th>SpecificOrigin_BarName</th>\n",
       "      <th>REF</th>\n",
       "      <th>ReviewDate</th>\n",
       "      <th>CocoaPerc</th>\n",
       "      <th>CompLoc</th>\n",
       "      <th>Rating</th>\n",
       "      <th>BeanType</th>\n",
       "      <th>BroadBeanOrigin</th>\n",
       "    </tr>\n",
       "  </thead>\n",
       "  <tbody>\n",
       "    <tr>\n",
       "      <th>0</th>\n",
       "      <td>A. Morin</td>\n",
       "      <td>Agua Grande</td>\n",
       "      <td>1876</td>\n",
       "      <td>2016</td>\n",
       "      <td>63%</td>\n",
       "      <td>France</td>\n",
       "      <td>3.75</td>\n",
       "      <td></td>\n",
       "      <td>Sao Tome</td>\n",
       "    </tr>\n",
       "    <tr>\n",
       "      <th>1</th>\n",
       "      <td>A. Morin</td>\n",
       "      <td>Kpime</td>\n",
       "      <td>1676</td>\n",
       "      <td>2015</td>\n",
       "      <td>70%</td>\n",
       "      <td>France</td>\n",
       "      <td>2.75</td>\n",
       "      <td></td>\n",
       "      <td>Togo</td>\n",
       "    </tr>\n",
       "    <tr>\n",
       "      <th>2</th>\n",
       "      <td>A. Morin</td>\n",
       "      <td>Atsane</td>\n",
       "      <td>1676</td>\n",
       "      <td>2015</td>\n",
       "      <td>70%</td>\n",
       "      <td>France</td>\n",
       "      <td>3.00</td>\n",
       "      <td></td>\n",
       "      <td>Togo</td>\n",
       "    </tr>\n",
       "    <tr>\n",
       "      <th>3</th>\n",
       "      <td>A. Morin</td>\n",
       "      <td>Akata</td>\n",
       "      <td>1680</td>\n",
       "      <td>2015</td>\n",
       "      <td>70%</td>\n",
       "      <td>France</td>\n",
       "      <td>3.50</td>\n",
       "      <td></td>\n",
       "      <td>Togo</td>\n",
       "    </tr>\n",
       "    <tr>\n",
       "      <th>4</th>\n",
       "      <td>A. Morin</td>\n",
       "      <td>Quilla</td>\n",
       "      <td>1704</td>\n",
       "      <td>2015</td>\n",
       "      <td>70%</td>\n",
       "      <td>France</td>\n",
       "      <td>3.50</td>\n",
       "      <td></td>\n",
       "      <td>Peru</td>\n",
       "    </tr>\n",
       "  </tbody>\n",
       "</table>\n",
       "</div>"
      ],
      "text/plain": [
       "    Company SpecificOrigin_BarName   REF  ReviewDate CocoaPerc CompLoc  \\\n",
       "0  A. Morin            Agua Grande  1876        2016       63%  France   \n",
       "1  A. Morin                  Kpime  1676        2015       70%  France   \n",
       "2  A. Morin                 Atsane  1676        2015       70%  France   \n",
       "3  A. Morin                  Akata  1680        2015       70%  France   \n",
       "4  A. Morin                 Quilla  1704        2015       70%  France   \n",
       "\n",
       "   Rating BeanType BroadBeanOrigin  \n",
       "0    3.75                 Sao Tome  \n",
       "1    2.75                     Togo  \n",
       "2    3.00                     Togo  \n",
       "3    3.50                     Togo  \n",
       "4    3.50                     Peru  "
      ]
     },
     "execution_count": 5,
     "metadata": {},
     "output_type": "execute_result"
    }
   ],
   "source": [
    "cacao.head()"
   ]
  },
  {
   "cell_type": "code",
   "execution_count": 12,
   "metadata": {
    "scrolled": true
   },
   "outputs": [
    {
     "data": {
      "text/html": [
       "<div>\n",
       "<table border=\"1\" class=\"dataframe\">\n",
       "  <thead>\n",
       "    <tr style=\"text-align: right;\">\n",
       "      <th></th>\n",
       "      <th>Company</th>\n",
       "      <th>SpecificOrigin_BarName</th>\n",
       "      <th>REF</th>\n",
       "      <th>ReviewDate</th>\n",
       "      <th>CocoaPerc</th>\n",
       "      <th>CompLoc</th>\n",
       "      <th>Rating</th>\n",
       "      <th>BeanType</th>\n",
       "      <th>BroadBeanOrigin</th>\n",
       "    </tr>\n",
       "  </thead>\n",
       "  <tbody>\n",
       "    <tr>\n",
       "      <th>78</th>\n",
       "      <td>Amedei</td>\n",
       "      <td>Chuao</td>\n",
       "      <td>111</td>\n",
       "      <td>2007</td>\n",
       "      <td>70%</td>\n",
       "      <td>Italy</td>\n",
       "      <td>5.0</td>\n",
       "      <td>Trinitario</td>\n",
       "      <td>Venezuela</td>\n",
       "    </tr>\n",
       "    <tr>\n",
       "      <th>86</th>\n",
       "      <td>Amedei</td>\n",
       "      <td>Toscano Black</td>\n",
       "      <td>40</td>\n",
       "      <td>2006</td>\n",
       "      <td>70%</td>\n",
       "      <td>Italy</td>\n",
       "      <td>5.0</td>\n",
       "      <td>Blend</td>\n",
       "      <td></td>\n",
       "    </tr>\n",
       "    <tr>\n",
       "      <th>719</th>\n",
       "      <td>Fruition</td>\n",
       "      <td>Coto Brus, Heirloom, Batch 1</td>\n",
       "      <td>1780</td>\n",
       "      <td>2016</td>\n",
       "      <td>74%</td>\n",
       "      <td>U.S.A.</td>\n",
       "      <td>4.0</td>\n",
       "      <td>Amazon mix</td>\n",
       "      <td>Costa Rica</td>\n",
       "    </tr>\n",
       "    <tr>\n",
       "      <th>1273</th>\n",
       "      <td>Patric</td>\n",
       "      <td>Madagascar</td>\n",
       "      <td>331</td>\n",
       "      <td>2009</td>\n",
       "      <td>75%</td>\n",
       "      <td>U.S.A.</td>\n",
       "      <td>4.0</td>\n",
       "      <td>Trinitario</td>\n",
       "      <td>Madagascar</td>\n",
       "    </tr>\n",
       "    <tr>\n",
       "      <th>222</th>\n",
       "      <td>Bonnat</td>\n",
       "      <td>Kaori</td>\n",
       "      <td>1339</td>\n",
       "      <td>2014</td>\n",
       "      <td>75%</td>\n",
       "      <td>France</td>\n",
       "      <td>4.0</td>\n",
       "      <td></td>\n",
       "      <td>Brazil</td>\n",
       "    </tr>\n",
       "  </tbody>\n",
       "</table>\n",
       "</div>"
      ],
      "text/plain": [
       "       Company        SpecificOrigin_BarName   REF  ReviewDate CocoaPerc  \\\n",
       "78      Amedei                         Chuao   111        2007       70%   \n",
       "86      Amedei                 Toscano Black    40        2006       70%   \n",
       "719   Fruition  Coto Brus, Heirloom, Batch 1  1780        2016       74%   \n",
       "1273    Patric                    Madagascar   331        2009       75%   \n",
       "222     Bonnat                         Kaori  1339        2014       75%   \n",
       "\n",
       "     CompLoc  Rating    BeanType BroadBeanOrigin  \n",
       "78     Italy     5.0  Trinitario       Venezuela  \n",
       "86     Italy     5.0       Blend                  \n",
       "719   U.S.A.     4.0  Amazon mix      Costa Rica  \n",
       "1273  U.S.A.     4.0  Trinitario      Madagascar  \n",
       "222   France     4.0                      Brazil  "
      ]
     },
     "execution_count": 12,
     "metadata": {},
     "output_type": "execute_result"
    }
   ],
   "source": [
    "sort_rating = cacao.sort_values(by = 'Rating', ascending = False)\n",
    "sort_rating.head()"
   ]
  },
  {
   "cell_type": "code",
   "execution_count": 14,
   "metadata": {},
   "outputs": [
    {
     "data": {
      "text/html": [
       "<div>\n",
       "<table border=\"1\" class=\"dataframe\">\n",
       "  <thead>\n",
       "    <tr style=\"text-align: right;\">\n",
       "      <th></th>\n",
       "      <th>Company</th>\n",
       "      <th>SpecificOrigin_BarName</th>\n",
       "      <th>REF</th>\n",
       "      <th>ReviewDate</th>\n",
       "      <th>CocoaPerc</th>\n",
       "      <th>CompLoc</th>\n",
       "      <th>Rating</th>\n",
       "      <th>BeanType</th>\n",
       "      <th>BroadBeanOrigin</th>\n",
       "    </tr>\n",
       "  </thead>\n",
       "  <tbody>\n",
       "    <tr>\n",
       "      <th>557</th>\n",
       "      <td>Domori</td>\n",
       "      <td>IL100, H. San Jose</td>\n",
       "      <td>1109</td>\n",
       "      <td>2013</td>\n",
       "      <td>100%</td>\n",
       "      <td>Italy</td>\n",
       "      <td>3.00</td>\n",
       "      <td>Criollo</td>\n",
       "      <td>Venezuela</td>\n",
       "    </tr>\n",
       "    <tr>\n",
       "      <th>835</th>\n",
       "      <td>Hotel Chocolat (Coppeneur)</td>\n",
       "      <td>Los Rios, H. Iara, 2012, 120hr c.</td>\n",
       "      <td>1113</td>\n",
       "      <td>2013</td>\n",
       "      <td>100%</td>\n",
       "      <td>U.K.</td>\n",
       "      <td>2.50</td>\n",
       "      <td>Forastero (Nacional)</td>\n",
       "      <td>Ecuador</td>\n",
       "    </tr>\n",
       "    <tr>\n",
       "      <th>1204</th>\n",
       "      <td>Ocho</td>\n",
       "      <td>Sang Yum Coop</td>\n",
       "      <td>1760</td>\n",
       "      <td>2016</td>\n",
       "      <td>100%</td>\n",
       "      <td>New Zealand</td>\n",
       "      <td>2.75</td>\n",
       "      <td></td>\n",
       "      <td>Samoa</td>\n",
       "    </tr>\n",
       "    <tr>\n",
       "      <th>836</th>\n",
       "      <td>Hotel Chocolat (Coppeneur)</td>\n",
       "      <td>Conacado, 2012, 120hr c.</td>\n",
       "      <td>1113</td>\n",
       "      <td>2013</td>\n",
       "      <td>100%</td>\n",
       "      <td>U.K.</td>\n",
       "      <td>2.75</td>\n",
       "      <td></td>\n",
       "      <td>Dominican Republic</td>\n",
       "    </tr>\n",
       "    <tr>\n",
       "      <th>834</th>\n",
       "      <td>Hotel Chocolat (Coppeneur)</td>\n",
       "      <td>Chanchamayo, Pichanadi, 2012, 60hr c.</td>\n",
       "      <td>1109</td>\n",
       "      <td>2013</td>\n",
       "      <td>100%</td>\n",
       "      <td>U.K.</td>\n",
       "      <td>2.75</td>\n",
       "      <td></td>\n",
       "      <td>Peru</td>\n",
       "    </tr>\n",
       "  </tbody>\n",
       "</table>\n",
       "</div>"
      ],
      "text/plain": [
       "                         Company                 SpecificOrigin_BarName   REF  \\\n",
       "557                       Domori                     IL100, H. San Jose  1109   \n",
       "835   Hotel Chocolat (Coppeneur)      Los Rios, H. Iara, 2012, 120hr c.  1113   \n",
       "1204                        Ocho                          Sang Yum Coop  1760   \n",
       "836   Hotel Chocolat (Coppeneur)               Conacado, 2012, 120hr c.  1113   \n",
       "834   Hotel Chocolat (Coppeneur)  Chanchamayo, Pichanadi, 2012, 60hr c.  1109   \n",
       "\n",
       "      ReviewDate CocoaPerc      CompLoc  Rating              BeanType  \\\n",
       "557         2013      100%        Italy    3.00               Criollo   \n",
       "835         2013      100%         U.K.    2.50  Forastero (Nacional)   \n",
       "1204        2016      100%  New Zealand    2.75                         \n",
       "836         2013      100%         U.K.    2.75                         \n",
       "834         2013      100%         U.K.    2.75                         \n",
       "\n",
       "         BroadBeanOrigin  \n",
       "557            Venezuela  \n",
       "835              Ecuador  \n",
       "1204               Samoa  \n",
       "836   Dominican Republic  \n",
       "834                 Peru  "
      ]
     },
     "execution_count": 14,
     "metadata": {},
     "output_type": "execute_result"
    }
   ],
   "source": [
    "sort_percent = cacao.sort_values(by = 'CocoaPerc')\n",
    "sort_percent.head()"
   ]
  },
  {
   "cell_type": "markdown",
   "metadata": {},
   "source": [
    "## Find the max rating from each company"
   ]
  },
  {
   "cell_type": "code",
   "execution_count": 16,
   "metadata": {},
   "outputs": [
    {
     "data": {
      "text/plain": [
       "Company\n",
       "Amedei      5.0\n",
       "A. Morin    4.0\n",
       "Danta       4.0\n",
       "Durci       4.0\n",
       "Ritual      4.0\n",
       "Name: Rating, dtype: float64"
      ]
     },
     "execution_count": 16,
     "metadata": {},
     "output_type": "execute_result"
    }
   ],
   "source": [
    "maxCompRating = cacao.groupby('Company')['Rating'].max()\n",
    "maxCompRating = maxCompRating.sort_values(ascending = False)\n",
    "maxCompRating.head()"
   ]
  },
  {
   "cell_type": "code",
   "execution_count": 30,
   "metadata": {},
   "outputs": [
    {
     "data": {
      "text/plain": [
       "(array([   4.,   13.,   32.,  141.,  259.,  644.,  602.,   98.,    0.,    2.]),\n",
       " array([ 1. ,  1.4,  1.8,  2.2,  2.6,  3. ,  3.4,  3.8,  4.2,  4.6,  5. ]),\n",
       " <a list of 10 Patch objects>)"
      ]
     },
     "execution_count": 30,
     "metadata": {},
     "output_type": "execute_result"
    },
    {
     "data": {
      "image/png": "[encoded data removed]",
      "text/plain": [
       "<matplotlib.figure.Figure at 0x12204b748>"
      ]
     },
     "metadata": {},
     "output_type": "display_data"
    }
   ],
   "source": [
    "# histograms of ratings\n",
    "plt.hist(cacao[cacao.columns[6]])\n"
   ]
  },
  {
   "cell_type": "code",
   "execution_count": 57,
   "metadata": {},
   "outputs": [
    {
     "data": {
      "text/plain": [
       "Company\n",
       "Soma        47\n",
       "Bonnat      27\n",
       "Fresco      26\n",
       "Pralus      25\n",
       "A. Morin    23\n",
       "Name: Company, dtype: int64"
      ]
     },
     "execution_count": 57,
     "metadata": {},
     "output_type": "execute_result"
    }
   ],
   "source": [
    "# Count of how many chocolate bars are from each company\n",
    "company_count = cacao.groupby('Company').Company.count()\n",
    "company_count = company_count.sort_values(ascending = False)\n",
    "company_count.head()"
   ]
  },
  {
   "cell_type": "code",
   "execution_count": 56,
   "metadata": {},
   "outputs": [
    {
     "data": {
      "text/plain": [
       "Company\n",
       "A. Morin                            3.380435\n",
       "AMMA                                3.500000\n",
       "Acalli                              3.750000\n",
       "Adi                                 3.250000\n",
       "Aequare (Gianduja)                  2.875000\n",
       "Ah Cacao                            3.000000\n",
       "Akesson's (Pralus)                  3.083333\n",
       "Alain Ducasse                       2.700000\n",
       "Alexandre                           3.500000\n",
       "Altus aka Cao Artisan               2.850000\n",
       "Amano                               3.416667\n",
       "Amatller (Simon Coll)               2.875000\n",
       "Amazona                             3.375000\n",
       "Ambrosia                            3.250000\n",
       "Amedei                              3.846154\n",
       "Anahata                             3.000000\n",
       "Animas                              3.500000\n",
       "Ara                                 2.812500\n",
       "Arete                               3.534091\n",
       "Artisan du Chocolat                 3.078125\n",
       "Artisan du Chocolat (Casa Luker)    2.750000\n",
       "Askinosie                           3.416667\n",
       "Bahen & Co.                         2.950000\n",
       "Bakau                               3.125000\n",
       "Bar Au Chocolat                     3.600000\n",
       "Baravelli's                         2.750000\n",
       "Batch                               3.500000\n",
       "Beau Cacao                          3.125000\n",
       "Beehive                             2.750000\n",
       "Belcolade                           2.937500\n",
       "                                      ...   \n",
       "Undone                              2.875000\n",
       "Upchurch                            3.125000\n",
       "Urzi                                3.250000\n",
       "Valrhona                            3.333333\n",
       "Vanleer (Barry Callebaut)           2.625000\n",
       "Vao Vao (Chocolaterie Robert)       2.916667\n",
       "Vicuna                              3.250000\n",
       "Videri                              3.450000\n",
       "Vietcacao (A. Morin)                3.500000\n",
       "Vintage Plantations                 3.000000\n",
       "Vintage Plantations (Tulicorp)      2.500000\n",
       "Violet Sky                          2.950000\n",
       "Vivra                               2.666667\n",
       "Wellington Chocolate Factory        3.500000\n",
       "Whittakers                          2.500000\n",
       "Wilkie's Organic                    2.812500\n",
       "Willie's Cacao                      3.218750\n",
       "Wm                                  3.416667\n",
       "Woodblock                           3.250000\n",
       "Xocolat                             3.000000\n",
       "Xocolla                             2.625000\n",
       "Zak's                               3.208333\n",
       "Zart Pralinen                       3.166667\n",
       "Zokoko                              3.550000\n",
       "Zotter                              3.308824\n",
       "hello cocoa                         3.125000\n",
       "hexx                                3.050000\n",
       "iQ Chocolate                        2.875000\n",
       "organicfair                         2.850000\n",
       "twenty-four blackbirds              3.041667\n",
       "Name: Rating, dtype: float64"
      ]
     },
     "execution_count": 56,
     "metadata": {},
     "output_type": "execute_result"
    }
   ],
   "source": [
    "# mean rating for each company\n",
    "cacao.pivot_table('Rating', columns = 'Company', aggfunc = np.mean)"
   ]
  },
  {
   "cell_type": "code",
   "execution_count": 48,
   "metadata": {},
   "outputs": [
    {
     "data": {
      "text/plain": [
       "BroadBeanOrigin\n",
       "Africa, Carribean, C. Am.    2.75\n",
       "Australia                    3.75\n",
       "Belize                       4.00\n",
       "Bolivia                      4.00\n",
       "Brazil                       4.00\n",
       "Name: Rating, dtype: float64"
      ]
     },
     "execution_count": 48,
     "metadata": {},
     "output_type": "execute_result"
    }
   ],
   "source": [
    "# max rating from each broad bean origin location\n",
    "bbo = cacao.groupby('BroadBeanOrigin')['Rating'].max()\n",
    "bbo.head()"
   ]
  },
  {
   "cell_type": "code",
   "execution_count": null,
   "metadata": {},
   "outputs": [],
   "source": []
  },
  {
   "cell_type": "code",
   "execution_count": null,
   "metadata": {
    "collapsed": true
   },
   "outputs": [],
   "source": []
  }
 ],
 "metadata": {
  "anaconda-cloud": {},
  "kernelspec": {
   "display_name": "Python [Root]",
   "language": "python",
   "name": "Python [Root]"
  },
  "language_info": {
   "codemirror_mode": {
    "name": "ipython",
    "version": 3
   },
   "file_extension": ".py",
   "mimetype": "text/x-python",
   "name": "python",
   "nbconvert_exporter": "python",
   "pygments_lexer": "ipython3",
   "version": "3.5.2"
  }
 },
 "nbformat": 4,
 "nbformat_minor": 1
}
